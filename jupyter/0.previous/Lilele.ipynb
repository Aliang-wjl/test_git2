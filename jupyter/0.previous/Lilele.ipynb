{
 "cells": [
  {
   "cell_type": "code",
   "execution_count": 1,
   "metadata": {},
   "outputs": [
    {
     "name": "stdout",
     "output_type": "stream",
     "text": [
      "<class 'pandas.core.frame.DataFrame'>\n",
      "RangeIndex: 10 entries, 0 to 9\n",
      "Data columns (total 2 columns):\n",
      " #   Column         Non-Null Count  Dtype  \n",
      "---  ------         --------------  -----  \n",
      " 0   interval       10 non-null     float64\n",
      " 1   concentration  10 non-null     float64\n",
      "dtypes: float64(2)\n",
      "memory usage: 288.0 bytes\n",
      "None\n",
      "   interval  concentration\n",
      "0       0.5          21.89\n",
      "1       1.0          35.23\n",
      "2       1.5          47.13\n",
      "3       2.0          56.01\n",
      "4       2.5          61.86\n"
     ]
    },
    {
     "data": {
      "text/plain": [
       "<matplotlib.collections.PathCollection at 0x27287a5a490>"
      ]
     },
     "execution_count": 1,
     "metadata": {},
     "output_type": "execute_result"
    },
    {
     "data": {
      "text/plain": [
       "Text(0.5, 0, 'Interval (hours)')"
      ]
     },
     "execution_count": 1,
     "metadata": {},
     "output_type": "execute_result"
    },
    {
     "data": {
      "text/plain": [
       "Text(0, 0.5, 'Concentration (g/ml)')"
      ]
     },
     "execution_count": 1,
     "metadata": {},
     "output_type": "execute_result"
    },
    {
     "data": {
      "image/png": "[encoded data removed]",
      "text/plain": [
       "<Figure size 432x288 with 1 Axes>"
      ]
     },
     "metadata": {
      "needs_background": "light"
     },
     "output_type": "display_data"
    }
   ],
   "source": [
    "import pandas as pd\n",
    "import matplotlib.pyplot as plt\n",
    "data = pd.DataFrame({\n",
    "    'interval': [0.5, 1, 1.5, 2, 2.5, 3, 3.5, 4, 4.5, 5],\n",
    "    'concentration': [21.89, 35.23, 47.13, 56.01, 61.86, 66.95, 70.78, 72.46, 72.81, 69.51]})\n",
    "print(data.info())\n",
    "print(data.head())\n",
    "plt.scatter(data['interval'], data['concentration'])\n",
    "plt.xlabel('Interval (hours)')\n",
    "plt.ylabel('Concentration (g/ml)')\n",
    "plt.show()"
   ]
  },
  {
   "cell_type": "code",
   "execution_count": 2,
   "metadata": {},
   "outputs": [
    {
     "name": "stdout",
     "output_type": "stream",
     "text": [
      "               interval  concentration\n",
      "interval       1.000000       0.909042\n",
      "concentration  0.909042       1.000000\n"
     ]
    }
   ],
   "source": [
    "corr_matrix = data.corr()\n",
    "print(corr_matrix)"
   ]
  },
  {
   "cell_type": "code",
   "execution_count": 3,
   "metadata": {},
   "outputs": [
    {
     "name": "stdout",
     "output_type": "stream",
     "text": [
      "Coefficient: [10.51745455]\n",
      "Intercept: 28.54\n"
     ]
    },
    {
     "data": {
      "text/plain": [
       "<matplotlib.collections.PathCollection at 0x272ab17ffa0>"
      ]
     },
     "execution_count": 3,
     "metadata": {},
     "output_type": "execute_result"
    },
    {
     "data": {
      "text/plain": [
       "[<matplotlib.lines.Line2D at 0x272ab190430>]"
      ]
     },
     "execution_count": 3,
     "metadata": {},
     "output_type": "execute_result"
    },
    {
     "data": {
      "text/plain": [
       "Text(0.5, 0, 'Interval (hours)')"
      ]
     },
     "execution_count": 3,
     "metadata": {},
     "output_type": "execute_result"
    },
    {
     "data": {
      "text/plain": [
       "Text(0, 0.5, 'Concentration (g/ml)')"
      ]
     },
     "execution_count": 3,
     "metadata": {},
     "output_type": "execute_result"
    },
    {
     "data": {
      "image/png": "[encoded data removed]",
      "text/plain": [
       "<Figure size 432x288 with 1 Axes>"
      ]
     },
     "metadata": {
      "needs_background": "light"
     },
     "output_type": "display_data"
    }
   ],
   "source": [
    "import numpy as np\n",
    "import seaborn as sns\n",
    "from sklearn.linear_model import LinearRegression\n",
    "X = data[['interval']]\n",
    "y = data['concentration']\n",
    "reg = LinearRegression().fit(X, y)\n",
    "print('Coefficient:', reg.coef_)\n",
    "print('Intercept:', reg.intercept_)\n",
    "plt.scatter(X, y)\n",
    "plt.plot(X, reg.predict(X), color='red')\n",
    "plt.xlabel('Interval (hours)')\n",
    "plt.ylabel('Concentration (g/ml)')\n",
    "plt.show()"
   ]
  },
  {
   "cell_type": "code",
   "execution_count": 4,
   "metadata": {},
   "outputs": [
    {
     "name": "stderr",
     "output_type": "stream",
     "text": [
      "D:\\software\\anaconda\\lib\\site-packages\\seaborn\\_decorators.py:36: FutureWarning: Pass the following variables as keyword args: x, y. From version 0.12, the only valid positional argument will be `data`, and passing other arguments without an explicit keyword will result in an error or misinterpretation.\n",
      "  warnings.warn(\n"
     ]
    },
    {
     "data": {
      "text/plain": [
       "<AxesSubplot:xlabel='interval', ylabel='concentration'>"
      ]
     },
     "execution_count": 4,
     "metadata": {},
     "output_type": "execute_result"
    },
    {
     "data": {
      "text/plain": [
       "Text(0.5, 0, 'Interval (hours)')"
      ]
     },
     "execution_count": 4,
     "metadata": {},
     "output_type": "execute_result"
    },
    {
     "data": {
      "text/plain": [
       "Text(0, 0.5, 'Residuals')"
      ]
     },
     "execution_count": 4,
     "metadata": {},
     "output_type": "execute_result"
    },
    {
     "data": {
      "image/png": "[encoded data removed]",
      "text/plain": [
       "<Figure size 432x288 with 1 Axes>"
      ]
     },
     "metadata": {
      "needs_background": "light"
     },
     "output_type": "display_data"
    }
   ],
   "source": [
    "residuals = y - reg.predict(X)\n",
    "sns.residplot(X, residuals)\n",
    "plt.xlabel('Interval (hours)')\n",
    "plt.ylabel('Residuals')\n",
    "plt.show()"
   ]
  },
  {
   "cell_type": "code",
   "execution_count": 5,
   "metadata": {},
   "outputs": [
    {
     "name": "stdout",
     "output_type": "stream",
     "text": [
      "        3         2\n",
      "0.1063 x - 4.676 x + 33.43 x + 6.506\n"
     ]
    },
    {
     "data": {
      "text/plain": [
       "<matplotlib.collections.PathCollection at 0x272ab260c40>"
      ]
     },
     "execution_count": 5,
     "metadata": {},
     "output_type": "execute_result"
    },
    {
     "data": {
      "text/plain": [
       "[<matplotlib.lines.Line2D at 0x272ab2711f0>]"
      ]
     },
     "execution_count": 5,
     "metadata": {},
     "output_type": "execute_result"
    },
    {
     "data": {
      "text/plain": [
       "Text(0.5, 0, 'Interval (hours)')"
      ]
     },
     "execution_count": 5,
     "metadata": {},
     "output_type": "execute_result"
    },
    {
     "data": {
      "text/plain": [
       "Text(0, 0.5, 'Concentration (g/ml)')"
      ]
     },
     "execution_count": 5,
     "metadata": {},
     "output_type": "execute_result"
    },
    {
     "data": {
      "image/png": "[encoded data removed]",
      "text/plain": [
       "<Figure size 432x288 with 1 Axes>"
      ]
     },
     "metadata": {
      "needs_background": "light"
     },
     "output_type": "display_data"
    }
   ],
   "source": [
    "# 使用多项式特征进行多项式回归拟合\n",
    "poly_features = np.polyfit(X['interval'], y, 3)\n",
    "poly_reg = np.poly1d(poly_features)\n",
    "print(poly_reg)\n",
    "plt.scatter(X, y)\n",
    "plt.plot(X, poly_reg(X), color='red')\n",
    "plt.xlabel('Interval (hours)')\n",
    "plt.ylabel('Concentration (g/ml)')\n",
    "plt.show()"
   ]
  },
  {
   "cell_type": "code",
   "execution_count": 6,
   "metadata": {},
   "outputs": [
    {
     "name": "stdout",
     "output_type": "stream",
     "text": [
      "最佳服药时间为: 4.16740939497293\n"
     ]
    }
   ],
   "source": [
    "import sympy as sp\n",
    "# 得到多项式回归模型的方程系数\n",
    "coeffs = poly_features[:-1]  # 非常数项\n",
    "intercept = poly_features[-1]  # 常数项\n",
    "# print(coeffs,intercept)\n",
    "# 定义符号变量\n",
    "x = sp.symbols('x')\n",
    "# 构建多项式回归模型的方程\n",
    "equation = intercept\n",
    "for i in range(len(coeffs)-1,-1,-1):\n",
    "    equation += coeffs[i] * (x ** (len(coeffs)-i))\n",
    "# print(equation)\n",
    "# 求解方程的导数，找到最大值点\n",
    "equation_derivative = sp.diff(equation, x)\n",
    "max_time = sp.solve(equation_derivative, x)\n",
    "print(\"最佳服药时间为:\", max_time[0])"
   ]
  },
  {
   "cell_type": "code",
   "execution_count": 7,
   "metadata": {},
   "outputs": [
    {
     "name": "stdout",
     "output_type": "stream",
     "text": [
      "Interval for concentration of 10: [35.02784292  8.84424153  0.10606521]\n"
     ]
    }
   ],
   "source": [
    "target_10 = 10\n",
    "equation_10 = poly_reg - target_10\n",
    "root = equation_10.r\n",
    "print('Interval for concentration of 10:', root)"
   ]
  },
  {
   "cell_type": "code",
   "execution_count": 8,
   "metadata": {},
   "outputs": [
    {
     "name": "stdout",
     "output_type": "stream",
     "text": [
      "Interval for concentration of 20: [35.1300027   8.4190513   0.42909566]\n"
     ]
    }
   ],
   "source": [
    "target_20 = 20\n",
    "equation_20 = poly_reg - target_20\n",
    "root2 = equation_20.r\n",
    "print('Interval for concentration of 20:', root2)\n"
   ]
  },
  {
   "cell_type": "code",
   "execution_count": 9,
   "metadata": {},
   "outputs": [
    {
     "name": "stdout",
     "output_type": "stream",
     "text": [
      "Recommended interval: 35.07892281382543\n"
     ]
    }
   ],
   "source": [
    "interval = (root[0] + root2[0]) / 2\n",
    "print('Recommended interval:', interval)"
   ]
  },
  {
   "cell_type": "code",
   "execution_count": null,
   "metadata": {},
   "outputs": [],
   "source": []
  },
  {
   "cell_type": "code",
   "execution_count": null,
   "metadata": {},
   "outputs": [],
   "source": []
  },
  {
   "cell_type": "code",
   "execution_count": 10,
   "metadata": {},
   "outputs": [
    {
     "name": "stdout",
     "output_type": "stream",
     "text": [
      "<class 'pandas.core.frame.DataFrame'>\n",
      "RangeIndex: 10 entries, 0 to 9\n",
      "Data columns (total 2 columns):\n",
      " #   Column         Non-Null Count  Dtype  \n",
      "---  ------         --------------  -----  \n",
      " 0   interval       10 non-null     float64\n",
      " 1   concentration  10 non-null     float64\n",
      "dtypes: float64(2)\n",
      "memory usage: 288.0 bytes\n",
      "None\n",
      "   interval  concentration\n",
      "0       0.5          21.89\n",
      "1       1.0          35.23\n",
      "2       1.5          47.13\n",
      "3       2.0          56.01\n",
      "4       2.5          61.86\n"
     ]
    },
    {
     "data": {
      "text/plain": [
       "<matplotlib.collections.PathCollection at 0x272ac75cd60>"
      ]
     },
     "execution_count": 10,
     "metadata": {},
     "output_type": "execute_result"
    },
    {
     "data": {
      "text/plain": [
       "Text(0.5, 0, 'Interval (hours)')"
      ]
     },
     "execution_count": 10,
     "metadata": {},
     "output_type": "execute_result"
    },
    {
     "data": {
      "text/plain": [
       "Text(0, 0.5, 'Concentration (g/ml)')"
      ]
     },
     "execution_count": 10,
     "metadata": {},
     "output_type": "execute_result"
    },
    {
     "data": {
      "image/png": "[encoded data removed]",
      "text/plain": [
       "<Figure size 432x288 with 1 Axes>"
      ]
     },
     "metadata": {
      "needs_background": "light"
     },
     "output_type": "display_data"
    },
    {
     "name": "stdout",
     "output_type": "stream",
     "text": [
      "               interval  concentration\n",
      "interval       1.000000       0.909042\n",
      "concentration  0.909042       1.000000\n",
      "Coefficient: [10.51745455]\n",
      "Intercept: 28.54\n"
     ]
    },
    {
     "data": {
      "text/plain": [
       "<matplotlib.collections.PathCollection at 0x272ad7901f0>"
      ]
     },
     "execution_count": 10,
     "metadata": {},
     "output_type": "execute_result"
    },
    {
     "data": {
      "text/plain": [
       "[<matplotlib.lines.Line2D at 0x272879b1640>]"
      ]
     },
     "execution_count": 10,
     "metadata": {},
     "output_type": "execute_result"
    },
    {
     "data": {
      "text/plain": [
       "Text(0.5, 0, 'Interval (hours)')"
      ]
     },
     "execution_count": 10,
     "metadata": {},
     "output_type": "execute_result"
    },
    {
     "data": {
      "text/plain": [
       "Text(0, 0.5, 'Concentration (g/ml)')"
      ]
     },
     "execution_count": 10,
     "metadata": {},
     "output_type": "execute_result"
    },
    {
     "data": {
      "image/png": "[encoded data removed]",
      "text/plain": [
       "<Figure size 432x288 with 1 Axes>"
      ]
     },
     "metadata": {
      "needs_background": "light"
     },
     "output_type": "display_data"
    },
    {
     "name": "stderr",
     "output_type": "stream",
     "text": [
      "D:\\software\\anaconda\\lib\\site-packages\\seaborn\\_decorators.py:36: FutureWarning: Pass the following variables as keyword args: x, y. From version 0.12, the only valid positional argument will be `data`, and passing other arguments without an explicit keyword will result in an error or misinterpretation.\n",
      "  warnings.warn(\n"
     ]
    },
    {
     "data": {
      "text/plain": [
       "<AxesSubplot:xlabel='interval', ylabel='concentration'>"
      ]
     },
     "execution_count": 10,
     "metadata": {},
     "output_type": "execute_result"
    },
    {
     "data": {
      "text/plain": [
       "Text(0.5, 0, 'Interval (hours)')"
      ]
     },
     "execution_count": 10,
     "metadata": {},
     "output_type": "execute_result"
    },
    {
     "data": {
      "text/plain": [
       "Text(0, 0.5, 'Residuals')"
      ]
     },
     "execution_count": 10,
     "metadata": {},
     "output_type": "execute_result"
    },
    {
     "data": {
      "image/png": "[encoded data removed]",
      "text/plain": [
       "<Figure size 432x288 with 1 Axes>"
      ]
     },
     "metadata": {
      "needs_background": "light"
     },
     "output_type": "display_data"
    },
    {
     "name": "stdout",
     "output_type": "stream",
     "text": [
      "        3         2\n",
      "0.1063 x - 4.676 x + 33.43 x + 6.506\n"
     ]
    },
    {
     "data": {
      "text/plain": [
       "<matplotlib.collections.PathCollection at 0x272ad84a250>"
      ]
     },
     "execution_count": 10,
     "metadata": {},
     "output_type": "execute_result"
    },
    {
     "data": {
      "text/plain": [
       "[<matplotlib.lines.Line2D at 0x272ad84a700>]"
      ]
     },
     "execution_count": 10,
     "metadata": {},
     "output_type": "execute_result"
    },
    {
     "data": {
      "text/plain": [
       "Text(0.5, 0, 'Interval (hours)')"
      ]
     },
     "execution_count": 10,
     "metadata": {},
     "output_type": "execute_result"
    },
    {
     "data": {
      "text/plain": [
       "Text(0, 0.5, 'Concentration (g/ml)')"
      ]
     },
     "execution_count": 10,
     "metadata": {},
     "output_type": "execute_result"
    },
    {
     "data": {
      "image/png": "[encoded data removed]",
      "text/plain": [
       "<Figure size 432x288 with 1 Axes>"
      ]
     },
     "metadata": {
      "needs_background": "light"
     },
     "output_type": "display_data"
    },
    {
     "name": "stdout",
     "output_type": "stream",
     "text": [
      "最佳服药时间为: 4.16740939497293\n",
      "Interval for concentration of 10: [35.02784292  8.84424153  0.10606521]\n",
      "Interval for concentration of 20: [35.1300027   8.4190513   0.42909566]\n",
      "Recommended interval: 35.07892281382543\n"
     ]
    }
   ],
   "source": [
    "import pandas as pd\n",
    "import matplotlib.pyplot as plt\n",
    "import numpy as np\n",
    "import seaborn as sns\n",
    "from sklearn.linear_model import LinearRegression\n",
    "import sympy as sp\n",
    "# 1. 读取数据，查看数据的基本情况（info()、head()），并绘制相应的图（散点图）\n",
    "data = pd.DataFrame({\n",
    "    'interval': [0.5, 1, 1.5, 2, 2.5, 3, 3.5, 4, 4.5, 5],\n",
    "    'concentration': [21.89, 35.23, 47.13, 56.01, 61.86, 66.95, 70.78, 72.46, 72.81, 69.51]})\n",
    "print(data.info())\n",
    "print(data.head())\n",
    "plt.scatter(data['interval'], data['concentration'])\n",
    "plt.xlabel('Interval (hours)')\n",
    "plt.ylabel('Concentration (g/ml)')\n",
    "plt.show()\n",
    "# 2. 对变量进行相关性分析。\n",
    "corr_matrix = data.corr()\n",
    "print(corr_matrix)\n",
    "# 3. 建立简单的一元线性回归并求解，绘制拟合图（包括原数据散点和回归直线）。\n",
    "X = data[['interval']]\n",
    "y = data['concentration']\n",
    "reg = LinearRegression().fit(X, y)\n",
    "print('Coefficient:', reg.coef_)\n",
    "print('Intercept:', reg.intercept_)\n",
    "plt.scatter(X, y)\n",
    "plt.plot(X, reg.predict(X), color='red')\n",
    "plt.xlabel('Interval (hours)')\n",
    "plt.ylabel('Concentration (g/ml)')\n",
    "plt.show()\n",
    "# 4. 查看残差情况。\n",
    "residuals = y - reg.predict(X)\n",
    "sns.residplot(X, residuals)\n",
    "plt.xlabel('Interval (hours)')\n",
    "plt.ylabel('Residuals')\n",
    "plt.show()\n",
    "# 5. 建立多项式回归模型并拟合。\n",
    "poly_features = np.polyfit(X['interval'], y, 3)\n",
    "poly_reg = np.poly1d(poly_features)\n",
    "print(poly_reg)\n",
    "plt.scatter(X, y)\n",
    "plt.plot(X, poly_reg(X), color='red')\n",
    "plt.xlabel('Interval (hours)')\n",
    "plt.ylabel('Concentration (g/ml)')\n",
    "plt.show()\n",
    "# 6. 寻找最佳服药时间（可以使用sympy模块进行方程求解）。\n",
    "import sympy as sp\n",
    "# 得到多项式回归模型的方程系数\n",
    "coeffs = poly_features[:-1]  # 非常数项\n",
    "intercept = poly_features[-1]  # 常数项\n",
    "# print(coeffs,intercept)\n",
    "# 定义符号变量\n",
    "x = sp.symbols('x')\n",
    "# 构建多项式回归模型的方程\n",
    "equation = intercept\n",
    "for i in range(len(coeffs)-1,-1,-1):\n",
    "    equation += coeffs[i] * (x ** (len(coeffs)-i))\n",
    "# print(equation)\n",
    "# 求解方程的导数，找到最大值点\n",
    "equation_derivative = sp.diff(equation, x)\n",
    "max_time = sp.solve(equation_derivative, x)\n",
    "print(\"最佳服药时间为:\", max_time[0])\n",
    "# 6.1 解出血药浓度为10时的间隔时间。\n",
    "target_10 = 10\n",
    "equation_10 = poly_reg - target_10\n",
    "root = equation_10.r\n",
    "print('Interval for concentration of 10:', root)\n",
    "# 6.2 解出血药浓度为20时的间隔时间。\n",
    "target_20 = 20\n",
    "equation_20 = poly_reg - target_20\n",
    "root2 = equation_20.r\n",
    "print('Interval for concentration of 20:', root2)\n",
    "# 6.3 确定间隔时间。\n",
    "interval = (root[0] + root2[0]) / 2\n",
    "print('Recommended interval:', interval)\n"
   ]
  },
  {
   "cell_type": "code",
   "execution_count": null,
   "metadata": {},
   "outputs": [],
   "source": []
  },
  {
   "cell_type": "code",
   "execution_count": null,
   "metadata": {},
   "outputs": [],
   "source": []
  },
  {
   "cell_type": "code",
   "execution_count": null,
   "metadata": {},
   "outputs": [],
   "source": []
  },
  {
   "cell_type": "code",
   "execution_count": null,
   "metadata": {},
   "outputs": [],
   "source": []
  }
 ],
 "metadata": {
  "kernelspec": {
   "display_name": "Python 3",
   "language": "python",
   "name": "python3"
  },
  "language_info": {
   "codemirror_mode": {
    "name": "ipython",
    "version": 3
   },
   "file_extension": ".py",
   "mimetype": "text/x-python",
   "name": "python",
   "nbconvert_exporter": "python",
   "pygments_lexer": "ipython3",
   "version": "3.8.5"
  }
 },
 "nbformat": 4,
 "nbformat_minor": 4
}
