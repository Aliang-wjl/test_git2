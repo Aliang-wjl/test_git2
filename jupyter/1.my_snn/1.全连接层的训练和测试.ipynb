{
 "cells": [
  {
   "cell_type": "code",
   "execution_count": 14,
   "id": "579e7dc1",
   "metadata": {},
   "outputs": [],
   "source": [
    "from IPython.core.interactiveshell import InteractiveShell\n",
    "InteractiveShell.ast_node_interactivity = \"all\"\n",
    "# # InteractiveShell.ast_node_interactivity = \"last_expr\""
   ]
  },
  {
   "cell_type": "markdown",
   "id": "af0dce8c",
   "metadata": {},
   "source": [
    "# 训练 "
   ]
  },
  {
   "cell_type": "code",
   "execution_count": 15,
   "id": "baa2df37",
   "metadata": {},
   "outputs": [],
   "source": [
    "from spikingjelly.activation_based import surrogate\n",
    "import torch\n",
    "import torch.nn as nn\n",
    "from torch.utils.data import DataLoader\n",
    "from torchvision import datasets, transforms\n",
    "from tqdm.notebook import tqdm  # tqdm 进度条显示\n",
    "import torch.nn.functional as F\n",
    "import torch.optim as optim\n",
    "import matplotlib.pyplot as plt\n",
    "import sys\n",
    "from spikingjelly.activation_based import neuron, encoding, functional, surrogate, layer\n",
    "device = torch.device('cuda' if torch.cuda.is_available() else 'cpu')"
   ]
  },
  {
   "cell_type": "code",
   "execution_count": 2,
   "id": "e3c153e1",
   "metadata": {},
   "outputs": [
    {
     "data": {
      "text/plain": [
       "device(type='cuda')"
      ]
     },
     "execution_count": 2,
     "metadata": {},
     "output_type": "execute_result"
    }
   ],
   "source": [
    "device"
   ]
  },
  {
   "cell_type": "code",
   "execution_count": 3,
   "id": "9716ec56",
   "metadata": {},
   "outputs": [],
   "source": [
    "class SNN(nn.Module):\n",
    "    def __init__(self, tau = 2.0):\n",
    "        super().__init__()\n",
    "\n",
    "        self.layer = nn.Sequential(\n",
    "            layer.Flatten(),\n",
    "            layer.Linear(28 * 28, 10, bias=False),\n",
    "            neuron.LIFNode(tau=tau, surrogate_function=surrogate.ATan()),\n",
    "            )\n",
    "\n",
    "    def forward(self, x: torch.Tensor):\n",
    "        return self.layer(x)"
   ]
  },
  {
   "cell_type": "code",
   "execution_count": 4,
   "id": "ac7233ca",
   "metadata": {},
   "outputs": [],
   "source": [
    "bs = 512 #\n",
    "train_epoch = 5\n",
    "T = 5 \n",
    "\n",
    "net = SNN().to(device)\n",
    "\n",
    "# 使用Mnist数据集\n",
    "train_set = datasets.MNIST(\"../data\",train=True,download=False, transform=transforms.ToTensor(),)\n",
    "test_set = datasets.MNIST(\"../data\",train=False,download=False, transform=transforms.ToTensor(),)\n",
    "\n",
    "train_loader = DataLoader(dataset=train_set, batch_size=bs, shuffle=True,drop_last = True)\n",
    "test_loader = DataLoader(dataset=test_set, batch_size=bs, shuffle=False,drop_last = True)\n",
    "\n",
    "encoder = encoding.PoissonEncoder()\n",
    "optimizer = optim.Adam(net.parameters(), lr=0.01)\n",
    "loss_function = F.mse_loss\n",
    "\n",
    "best_acc = 0\n",
    "train_accs = []\n",
    "train_loss = []\n",
    "test_accs = []\n",
    "test_loss = []"
   ]
  },
  {
   "cell_type": "code",
   "execution_count": null,
   "id": "7cea1ee1",
   "metadata": {},
   "outputs": [],
   "source": [
    "for epoch in range(train_epoch):\n",
    "    _ = net.train()\n",
    "    sums = 0\n",
    "    accuracys = 0\n",
    "    los = 0\n",
    "#     datas = tqdm(iter(train_loader),file=sys.stdout)\n",
    "    for img, label in tqdm(train_loader):\n",
    "#     for img, label in datas:\n",
    "        optimizer.zero_grad()\n",
    "        img = img.to(device)\n",
    "        label = label.to(device)\n",
    "        label_onehot = F.one_hot(label, 10).float()\n",
    "        out_fr = 0.\n",
    "        for t in range(T):\n",
    "            encoded_img = encoder(img)\n",
    "            out_fr += net(encoded_img)\n",
    "        out_fr = out_fr / T\n",
    "        # 损失函数\n",
    "        loss = F.mse_loss(out_fr, label_onehot)\n",
    "        loss.backward()\n",
    "        # 优化器\n",
    "        optimizer.step()\n",
    "        # 本次测试的总样本数量\n",
    "        sums += label.numel()\n",
    "        los += loss.item() * label.numel()\n",
    "        accuracys += (out_fr.argmax(1) == label).float().sum().item()\n",
    "        \n",
    "        # 优化一次参数后，需要重置网络的状态，因为SNN的神经元是有“记忆”的。--------------------这一步必须有-------------------------\n",
    "        functional.reset_net(net)\n",
    "    \n",
    "    # 计算这一次训练总的准确率和误差\n",
    "    temp = round(accuracys / sums * 100,2)\n",
    "    temp2 = round(los / sums,4)\n",
    "    print(f\"第{epoch+1}次迭代的整体准确率为{temp}%, 平均损失为{temp2}\")\n",
    "    train_accs.append(temp)\n",
    "    train_loss.append(temp2)\n",
    "    \n",
    "    # 查看网络在测试集上的准确率与损失\n",
    "    _ = net.eval()\n",
    "    with torch.no_grad():\n",
    "        sums = 0\n",
    "        accuracys = 0\n",
    "        los = 0\n",
    "        for img, label in tqdm(test_loader):\n",
    "            img = img.to(device)\n",
    "            label = label.to(device)\n",
    "            label_onehot = F.one_hot(label, 10).float()\n",
    "            for t in range(T):\n",
    "                encoded_img = encoder(img)\n",
    "                out_fr += net(encoded_img)\n",
    "            out_fr = out_fr / T\n",
    "            loss = loss_function(out_fr, label_onehot)\n",
    "            # 本次测试的总样本数量\n",
    "            sums += label.numel()\n",
    "            los += loss.item() * label.numel()\n",
    "            accuracys += (out_fr.argmax(1) == label).float().sum().item()\n",
    "        temp = round(accuracys / sums * 100,2)\n",
    "        temp2 = round(los / sums,4)\n",
    "        print(f\"网络在测试上的整体准确率为{temp}%, 平均损失为{temp2}\")\n",
    "        test_accs.append(temp)\n",
    "        test_loss.append(temp2)\n",
    "        \n",
    "    if best_acc < temp:\n",
    "        torch.save(net.state_dict(),'save_models/snn.pth' )\n",
    "        best_acc = temp\n",
    "        print(\"update weight\")"
   ]
  },
  {
   "cell_type": "markdown",
   "id": "b33b3f7e",
   "metadata": {},
   "source": [
    "# 推理 "
   ]
  },
  {
   "cell_type": "code",
   "execution_count": null,
   "id": "7d0a90e3",
   "metadata": {},
   "outputs": [],
   "source": [
    "from spikingjelly.activation_based import surrogate\n",
    "import torch\n",
    "import torch.nn as nn\n",
    "from torch.utils.data import DataLoader\n",
    "from torchvision import datasets, transforms\n",
    "from tqdm.notebook import tqdm  # tqdm 进度条显示\n",
    "import torch.nn.functional as F\n",
    "import torch.optim as optim\n",
    "import matplotlib.pyplot as plt\n",
    "import sys\n",
    "from spikingjelly.activation_based import neuron, encoding, functional, surrogate, layer\n",
    "device = torch.device('cpu')"
   ]
  },
  {
   "cell_type": "code",
   "execution_count": null,
   "id": "c6b50a8c",
   "metadata": {},
   "outputs": [],
   "source": [
    "class SNN(nn.Module):\n",
    "    def __init__(self, tau = 2.0):\n",
    "        super().__init__()\n",
    "\n",
    "        self.layer = nn.Sequential(\n",
    "            layer.Flatten(),\n",
    "            layer.Linear(28 * 28, 10, bias=False),\n",
    "            neuron.LIFNode(tau=tau, surrogate_function=surrogate.ATan()),\n",
    "            )\n",
    "\n",
    "    def forward(self, x: torch.Tensor):\n",
    "        return self.layer(x)"
   ]
  },
  {
   "cell_type": "code",
   "execution_count": null,
   "id": "226a40bf",
   "metadata": {},
   "outputs": [],
   "source": [
    "bs = 512 #\n",
    "train_epoch = 20\n",
    "T = 5 \n",
    "# 使用Mnist数据集\n",
    "train_set = datasets.MNIST(\"../data\",train=True,download=False, transform=transforms.ToTensor(),)\n",
    "test_set = datasets.MNIST(\"../data\",train=False,download=False, transform=transforms.ToTensor(),)\n",
    "\n",
    "train_loader = DataLoader(dataset=train_set, batch_size=bs, shuffle=True,drop_last = True)\n",
    "test_loader = DataLoader(dataset=test_set, batch_size=bs, shuffle=False,drop_last = True)\n",
    "\n",
    "encoder = encoding.PoissonEncoder()\n",
    "loss_function = F.mse_loss\n",
    "\n",
    "best_acc = 0\n",
    "train_accs = []\n",
    "train_loss = []\n",
    "test_accs = []\n",
    "test_loss = []"
   ]
  },
  {
   "cell_type": "code",
   "execution_count": null,
   "id": "90b92143",
   "metadata": {},
   "outputs": [],
   "source": [
    "test_net = SNN().to(device)\n",
    "test_net.load_state_dict(torch.load('save_models/snn.pth' ))"
   ]
  },
  {
   "cell_type": "code",
   "execution_count": null,
   "id": "4564ad6b",
   "metadata": {},
   "outputs": [],
   "source": [
    "acc, los = evaluates(\"test\", test_net, test_loader, T)"
   ]
  },
  {
   "cell_type": "code",
   "execution_count": null,
   "id": "14653224",
   "metadata": {},
   "outputs": [],
   "source": []
  },
  {
   "cell_type": "markdown",
   "id": "41505d5d",
   "metadata": {},
   "source": [
    "# 使用混合精度进行训练"
   ]
  },
  {
   "cell_type": "code",
   "execution_count": 12,
   "id": "552ec46d",
   "metadata": {},
   "outputs": [],
   "source": [
    "from spikingjelly.activation_based import surrogate\n",
    "import torch\n",
    "from torch import amp\n",
    "import torch.nn as nn\n",
    "from torch.utils.data import DataLoader\n",
    "from torchvision import datasets, transforms\n",
    "from tqdm.notebook import tqdm  # tqdm 进度条显示\n",
    "import torch.nn.functional as F\n",
    "import torch.optim as optim\n",
    "import time\n",
    "import sys\n",
    "import matplotlib.pyplot as plt\n",
    "from spikingjelly.activation_based import neuron, encoding, functional, surrogate, layer\n",
    "device = torch.device('cuda' if torch.cuda.is_available() else 'cpu')"
   ]
  },
  {
   "cell_type": "code",
   "execution_count": 7,
   "id": "f107affb",
   "metadata": {},
   "outputs": [],
   "source": [
    "T=20\n",
    "batch_size=512\n",
    "lr=1e-3\n",
    "num_epochs = 20\n",
    "\n",
    "class SNN(nn.Module):\n",
    "    def __init__(self, tau = 2.0):\n",
    "        super().__init__()\n",
    "\n",
    "        self.layer = nn.Sequential(\n",
    "            layer.Flatten(),\n",
    "            layer.Linear(28 * 28, 10, bias=False),\n",
    "            neuron.LIFNode(tau=tau, surrogate_function=surrogate.ATan()),\n",
    "            )\n",
    "\n",
    "    def forward(self, x: torch.Tensor):\n",
    "        return self.layer(x)\n",
    "\n",
    "# 设备选择使用GPU\n",
    "device = torch.device(\"cuda\") if torch.cuda.is_available() else torch.device(\"cpu\")\n",
    "# 初始化网络\n",
    "net = SNN().to(device)\n",
    "# 使用Adam优化器\n",
    "optimizer = torch.optim.Adam(net.parameters(), lr=lr)\n",
    "# 使用泊松编码器\n",
    "encoder = encoding.PoissonEncoder()"
   ]
  },
  {
   "cell_type": "code",
   "execution_count": 8,
   "id": "e5a1cf37",
   "metadata": {},
   "outputs": [],
   "source": [
    "data_path='../data'\n",
    "\n",
    "# Define a transform\n",
    "transform = transforms.Compose([\n",
    "            transforms.Resize((28, 28)),\n",
    "#             transforms.Grayscale(),\n",
    "            transforms.ToTensor(),\n",
    "            transforms.Normalize((0,), (1,))\n",
    "            ])\n",
    "\n",
    "mnist_train = datasets.MNIST(data_path, train=True, download=False, transform=transform)\n",
    "mnist_test = datasets.MNIST(data_path, train=False, download=False, transform=transform)\n",
    "\n",
    "train_loader = DataLoader(mnist_train, batch_size=batch_size, shuffle=True, drop_last=True)\n",
    "test_loader = DataLoader(mnist_test, batch_size=batch_size, shuffle=True, drop_last=True)"
   ]
  },
  {
   "cell_type": "code",
   "execution_count": null,
   "id": "fe7d726b",
   "metadata": {},
   "outputs": [],
   "source": [
    "def evaluates(name, model, data_loader, T):\n",
    "    \"\"\"\n",
    "    测试函数，没有什么特殊之处\n",
    "    \"\"\"\n",
    "    acc = 0\n",
    "    losss = 0\n",
    "    data_num = 0\n",
    "    _ = model.eval()\n",
    "\n",
    "    datas = tqdm(iter(data_loader),file=sys.stdout)\n",
    "    for data, targets in datas:\n",
    "        data = data.to(device)\n",
    "        targets = targets.to(device)\n",
    "        label_onehot = F.one_hot(label, 10).float()  # 将标签变为独热编码\n",
    "        \n",
    "        out_fr = 0.\n",
    "        for t in range(T):\n",
    "            encoded_img = encoder(data)\n",
    "            out_fr += model(encoded_img) # 将每次输出的脉冲进行相加\n",
    "        out_fr = out_fr / T # 求平均值\n",
    "        \n",
    "        loss = F.mse_loss(out_fr, label_onehot)\n",
    "        data_num += targets.numel()\n",
    "        losss += loss.item() * targets.numel()\n",
    "        # 正确率的计算方法如下。认为输出层中脉冲发放频率最大的神经元的下标i是分类结果\n",
    "        acc += (out_fr.argmax(1) == targets).float().sum().item()\n",
    "    \n",
    "    print(f\"{name} All Acc: {acc/data_num * 100:.2f}%\")\n",
    "    print(f\"{name} All Loss: {losss/data_num:.2f}\")\n",
    "#     print(\"\\n\")\n",
    "    return acc/data_num,losss/data_num"
   ]
  },
  {
   "cell_type": "code",
   "execution_count": 13,
   "id": "fcedfed3",
   "metadata": {},
   "outputs": [],
   "source": [
    "# scaler = None\n",
    "# 使用混合精度\n",
    "scaler = amp.GradScaler()\n",
    "train_accs = []\n",
    "train_losss = []\n",
    "test_accs = []\n",
    "test_losss = []\n",
    "best_acc = 0"
   ]
  },
  {
   "cell_type": "code",
   "execution_count": null,
   "id": "802e3855",
   "metadata": {},
   "outputs": [],
   "source": [
    "for epoch in range(num_epochs):\n",
    "    # 打印每次训练的时间，此处是开始时间\n",
    "    start_time = time.time()\n",
    "    _ = net.train()\n",
    "    train_loss = 0\n",
    "    train_acc = 0\n",
    "    train_samples = 0\n",
    "    \n",
    "    datas = tqdm(iter(train_loader),file=sys.stdout)\n",
    "    for img, label in datas:\n",
    "        optimizer.zero_grad()\n",
    "        img = img.to(device)\n",
    "        label = label.to(device)\n",
    "        label_onehot = F.one_hot(label, 10).float()  # 将标签变为独热编码\n",
    "\n",
    "        # 混合精度训练\n",
    "        if scaler is not None:\n",
    "            with amp.autocast():\n",
    "                out_fr = 0.\n",
    "                # 运行T个时间步\n",
    "                for t in range(T):\n",
    "                    encoded_img = encoder(img)\n",
    "                    out_fr += net(encoded_img) # 将每次输出的脉冲进行相加\n",
    "                out_fr = out_fr / T # 求平均值\n",
    "                # out_fr是shape=[batch_size, 10]的tensor\n",
    "                # 记录整个仿真时长内，输出层的10个神经元的脉冲发放率\n",
    "                loss = F.mse_loss(out_fr, label_onehot)\n",
    "                # 损失函数为输出层神经元的脉冲发放频率，与真实类别的MSE\n",
    "                # 这样的损失函数会使得：当标签i给定时，输出层中第i个神经元的脉冲发放频率趋近1，而其他神经元的脉冲发放频率趋近0\n",
    "            scaler.scale(loss).backward()\n",
    "            scaler.step(optimizer)\n",
    "            scaler.update()\n",
    "        else:\n",
    "            out_fr = 0.\n",
    "            for t in range(T):\n",
    "                encoded_img = encoder(img)\n",
    "                out_fr += net(encoded_img)\n",
    "            out_fr = out_fr / T\n",
    "            loss = F.mse_loss(out_fr, label_onehot)\n",
    "            loss.backward()\n",
    "            optimizer.step()\n",
    "\n",
    "        train_samples += label.numel()\n",
    "        train_loss += loss.item() * label.numel()\n",
    "        # 正确率的计算方法如下。  认为输出层中脉冲发放频率最大的神经元的下标i是分类结果\n",
    "        train_acc += (out_fr.argmax(1) == label).float().sum().item()\n",
    "\n",
    "        # 优化一次参数后，需要重置网络的状态，因为SNN的神经元是有“记忆”的。\n",
    "        functional.reset_net(net)\n",
    "    # 打印每次训练的时间，此处是结束时间\n",
    "    end_time = time.time()\n",
    "    print(f\"epoch = {epoch}\")\n",
    "    print(f\"train_single_time = {end_time - start_time:.4f}\")\n",
    "    print(f\"loss = {train_loss/train_samples:.4f}\")\n",
    "    print(f\"acc = {train_acc/train_samples*100:.2f}%\")\n",
    "    train_accs.append(train_acc/train_samples)\n",
    "    train_losss.append(train_loss/train_samples)\n",
    "    \n",
    "    test_acc,test_loss = evaluates(\"test\", net, test_loader, T)\n",
    "    test_accs.append(test_acc)\n",
    "    test_losss.append(test_loss)\n",
    "    \n",
    "    if test_acc > best_acc:\n",
    "        best_acc = test_acc\n",
    "        torch.save(net.state_dict(), 'save_models/snn2.pt')\n",
    "        print(\"save model param\")\n",
    "    \n",
    "    print(\"\\n\")  "
   ]
  },
  {
   "cell_type": "markdown",
   "id": "237eaffa",
   "metadata": {},
   "source": [
    "# 推理 "
   ]
  },
  {
   "cell_type": "code",
   "execution_count": null,
   "id": "57b45fed",
   "metadata": {},
   "outputs": [],
   "source": [
    "test_net2 = SNN().to(device)\n",
    "test_net2.load_state_dict(torch.load('save_models/snn2.pth' ))\n",
    "acc, los = evaluates(\"test2\", test_net2, test_loader, T)"
   ]
  },
  {
   "cell_type": "code",
   "execution_count": null,
   "id": "d12f9d4c",
   "metadata": {},
   "outputs": [],
   "source": []
  },
  {
   "cell_type": "code",
   "execution_count": null,
   "id": "a03fff59",
   "metadata": {},
   "outputs": [],
   "source": []
  },
  {
   "cell_type": "code",
   "execution_count": null,
   "id": "b2064892",
   "metadata": {},
   "outputs": [],
   "source": []
  },
  {
   "cell_type": "code",
   "execution_count": null,
   "id": "96c43003",
   "metadata": {},
   "outputs": [],
   "source": []
  },
  {
   "cell_type": "code",
   "execution_count": null,
   "id": "bba1696f",
   "metadata": {},
   "outputs": [],
   "source": []
  },
  {
   "cell_type": "code",
   "execution_count": null,
   "id": "29ce9c3c",
   "metadata": {},
   "outputs": [],
   "source": []
  },
  {
   "cell_type": "code",
   "execution_count": null,
   "id": "f677311a",
   "metadata": {},
   "outputs": [],
   "source": []
  },
  {
   "cell_type": "code",
   "execution_count": null,
   "id": "9f8124e9",
   "metadata": {},
   "outputs": [],
   "source": []
  },
  {
   "cell_type": "code",
   "execution_count": null,
   "id": "389adacf",
   "metadata": {},
   "outputs": [],
   "source": []
  }
 ],
 "metadata": {
  "kernelspec": {
   "display_name": "Python (my_torch)",
   "language": "python",
   "name": "my_torch"
  },
  "language_info": {
   "codemirror_mode": {
    "name": "ipython",
    "version": 3
   },
   "file_extension": ".py",
   "mimetype": "text/x-python",
   "name": "python",
   "nbconvert_exporter": "python",
   "pygments_lexer": "ipython3",
   "version": "3.12.5"
  }
 },
 "nbformat": 4,
 "nbformat_minor": 5
}
