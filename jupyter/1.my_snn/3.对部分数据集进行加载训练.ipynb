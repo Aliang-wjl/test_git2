{
 "cells": [
  {
   "cell_type": "markdown",
   "id": "bbfa7b02",
   "metadata": {},
   "source": [
    "# 涉及到的数据集包含:CIFAR10，DVSGesture"
   ]
  },
  {
   "cell_type": "code",
   "execution_count": 1,
   "id": "600730de",
   "metadata": {},
   "outputs": [],
   "source": [
    "from IPython.core.interactiveshell import InteractiveShell\n",
    "InteractiveShell.ast_node_interactivity = \"all\"\n",
    "# # InteractiveShell.ast_node_interactivity = \"last_expr\""
   ]
  },
  {
   "cell_type": "markdown",
   "id": "cc1a36b2",
   "metadata": {},
   "source": [
    "### 查看cifar10数据集"
   ]
  },
  {
   "cell_type": "code",
   "execution_count": 5,
   "id": "b52b1fee",
   "metadata": {},
   "outputs": [],
   "source": [
    "import torch\n",
    "import torchvision\n",
    "import torchvision.transforms as transforms\n",
    "import matplotlib.pyplot as plt\n",
    "import numpy as np"
   ]
  },
  {
   "cell_type": "code",
   "execution_count": 3,
   "id": "994e0965",
   "metadata": {},
   "outputs": [],
   "source": [
    "# 定义数据变换\n",
    "transform = transforms.Compose(\n",
    "    [transforms.ToTensor(),  # 将图片转换为Tensor\n",
    "     transforms.Normalize((0.5, 0.5, 0.5), (0.5, 0.5, 0.5))])  # 归一化\n",
    "# #训练集\n",
    "trainset=torchvision.datasets.CIFAR10(root=r'../data',train=True,download=False,transform=transform)\n",
    "# 测试集\n",
    "testset=torchvision.datasets.CIFAR10(root=r'../data',train=False,download=False,transform=transform)"
   ]
  },
  {
   "cell_type": "code",
   "execution_count": 4,
   "id": "7bc567ce",
   "metadata": {},
   "outputs": [],
   "source": [
    " # 定义batch_size和num_workers\n",
    "batch_size = 4\n",
    "num_workers = 0  # Windows系统不支持多进程，所以num_workers应设为0\n",
    "# 创建DataLoader对象\n",
    "trainloader=torch.utils.data.DataLoader(trainset,batch_size=batch_size,shuffle=True,num_workers=num_workers)\n",
    "testloader=torch.utils.data.DataLoader(testset,batch_size=batch_size,shuffle=False,num_workers=num_workers)\n",
    "# 定义类别名称\n",
    "classes = ('plane', 'car', 'bird', 'cat', 'deer', 'dog', 'frog', 'horse', 'ship', 'truck')"
   ]
  },
  {
   "cell_type": "code",
   "execution_count": 6,
   "id": "75c0df77",
   "metadata": {
    "collapsed": true
   },
   "outputs": [
    {
     "name": "stderr",
     "output_type": "stream",
     "text": [
      "Clipping input data to the valid range for imshow with RGB data ([0..1] for floats or [0..255] for integers). Got range [-1.0..0.8745098].\n"
     ]
    },
    {
     "data": {
      "text/plain": [
       "<matplotlib.image.AxesImage at 0x20a69d8cb30>"
      ]
     },
     "execution_count": 6,
     "metadata": {},
     "output_type": "execute_result"
    },
    {
     "data": {
      "text/plain": [
       "Text(0.5, 1.0, 'plane')"
      ]
     },
     "execution_count": 6,
     "metadata": {},
     "output_type": "execute_result"
    },
    {
     "data": {
      "text/plain": [
       "(-0.5, 31.5, 31.5, -0.5)"
      ]
     },
     "execution_count": 6,
     "metadata": {},
     "output_type": "execute_result"
    },
    {
     "name": "stderr",
     "output_type": "stream",
     "text": [
      "Clipping input data to the valid range for imshow with RGB data ([0..1] for floats or [0..255] for integers). Got range [-0.96862745..1.0].\n"
     ]
    },
    {
     "data": {
      "text/plain": [
       "<matplotlib.image.AxesImage at 0x20a6b9e40b0>"
      ]
     },
     "execution_count": 6,
     "metadata": {},
     "output_type": "execute_result"
    },
    {
     "data": {
      "text/plain": [
       "Text(0.5, 1.0, 'car')"
      ]
     },
     "execution_count": 6,
     "metadata": {},
     "output_type": "execute_result"
    },
    {
     "data": {
      "text/plain": [
       "(-0.5, 31.5, 31.5, -0.5)"
      ]
     },
     "execution_count": 6,
     "metadata": {},
     "output_type": "execute_result"
    },
    {
     "name": "stderr",
     "output_type": "stream",
     "text": [
      "Clipping input data to the valid range for imshow with RGB data ([0..1] for floats or [0..255] for integers). Got range [-0.52156866..0.8980392].\n"
     ]
    },
    {
     "data": {
      "text/plain": [
       "<matplotlib.image.AxesImage at 0x20a6ba81880>"
      ]
     },
     "execution_count": 6,
     "metadata": {},
     "output_type": "execute_result"
    },
    {
     "data": {
      "text/plain": [
       "Text(0.5, 1.0, 'plane')"
      ]
     },
     "execution_count": 6,
     "metadata": {},
     "output_type": "execute_result"
    },
    {
     "data": {
      "text/plain": [
       "(-0.5, 31.5, 31.5, -0.5)"
      ]
     },
     "execution_count": 6,
     "metadata": {},
     "output_type": "execute_result"
    },
    {
     "name": "stderr",
     "output_type": "stream",
     "text": [
      "Clipping input data to the valid range for imshow with RGB data ([0..1] for floats or [0..255] for integers). Got range [-0.9607843..0.81960785].\n"
     ]
    },
    {
     "data": {
      "text/plain": [
       "<matplotlib.image.AxesImage at 0x20a6bab5e80>"
      ]
     },
     "execution_count": 6,
     "metadata": {},
     "output_type": "execute_result"
    },
    {
     "data": {
      "text/plain": [
       "Text(0.5, 1.0, 'bird')"
      ]
     },
     "execution_count": 6,
     "metadata": {},
     "output_type": "execute_result"
    },
    {
     "data": {
      "text/plain": [
       "(-0.5, 31.5, 31.5, -0.5)"
      ]
     },
     "execution_count": 6,
     "metadata": {},
     "output_type": "execute_result"
    },
    {
     "data": {
      "image/png": "[encoded data removed]",
      "text/plain": [
       "<Figure size 1000x500 with 4 Axes>"
      ]
     },
     "metadata": {},
     "output_type": "display_data"
    },
    {
     "name": "stdout",
     "output_type": "stream",
     "text": [
      "     plane        car      plane       bird\n"
     ]
    }
   ],
   "source": [
    "# 获取一些随机训练图像\n",
    "dataiter = iter(trainloader)\n",
    "images, labels = next(dataiter) #注意点，由于版本不同，应该使用next()来迭代dataiter对象\n",
    "\n",
    "# 展示图像和标签\n",
    "#ncols 生成图片数量\n",
    "fig, axes = plt.subplots(figsize=(10, 5), ncols=4)\n",
    "for i in range(4):\n",
    "    ax = axes[i]\n",
    "    ax.imshow(np.transpose(images[i], (1, 2, 0)))\n",
    "    ax.set_title(classes[labels[i]])# 设置图片的标签\n",
    "    ax.axis('off')\n",
    "plt.show()\n",
    "\n",
    "# 打印标签label\n",
    "print(' '.join('%10s'% classes[labels[i]]for i in range(4)))"
   ]
  },
  {
   "cell_type": "markdown",
   "id": "81b91763",
   "metadata": {},
   "source": [
    "注意：上面代码是有报错的，Clipping input data to the valid range for imshow with RGB data ([0..1] for floats or [0..255] for integers). Got range [-1.0..0.8745098]."
   ]
  },
  {
   "cell_type": "code",
   "execution_count": 10,
   "id": "3e7443c0",
   "metadata": {},
   "outputs": [
    {
     "data": {
      "text/plain": [
       "torch.Size([3, 32, 32])"
      ]
     },
     "execution_count": 10,
     "metadata": {},
     "output_type": "execute_result"
    },
    {
     "name": "stdout",
     "output_type": "stream",
     "text": [
      "Min: -0.9686274528503418, Max: 1.0\n"
     ]
    }
   ],
   "source": [
    "images[1].shape\n",
    "data = images[1]\n",
    "print(f\"Min: {data.min()}, Max: {data.max()}\")"
   ]
  },
  {
   "cell_type": "code",
   "execution_count": 11,
   "id": "097b766e",
   "metadata": {},
   "outputs": [
    {
     "data": {
      "text/plain": [
       "3"
      ]
     },
     "execution_count": 11,
     "metadata": {},
     "output_type": "execute_result"
    },
    {
     "data": {
      "text/plain": [
       "torch.Size([3, 32, 32])"
      ]
     },
     "execution_count": 11,
     "metadata": {},
     "output_type": "execute_result"
    },
    {
     "data": {
      "text/plain": [
       "tensor(2)"
      ]
     },
     "execution_count": 11,
     "metadata": {},
     "output_type": "execute_result"
    }
   ],
   "source": [
    "i\n",
    "images[i].shape\n",
    "labels[i]"
   ]
  },
  {
   "cell_type": "markdown",
   "id": "345124f2",
   "metadata": {},
   "source": [
    "这里就对数据范围进行了变换"
   ]
  },
  {
   "cell_type": "code",
   "execution_count": 12,
   "id": "caaf3107",
   "metadata": {
    "collapsed": true
   },
   "outputs": [
    {
     "data": {
      "image/png": "[encoded data removed]",
      "text/plain": [
       "<Figure size 640x480 with 1 Axes>"
      ]
     },
     "metadata": {},
     "output_type": "display_data"
    },
    {
     "name": "stdout",
     "output_type": "stream",
     "text": [
      "     plane        car      plane       bird\n"
     ]
    }
   ],
   "source": [
    "# 构建展示图片的函数\n",
    "def imshow(img):\n",
    "    img=img/2+0.5\n",
    "    # 将tensor转化成numpy格式的数据\n",
    "    npimg=img.numpy()\n",
    "    # 生成一张图片 位于trainset第一张图片\n",
    "    # img = torchvision.utils.make_grid(trainset[1][0]).numpy()\n",
    "#     #维度转换\n",
    "    plt.imshow(np.transpose(npimg,(1,2,0)))\n",
    "    plt.show()\n",
    "\n",
    "# 展示图片\n",
    "imshow(torchvision.utils.make_grid(images))\n",
    "\n",
    "# 打印标签label\n",
    "print(' '.join('%10s'% classes[labels[i]]for i in range(4)))\n"
   ]
  },
  {
   "cell_type": "code",
   "execution_count": null,
   "id": "9de102b4",
   "metadata": {},
   "outputs": [],
   "source": []
  },
  {
   "cell_type": "markdown",
   "id": "88bb1021",
   "metadata": {},
   "source": [
    "### 对DVS Gesture进行分类"
   ]
  },
  {
   "cell_type": "code",
   "execution_count": 21,
   "id": "accf5f18",
   "metadata": {},
   "outputs": [],
   "source": [
    "import torch\n",
    "from spikingjelly.activation_based import surrogate\n",
    "from spikingjelly.activation_based import encoding\n",
    "from torchvision import datasets, transforms\n",
    "import torch.nn as nn\n",
    "from torch.utils.data import DataLoader\n",
    "import torch.nn.functional as F\n",
    "from tqdm import tqdm\n",
    "from spikingjelly.activation_based import monitor, neuron, functional, layer\n",
    "import sys\n",
    "import numpy as np\n",
    "from torch import amp\n",
    "import time\n",
    "import matplotlib.pyplot as plt\n",
    "import torch.nn as nn\n",
    "from torchsummary import summary\n",
    "from spikingjelly.datasets.dvs128_gesture import DVS128Gesture"
   ]
  },
  {
   "cell_type": "code",
   "execution_count": null,
   "id": "0e1164cb",
   "metadata": {},
   "outputs": [],
   "source": [
    "# 测试集评估函数\n",
    "def evaluates3(name, model, data_loader, num_classes = 11):\n",
    "    \"\"\"\n",
    "    这个测试集函数用于具有时间维度的数据，且网络的设计也必须是针对具有时间维度的数据。\n",
    "    \"\"\"\n",
    "    acc = 0\n",
    "    losss = 0\n",
    "    data_num = 0\n",
    "    _ = model.eval()\n",
    "\n",
    "    datas = tqdm(iter(data_loader),file=sys.stdout)\n",
    "    with torch.no_grad():\n",
    "        for data, targets in datas:\n",
    "            data = data.to(device)\n",
    "            data = data.transpose(0, 1)\n",
    "            targets = targets.to(device)\n",
    "            label_onehot = F.one_hot(targets, num_classes).float()  # 将标签变为独热编码\n",
    "\n",
    "            out_fr = model(data) # 将每次输出的脉冲进行相加\n",
    "\n",
    "            loss = F.mse_loss(out_fr, label_onehot)\n",
    "            data_num += targets.numel()\n",
    "            losss += loss.item() * targets.numel()\n",
    "            # 正确率的计算方法如下。认为输出层中脉冲发放频率最大的神经元的下标i是分类结果\n",
    "            acc += (out_fr.argmax(1) == targets).float().sum().item()\n",
    "            \n",
    "            functional.reset_net(model)\n",
    "\n",
    "#             del data, targets,loss\n",
    "#             torch.cuda.empty_cache()\n",
    "    \n",
    "    print(f\"{name} All Acc: {acc/data_num * 100:.2f}%\")\n",
    "    print(f\"{name} All Loss: {losss/data_num:.4f}\")\n",
    "#     print(\"\\n\")\n",
    "    return acc/data_num, losss/data_num"
   ]
  },
  {
   "cell_type": "markdown",
   "id": "4bd25a38",
   "metadata": {},
   "source": [
    "普通网络"
   ]
  },
  {
   "cell_type": "code",
   "execution_count": 16,
   "id": "a7422410",
   "metadata": {},
   "outputs": [],
   "source": [
    "class DVSGestureNet(nn.Module):\n",
    "    def __init__(self, channels=128):\n",
    "        super().__init__()\n",
    "\n",
    "        conv = []\n",
    "        for i in range(5):\n",
    "            if conv.__len__() == 0:\n",
    "                in_channels = 2\n",
    "            else:\n",
    "                in_channels = channels\n",
    "\n",
    "            conv.append(layer.Conv2d(in_channels, channels, kernel_size=3, padding=1, bias=False))\n",
    "            conv.append(layer.BatchNorm2d(channels))\n",
    "            conv.append(neuron.IFNode(surrogate_function=surrogate.ATan()))\n",
    "#             neuron.LIFNode(tau=tau, surrogate_function=surrogate.ATan())   两种神经元的替换使用\n",
    "            conv.append(layer.MaxPool2d(2, 2))\n",
    "\n",
    "\n",
    "        self.conv_fc = nn.Sequential(\n",
    "            *conv,\n",
    "            layer.Flatten(),\n",
    "            layer.Dropout(0.5),\n",
    "            layer.Linear(channels * 4 * 4, 512),\n",
    "            neuron.IFNode(surrogate_function=surrogate.ATan()),\n",
    "\n",
    "            layer.Dropout(0.5),\n",
    "            layer.Linear(512, 110),\n",
    "            neuron.IFNode(surrogate_function=surrogate.ATan()),\n",
    "\n",
    "            layer.VotingLayer(10)\n",
    "        )\n",
    "        # 设置网络的模式，是单步还是多步，一般都是多步\n",
    "        functional.set_step_mode(self, step_mode='m')\n",
    "\n",
    "    def forward(self, x: torch.Tensor):\n",
    "        return self.conv_fc(x)"
   ]
  },
  {
   "cell_type": "code",
   "execution_count": 22,
   "id": "d167cdbd",
   "metadata": {},
   "outputs": [
    {
     "name": "stdout",
     "output_type": "stream",
     "text": [
      "The directory [../data/DVS128Gesture\\frames_number_20_split_by_number] already exists.\n",
      "The directory [../data/DVS128Gesture\\frames_number_20_split_by_number] already exists.\n"
     ]
    }
   ],
   "source": [
    "root_dir = r'../data/DVS128Gesture'\n",
    "T = 20\n",
    "batch_size=16\n",
    "lr=1e-3\n",
    "num_epochs = 50\n",
    "num_classes = 11\n",
    "\n",
    "train_set = DVS128Gesture(root=root_dir, train=True, data_type='frame', frames_number=T, split_by='number')\n",
    "test_set = DVS128Gesture(root=root_dir, train=False, data_type='frame', frames_number=T, split_by='number')\n",
    "train_loader = DataLoader(train_set, batch_size=batch_size, shuffle=True, drop_last=True)\n",
    "test_loader = DataLoader(test_set, batch_size=batch_size, shuffle=True, drop_last=True)\n",
    "\n",
    "# 设备选择使用GPU\n",
    "device = torch.device(\"cuda\") if torch.cuda.is_available() else torch.device(\"cpu\")\n",
    "# 初始化网络 \n",
    "net = DVSGestureNet(channels=32).to(device)\n",
    "# 使用Adam优化器\n",
    "optimizer = torch.optim.Adam(net.parameters(), lr=lr)\n",
    "# 学习率优化\n",
    "lr_scheduler = torch.optim.lr_scheduler.CosineAnnealingLR(optimizer, num_epochs)\n",
    "# scaler = None\n",
    "scaler = amp.GradScaler()\n",
    "\n",
    "train_accs = []\n",
    "train_losss = []\n",
    "test_accs = []\n",
    "test_losss = []\n",
    "best_acc = 0"
   ]
  },
  {
   "cell_type": "markdown",
   "id": "fc230def",
   "metadata": {},
   "source": [
    "DataLoader打包数据的话，第0维是batch维度，故读取的数据维度是[N,T,C,H,W],如下面打印所示，但是spikingjelly的多步模式要求输入数据的维度shape=[T,N,C,H,W],所以要进行转换一下，"
   ]
  },
  {
   "cell_type": "code",
   "execution_count": 18,
   "id": "b92fbeec",
   "metadata": {},
   "outputs": [
    {
     "name": "stdout",
     "output_type": "stream",
     "text": [
      "torch.Size([16, 20, 2, 128, 128]) torch.Size([16])\n"
     ]
    }
   ],
   "source": [
    "# # shape = [N, T, C, H, W]\n",
    "# for x,y in train_loader:\n",
    "#     print(x.shape,y.shape)\n",
    "#     break"
   ]
  },
  {
   "cell_type": "code",
   "execution_count": null,
   "id": "9489aa78",
   "metadata": {},
   "outputs": [],
   "source": [
    "for epoch in range(num_epochs):\n",
    "    start_time = time.time()\n",
    "    _ = net.train()\n",
    "    train_loss = 0\n",
    "    train_acc = 0\n",
    "    train_samples = 0\n",
    "    \n",
    "    datas = tqdm(iter(train_loader),file=sys.stdout)\n",
    "    for img, label in datas:\n",
    "        optimizer.zero_grad()\n",
    "        img = img.to(device)\n",
    "        # 将数据维度由  [N, T, C, H, W] 变为  [T, N, C, H, W]\n",
    "        img = img.transpose(0, 1)\n",
    "        label = label.to(device)\n",
    "        label_onehot = F.one_hot(label, num_classes).float()  # 将标签变为独热编码\n",
    "\n",
    "        # 混合精度训练\n",
    "        if scaler is not None:\n",
    "            with amp.autocast():\n",
    "                out_fr = net(img).mean(0) \n",
    "                loss = F.mse_loss(out_fr, label_onehot)\n",
    "            scaler.scale(loss).backward()\n",
    "            scaler.step(optimizer)\n",
    "            scaler.update()\n",
    "        else:\n",
    "            out_fr = net(img).mean(0)\n",
    "            loss = F.mse_loss(out_fr, label_onehot)\n",
    "            loss.backward()\n",
    "            optimizer.step()\n",
    "\n",
    "        train_samples += label.numel()\n",
    "        train_loss += loss.item() * label.numel()\n",
    "        # 正确率的计算方法如下。  认为输出层中脉冲发放频率最大的神经元的下标i是分类结果\n",
    "        train_acc += (out_fr.argmax(1) == label).float().sum().item()\n",
    "        # 优化一次参数后，需要重置网络的状态，因为SNN的神经元是有“记忆”的。\n",
    "        functional.reset_net(net)\n",
    "        \n",
    "    lr_scheduler.step() # 学习率的优化\n",
    "    end_time = time.time()\n",
    "    print(f\"epoch = {epoch}\")\n",
    "    print(f\"train_single_time = {end_time - start_time:.4f}\")\n",
    "    print(f\"loss = {train_loss/train_samples:.4f}\")\n",
    "    print(f\"acc = {train_acc/train_samples*100:.2f}%\")\n",
    "    train_accs.append(train_acc/train_samples)\n",
    "    train_losss.append(train_loss/train_samples)\n",
    "    \n",
    "    test_acc,test_loss = evaluates3(\"test\", net, test_loader,num_classes)\n",
    "    test_accs.append(test_acc)\n",
    "    test_losss.append(test_loss)\n",
    "    \n",
    "    if test_acc > best_acc:\n",
    "        best_acc = test_acc\n",
    "        torch.save(net.state_dict(), 'save_models/DVS_lr0.001_DVSGestureNet.pt')\n",
    "        print(\"save model param\")\n",
    "    print(f'escape time = {(datetime.datetime.now() + datetime.timedelta(seconds=(time.time() - start_time) * (num_epochs - epoch - 1))).strftime(\"%Y-%m-%d %H:%M:%S\")}\\n')\n",
    "    print(\"\\n\") "
   ]
  },
  {
   "cell_type": "code",
   "execution_count": null,
   "id": "c8ced69d",
   "metadata": {},
   "outputs": [],
   "source": [
    "# Plot Loss\n",
    "fig = plt.figure(facecolor=\"w\", figsize=(5, 5))\n",
    "plt.plot(loss_hist)\n",
    "plt.plot(test_loss_hist)\n",
    "plt.title(\"Loss Curves\")\n",
    "plt.legend([\"Train Loss\", \"Test Loss\"])\n",
    "plt.xlabel(\"Iteration\")\n",
    "plt.ylabel(\"Loss\")\n",
    "plt.show()"
   ]
  },
  {
   "cell_type": "markdown",
   "id": "4ab5208b",
   "metadata": {},
   "source": [
    "sew_resnet"
   ]
  },
  {
   "cell_type": "code",
   "execution_count": null,
   "id": "1c0fc303",
   "metadata": {},
   "outputs": [],
   "source": [
    "# SEW_ResNet原始网络及面对不同数据集所进行的网络变换以及数据操作的变换\n",
    "class BasicBlock(nn.Module):\n",
    "    \"\"\"\n",
    "    实现ResNet网络的第一个基础架构\n",
    "    \"\"\"\n",
    "    expansion = 1\n",
    "    def __init__(self, inplanes, planes, stride=1, downsample=None, groups=1,\n",
    "                 base_width=64, dilation=1, norm_layer=None, connect_f=None):\n",
    "        super(BasicBlock, self).__init__()\n",
    "        \n",
    "        self.connect_f = connect_f\n",
    "        \n",
    "        if norm_layer is None:\n",
    "            norm_layer = layer.BatchNorm2d\n",
    "        if groups != 1 or base_width != 64:\n",
    "            raise ValueError('SpikingBasicBlock only supports groups=1 and base_width=64')\n",
    "        if dilation > 1:\n",
    "            raise NotImplementedError(\"Dilation > 1 not supported in SpikingBasicBlock\")\n",
    "\n",
    "        self.layer1 = nn.Sequential(\n",
    "            layer.Conv2d(inplanes, planes, kernel_size=3, stride = stride, padding=1, bias=False),\n",
    "            norm_layer(planes),\n",
    "            neuron.IFNode(surrogate_function=surrogate.ATan()))\n",
    "        \n",
    "        self.layer2 = nn.Sequential(\n",
    "            layer.Conv2d(planes, planes, kernel_size=3, padding=1, bias=False),\n",
    "            norm_layer(planes),\n",
    "            neuron.IFNode(surrogate_function=surrogate.ATan()))\n",
    "\n",
    "        self.downsample = downsample\n",
    "        \n",
    "        # 设置所有的层为多步模式\n",
    "        functional.set_step_mode(self, step_mode='m')\n",
    "\n",
    "    def forward(self, x):\n",
    "        identity = x\n",
    "        out = self.layer1(x)\n",
    "        out = self.layer2(out)\n",
    "\n",
    "        if self.downsample is not None:\n",
    "            identity = self.downsample(x)\n",
    "        \n",
    "#         print(out.shape)\n",
    "#         print(identity.shape)\n",
    "        if self.connect_f == 'ADD':\n",
    "            out += identity\n",
    "        elif self.connect_f == 'AND':\n",
    "            out *= identity\n",
    "        elif self.connect_f == 'IAND':\n",
    "            out = identity * (1. - out)\n",
    "        else:\n",
    "            raise NotImplementedError(self.connect_f)\n",
    "\n",
    "        return out\n",
    "\n",
    "\n",
    "class Bottleneck(nn.Module):\n",
    "    \"\"\"\n",
    "    实现ResNet网络的瓶颈架构\n",
    "    \"\"\"\n",
    "    expansion = 4\n",
    "    def __init__(self, inplanes, planes, stride=1, downsample=None, groups=1,\n",
    "                 base_width=64, dilation=1, norm_layer=None, connect_f=None):\n",
    "        super(Bottleneck, self).__init__()\n",
    "        \n",
    "        self.connect_f = connect_f\n",
    "        \n",
    "        if norm_layer is None:\n",
    "            norm_layer = layer.BatchNorm2d\n",
    "        \n",
    "        width = int(planes * (base_width / 64.)) * groups\n",
    "        \n",
    "        self.layer1 = nn.Sequential(\n",
    "            layer.Conv2d(inplanes, width, kernel_size=1, bias=False),\n",
    "            norm_layer(width),\n",
    "            neuron.IFNode(surrogate_function=surrogate.ATan()))\n",
    "        \n",
    "        self.layer2 = nn.Sequential(\n",
    "            layer.Conv2d(width, width, kernel_size=3, stride = stride, padding=1, groups = groups, dilation = dilation, bias=False),\n",
    "            norm_layer(width),\n",
    "            neuron.IFNode(surrogate_function=surrogate.ATan()))\n",
    "        \n",
    "        self.layer3 = nn.Sequential(\n",
    "            layer.Conv2d(width, planes * self.expansion, kernel_size=1, bias=False),\n",
    "            norm_layer(planes * self.expansion),\n",
    "            neuron.IFNode(surrogate_function=surrogate.ATan()))\n",
    "   \n",
    "        self.downsample = downsample\n",
    "        \n",
    "        functional.set_step_mode(self, step_mode='m')\n",
    "\n",
    "    def forward(self, x):\n",
    "        identity = x\n",
    "        out = self.layer1(x)\n",
    "        out = self.layer2(x)\n",
    "        out = self.layer3(x)\n",
    "        \n",
    "        if self.downsample is not None:\n",
    "            identity = self.downsample(x)\n",
    "\n",
    "        if self.connect_f == 'ADD':\n",
    "            out += identity\n",
    "        elif self.connect_f == 'AND':\n",
    "            out *= identity\n",
    "        elif self.connect_f == 'IAND':\n",
    "            out = identity * (1. - out)\n",
    "        else:\n",
    "            raise NotImplementedError(self.connect_f)\n",
    "\n",
    "        return out\n",
    "\n",
    "# 对这两个架构的最后一层中的 BN 层进行设置，权重为0，且当连接方式为AND时，偏差置为1\n",
    "def zero_init_blocks(net: nn.Module, connect_f: str):\n",
    "    for m in net.modules():\n",
    "        if isinstance(m, Bottleneck):\n",
    "            nn.init.constant_(m.layer3.module[1].weight, 0)\n",
    "            if connect_f == 'AND':\n",
    "                nn.init.constant_(m.layer3.module[1].bias, 1)\n",
    "        elif isinstance(m, BasicBlock):\n",
    "            nn.init.constant_(m.layer2.module[1].weight, 0)\n",
    "            if connect_f == 'AND':\n",
    "                nn.init.constant_(m.layer2.module[1].bias, 1)\n",
    "\n",
    "# 设计SEWResNet网络，原始的网络\n",
    "class SEWResNet(nn.Module):\n",
    "\n",
    "    def __init__(self, block, layers, input_channels = 3, num_classes=1000, zero_init_residual=False,\n",
    "                 groups=1, width_per_group=64, replace_stride_with_dilation=None,\n",
    "                 norm_layer=None, T=4, connect_f=None, drops = [0,0,0,0], p = [0.5,0.5,0.5,0.5], data_type = 0, net_type = 0):\n",
    "        \"\"\"\n",
    "        data_type：输入的数据是没有时间维度的，还是具有时间维度的\n",
    "        net_type：使用sew_resnet还是sew_resnet2\n",
    "        \"\"\"\n",
    "        super(SEWResNet, self).__init__()\n",
    "        \n",
    "        # 是否使用扩张率代替步长，一般这个操作应该用不上\n",
    "        if replace_stride_with_dilation is None:\n",
    "            replace_stride_with_dilation = [False, False, False]\n",
    "        if len(replace_stride_with_dilation) != 3:\n",
    "            raise ValueError(\"replace_stride_with_dilation should be None \"\n",
    "                             \"or a 3-element tuple, got {}\".format(replace_stride_with_dilation))\n",
    "        \n",
    "        if norm_layer is None:\n",
    "            norm_layer = layer.BatchNorm2d\n",
    "        \n",
    "        self._norm_layer = norm_layer\n",
    "        self.inplanes = 64\n",
    "        self.dilation = 1\n",
    "        self.T = T\n",
    "        self.connect_f = connect_f\n",
    "        self.groups = groups\n",
    "        self.base_width = width_per_group\n",
    "        self.drops = drops\n",
    "        self.data_type = data_type\n",
    "        self.net_type = net_type\n",
    "        \n",
    "        self.layer01 = nn.Sequential(\n",
    "            layer.Conv2d(input_channels, self.inplanes, kernel_size=7, stride=2, padding=3, bias=False),\n",
    "            norm_layer(self.inplanes))\n",
    "        \n",
    "        self.layer02 = nn.Sequential(\n",
    "            neuron.IFNode(surrogate_function=surrogate.ATan()),\n",
    "            layer.MaxPool2d(kernel_size=3, stride=2, padding=1))\n",
    "        functional.set_step_mode(self.layer02, step_mode='m')\n",
    "\n",
    "        self.layer1 = self._make_layer(block, 64, layers[0], connect_f=connect_f)\n",
    "        self.dp1 = layer.Dropout(p[0])\n",
    "        self.layer2 = self._make_layer(block, 128, layers[1], stride=2,\n",
    "                                       dilate=replace_stride_with_dilation[0], connect_f=connect_f)\n",
    "        self.dp2 = layer.Dropout(p[1])\n",
    "        self.layer3 = self._make_layer(block, 256, layers[2], stride=2,\n",
    "                                       dilate=replace_stride_with_dilation[1], connect_f=connect_f)\n",
    "        self.dp3 = layer.Dropout(p[2])\n",
    "        self.layer4 = self._make_layer(block, 512, layers[3], stride=2,\n",
    "                                       dilate=replace_stride_with_dilation[2], connect_f=connect_f)\n",
    "        self.dp4 = layer.Dropout(p[3])\n",
    "        self.avgpool = layer.AdaptiveAvgPool2d((1, 1))\n",
    "        # 最后一层的通道输出需要乘以扩张率\n",
    "        self.fc = layer.Linear(512 * block.expansion, num_classes)\n",
    "\n",
    "        for m in self.modules():\n",
    "            if isinstance(m, layer.Conv2d):\n",
    "                nn.init.kaiming_normal_(m.weight, mode='fan_out', nonlinearity='relu')\n",
    "            elif isinstance(m, (layer.BatchNorm2d, layer.GroupNorm)):\n",
    "                nn.init.constant_(m.weight, 1)\n",
    "                nn.init.constant_(m.bias, 0)\n",
    "\n",
    "        if zero_init_residual:\n",
    "            zero_init_blocks(self, connect_f)\n",
    "    def _make_layer(self, block, planes, blocks, stride=1, dilate=False, connect_f=None):\n",
    "        norm_layer = self._norm_layer\n",
    "        downsample = None\n",
    "        previous_dilation = self.dilation\n",
    "        \n",
    "        # 使用扩张率代替步长\n",
    "        if dilate:\n",
    "            self.dilation *= stride\n",
    "            stride = 1\n",
    "        \n",
    "        # 步长不等于1的时候，当然我们需要使用下采样层，当步长为1，但是在一个Block中，输入通道数不等于输出通道数的时候，\n",
    "        # 我们仍然需要使用下采样层，因为我们每一个block块的输出一定是 planes * block.expansion，输入一定是self.inplanes\n",
    "        if stride != 1 or self.inplanes != planes * block.expansion:\n",
    "            downsample = nn.Sequential(\n",
    "                    layer.Conv2d(self.inplanes, planes * block.expansion, kernel_size=1, stride = stride, bias=False),\n",
    "                    norm_layer(planes * block.expansion),\n",
    "                    neuron.IFNode(surrogate_function=surrogate.ATan()))\n",
    "            functional.set_step_mode(downsample, step_mode='m')\n",
    "            \n",
    "        layers = []\n",
    "        layers.append(block(self.inplanes, planes, stride, downsample, self.groups,\n",
    "                            self.base_width, previous_dilation, norm_layer, connect_f))\n",
    "        # 注意经过一个block之后，输入会发生通道的变化。\n",
    "        self.inplanes = planes * block.expansion\n",
    "        \n",
    "        for _ in range(1, blocks):\n",
    "            layers.append(block(self.inplanes, planes, groups=self.groups,\n",
    "                                base_width=self.base_width, dilation=self.dilation,\n",
    "                                norm_layer=norm_layer, connect_f=connect_f))\n",
    "\n",
    "        return nn.Sequential(*layers)\n",
    "\n",
    "    def _forward_impl(self, x):\n",
    "        if self.data_type == 0:\n",
    "            if self.net_type == 0:\n",
    "                x = self.layer01(x)\n",
    "                x.unsqueeze_(0) # 这一步经过实验可以去掉，因为x.repeat会自动添加维度\n",
    "                x = x.repeat(self.T, 1, 1, 1, 1)  # T,B,C,H,W\n",
    "            else:\n",
    "                x.unsqueeze_(0) # 这一步经过实验可以去掉，因为x.repeat会自动添加维度\n",
    "                x = x.repeat(self.T, 1, 1, 1, 1)  # T,B,C,H,W\n",
    "                x = self.layer01(x)\n",
    "        else:\n",
    "            x = self.layer01(x)\n",
    "        x = self.layer02(x)\n",
    "        x = self.layer1(x)\n",
    "        if self.drops[0]:\n",
    "            x = self.dp1(x)\n",
    "        x = self.layer2(x)\n",
    "        if self.drops[1]:\n",
    "            x = self.dp2(x)\n",
    "        x = self.layer3(x)\n",
    "        if self.drops[2]:\n",
    "            x = self.dp3(x)\n",
    "        x = self.layer4(x)\n",
    "        if self.drops[3]:\n",
    "            x = self.dp4(x)\n",
    "\n",
    "        x = self.avgpool(x)\n",
    "        x = torch.flatten(x, 2) # 将C,H,W合并为一体\n",
    "        return self.fc(x.mean(dim=0)) # 首先在T这个维度求平均，接着使用Linear层\n",
    "\n",
    "    def forward(self, x):\n",
    "        return self._forward_impl(x)\n",
    "    \n",
    "def _sew_resnet(block, layers, **kwargs):\n",
    "    model = SEWResNet(block, layers, **kwargs)\n",
    "    return model\n",
    "\n",
    "\n",
    "def sew_resnet18(**kwargs):\n",
    "    return _sew_resnet(BasicBlock, [2, 2, 2, 2], **kwargs)\n",
    "\n",
    "\n",
    "def sew_resnet34(**kwargs):\n",
    "    return _sew_resnet(BasicBlock, [3, 4, 6, 3], **kwargs)\n",
    "\n",
    "\n",
    "def sew_resnet50(**kwargs):\n",
    "    return _sew_resnet(Bottleneck, [3, 4, 6, 3], **kwargs)\n",
    "\n",
    "\n",
    "def sew_resnet101(**kwargs):\n",
    "    return _sew_resnet(Bottleneck, [3, 4, 23, 3], **kwargs)\n",
    "\n",
    "\n",
    "def sew_resnet152(**kwargs):\n",
    "    return _sew_resnet(Bottleneck, [3, 8, 36, 3], **kwargs)"
   ]
  },
  {
   "cell_type": "code",
   "execution_count": null,
   "id": "8b60edeb",
   "metadata": {},
   "outputs": [],
   "source": [
    "root_dir = r'../data/DVS128Gesture'\n",
    "T = 20\n",
    "batch_size=16\n",
    "lr=1e-2\n",
    "num_epochs = 50\n",
    "num_classes = 11\n",
    "\n",
    "train_set = DVS128Gesture(root=root_dir, train=True, data_type='frame', frames_number=T, split_by='number')\n",
    "test_set = DVS128Gesture(root=root_dir, train=False, data_type='frame', frames_number=T, split_by='number')\n",
    "train_loader = DataLoader(train_set, batch_size=batch_size, shuffle=True, drop_last=True)\n",
    "test_loader = DataLoader(test_set, batch_size=batch_size, shuffle=True, drop_last=True)\n",
    "\n",
    "# 设备选择使用GPU   数据的维度  B, T , 2, 128, 128\n",
    "device = torch.device(\"cuda\") if torch.cuda.is_available() else torch.device(\"cpu\")\n",
    "net = sew_resnet182(input_channels = 2, num_classes = num_classes, connect_f = 'ADD',T = T).to(device) \n",
    "# 使用Adam优化器\n",
    "optimizer = torch.optim.Adam(net.parameters(), lr=lr)\n",
    "# 学习率优化\n",
    "lr_scheduler = torch.optim.lr_scheduler.CosineAnnealingLR(optimizer, num_epochs)\n",
    "# scaler = None\n",
    "scaler = amp.GradScaler()\n",
    "\n",
    "train_accs = []\n",
    "train_losss = []\n",
    "test_accs = []\n",
    "test_losss = []\n",
    "best_acc = 0"
   ]
  },
  {
   "cell_type": "code",
   "execution_count": null,
   "id": "ff1851a7",
   "metadata": {},
   "outputs": [],
   "source": [
    "for epoch in range(num_epochs):\n",
    "    start_time = time.time()\n",
    "    _ = net.train()\n",
    "    train_loss = 0\n",
    "    train_acc = 0\n",
    "    train_samples = 0\n",
    "    \n",
    "    datas = tqdm(iter(train_loader),file=sys.stdout)\n",
    "    for img, label in datas:\n",
    "        optimizer.zero_grad()\n",
    "        img = img.to(device)\n",
    "        # 将数据维度由  [N, T, C, H, W] 变为  [T, N, C, H, W]\n",
    "        img = img.transpose(0, 1)\n",
    "        label = label.to(device)\n",
    "        label_onehot = F.one_hot(label, num_classes).float()  # 将标签变为独热编码\n",
    "\n",
    "        # 混合精度训练\n",
    "        if scaler is not None:\n",
    "            with amp.autocast():\n",
    "                out_fr = net(img)\n",
    "                loss = F.mse_loss(out_fr, label_onehot)\n",
    "            scaler.scale(loss).backward()\n",
    "            scaler.step(optimizer)\n",
    "            scaler.update()\n",
    "        else:\n",
    "            out_fr = net(img)\n",
    "            loss = F.mse_loss(out_fr, label_onehot)\n",
    "            loss.backward()\n",
    "            optimizer.step()\n",
    "\n",
    "        train_samples += label.numel()\n",
    "        train_loss += loss.item() * label.numel()\n",
    "        # 正确率的计算方法如下。  认为输出层中脉冲发放频率最大的神经元的下标i是分类结果\n",
    "        train_acc += (out_fr.argmax(1) == label).float().sum().item()\n",
    "        # 优化一次参数后，需要重置网络的状态，因为SNN的神经元是有“记忆”的。\n",
    "        functional.reset_net(net)\n",
    "        \n",
    "    lr_scheduler.step() # 学习率的优化\n",
    "    end_time = time.time()\n",
    "    print(f\"epoch = {epoch}\")\n",
    "    print(f\"train_single_time = {end_time - start_time:.4f}\")\n",
    "    print(f\"loss = {train_loss/train_samples:.4f}\")\n",
    "    print(f\"acc = {train_acc/train_samples*100:.2f}%\")\n",
    "    train_accs.append(train_acc/train_samples)\n",
    "    train_losss.append(train_loss/train_samples)\n",
    "    \n",
    "    test_acc,test_loss = evaluates3(\"test\", net, test_loader,num_classes)\n",
    "    test_accs.append(test_acc)\n",
    "    test_losss.append(test_loss)\n",
    "    \n",
    "    if test_acc > best_acc:\n",
    "        best_acc = test_acc\n",
    "        torch.save(net.state_dict(), 'save_models/DVSG_lr0.01_SEW18.pt')\n",
    "        print(\"save model param\")\n",
    "    print(f'escape time = {(datetime.datetime.now() + datetime.timedelta(seconds=(time.time() - start_time) * (num_epochs - epoch - 1))).strftime(\"%Y-%m-%d %H:%M:%S\")}\\n')\n",
    "    print(\"\\n\")  "
   ]
  },
  {
   "cell_type": "code",
   "execution_count": null,
   "id": "5665fdb2",
   "metadata": {},
   "outputs": [],
   "source": [
    "# Plot Loss\n",
    "fig = plt.figure(facecolor=\"w\", figsize=(5, 5))\n",
    "plt.plot(loss_hist)\n",
    "plt.plot(test_loss_hist)\n",
    "plt.title(\"Loss Curves\")\n",
    "plt.legend([\"Train Loss\", \"Test Loss\"])\n",
    "plt.xlabel(\"Iteration\")\n",
    "plt.ylabel(\"Loss\")\n",
    "plt.show()"
   ]
  },
  {
   "cell_type": "code",
   "execution_count": null,
   "id": "b6bd76ce",
   "metadata": {},
   "outputs": [],
   "source": []
  },
  {
   "cell_type": "code",
   "execution_count": null,
   "id": "5967fad1",
   "metadata": {},
   "outputs": [],
   "source": []
  },
  {
   "cell_type": "code",
   "execution_count": null,
   "id": "958f1929",
   "metadata": {},
   "outputs": [],
   "source": []
  },
  {
   "cell_type": "markdown",
   "id": "463dcc44",
   "metadata": {},
   "source": [
    "# -----------------------------------下面是汇总形式的代码------------------------------------------"
   ]
  },
  {
   "cell_type": "code",
   "execution_count": 15,
   "id": "7fe204bc",
   "metadata": {
    "collapsed": true
   },
   "outputs": [
    {
     "name": "stdout",
     "output_type": "stream",
     "text": [
      "----------------------------------------------------------------\n",
      "        Layer (type)               Output Shape         Param #\n",
      "================================================================\n",
      "            Conv2d-1      [-1, 1, 32, 128, 128]             576\n",
      "       BatchNorm2d-2      [-1, 1, 32, 128, 128]              64\n",
      "              ATan-3         [-1, 32, 128, 128]               0\n",
      "              ATan-4         [-1, 32, 128, 128]               0\n",
      "            IFNode-5      [-1, 1, 32, 128, 128]               0\n",
      "         MaxPool2d-6        [-1, 1, 32, 64, 64]               0\n",
      "            Conv2d-7        [-1, 1, 32, 64, 64]           9,216\n",
      "       BatchNorm2d-8        [-1, 1, 32, 64, 64]              64\n",
      "              ATan-9           [-1, 32, 64, 64]               0\n",
      "             ATan-10           [-1, 32, 64, 64]               0\n",
      "           IFNode-11        [-1, 1, 32, 64, 64]               0\n",
      "        MaxPool2d-12        [-1, 1, 32, 32, 32]               0\n",
      "           Conv2d-13        [-1, 1, 32, 32, 32]           9,216\n",
      "      BatchNorm2d-14        [-1, 1, 32, 32, 32]              64\n",
      "             ATan-15           [-1, 32, 32, 32]               0\n",
      "             ATan-16           [-1, 32, 32, 32]               0\n",
      "           IFNode-17        [-1, 1, 32, 32, 32]               0\n",
      "        MaxPool2d-18        [-1, 1, 32, 16, 16]               0\n",
      "           Conv2d-19        [-1, 1, 32, 16, 16]           9,216\n",
      "      BatchNorm2d-20        [-1, 1, 32, 16, 16]              64\n",
      "             ATan-21           [-1, 32, 16, 16]               0\n",
      "             ATan-22           [-1, 32, 16, 16]               0\n",
      "           IFNode-23        [-1, 1, 32, 16, 16]               0\n",
      "        MaxPool2d-24          [-1, 1, 32, 8, 8]               0\n",
      "           Conv2d-25          [-1, 1, 32, 8, 8]           9,216\n",
      "      BatchNorm2d-26          [-1, 1, 32, 8, 8]              64\n",
      "             ATan-27             [-1, 32, 8, 8]               0\n",
      "             ATan-28             [-1, 32, 8, 8]               0\n",
      "           IFNode-29          [-1, 1, 32, 8, 8]               0\n",
      "        MaxPool2d-30          [-1, 1, 32, 4, 4]               0\n",
      "          Flatten-31               [-1, 1, 512]               0\n",
      "          Dropout-32               [-1, 1, 512]               0\n",
      "           Linear-33               [-1, 1, 512]         262,656\n",
      "             ATan-34                  [-1, 512]               0\n",
      "             ATan-35                  [-1, 512]               0\n",
      "           IFNode-36               [-1, 1, 512]               0\n",
      "          Dropout-37               [-1, 1, 512]               0\n",
      "           Linear-38               [-1, 1, 110]          56,430\n",
      "             ATan-39                  [-1, 110]               0\n",
      "             ATan-40                  [-1, 110]               0\n",
      "           IFNode-41               [-1, 1, 110]               0\n",
      "      VotingLayer-42                [-1, 1, 11]               0\n",
      "================================================================\n",
      "Total params: 356,846\n",
      "Trainable params: 356,846\n",
      "Non-trainable params: 0\n",
      "----------------------------------------------------------------\n",
      "Input size (MB): 0.12\n",
      "Forward/backward pass size (MB): 28.00\n",
      "Params size (MB): 1.36\n",
      "Estimated Total Size (MB): 29.49\n",
      "----------------------------------------------------------------\n"
     ]
    }
   ],
   "source": [
    "# summary(net, (1,2,128,128))"
   ]
  },
  {
   "cell_type": "markdown",
   "id": "ab3da83f",
   "metadata": {},
   "source": [
    "##### DVS128Gesture"
   ]
  },
  {
   "cell_type": "code",
   "execution_count": 15,
   "id": "2417e304",
   "metadata": {},
   "outputs": [
    {
     "name": "stdout",
     "output_type": "stream",
     "text": [
      "The directory [../data/DVS128Gesture\\frames_number_20_split_by_number] already exists.\n",
      "The directory [../data/DVS128Gesture\\frames_number_20_split_by_number] already exists.\n"
     ]
    }
   ],
   "source": [
    "root_dir = r'../data/DVS128Gesture'\n",
    "T = 20\n",
    "batch_size=16\n",
    "lr=1e-2\n",
    "weight_decay = 1e-5\n",
    "warmup = True\n",
    "num_epochs = 5\n",
    "warmup_epochs = 2\n",
    "num_classes = 11\n",
    "inp_channels = 2\n",
    "data_type = 1\n",
    "if_lrsche = 1\n",
    "T_data = 0 # 代表数据本身已经有时间维度或者网络对数据添加时间维度了，不需要自己再加了。\n",
    "\n",
    "train_set = DVS128Gesture(root=root_dir, train=True, data_type='frame', frames_number=T, split_by='number')\n",
    "test_set = DVS128Gesture(root=root_dir, train=False, data_type='frame', frames_number=T, split_by='number')\n",
    "train_loader = DataLoader(train_set, batch_size=batch_size, shuffle=True, drop_last=True)\n",
    "test_loader = DataLoader(test_set, batch_size=batch_size, shuffle=True, drop_last=True)\n",
    "\n",
    "# 设备选择使用GPU   数据的维度  B, T , 2, 128, 128\n",
    "device = torch.device(\"cuda\") if torch.cuda.is_available() else torch.device(\"cpu\")\n",
    "net = DVSGestureNet(inp_channels = inp_channels, num_classes = num_classes, channels=32).to(device)\n",
    "\n",
    "# # 使用Adam优化器\n",
    "# optimizer = torch.optim.Adam(net.parameters(), lr=lr)\n",
    "# # 学习率优化\n",
    "# lr_scheduler = torch.optim.lr_scheduler.CosineAnnealingLR(optimizer, num_epochs)\n",
    "\n",
    "pg = get_params_groups(net, weight_decay=weight_decay)  # 进行了简单分组的权重 确定了哪些参数需要权重衰减，哪些不需要\n",
    "optimizer = optim.AdamW(pg, lr=lr, weight_decay=weight_decay)\n",
    "lr_scheduler = create_lr_scheduler(optimizer, len(train_loader), num_epochs,\n",
    "                                   warmup=warmup, warmup_epochs=warmup_epochs)\n",
    "loss_function = F.mse_loss\n",
    "# scaler = None\n",
    "scaler = amp.GradScaler()\n",
    "train_accs = []\n",
    "train_losss = []\n",
    "test_accs = []\n",
    "test_losss = []"
   ]
  },
  {
   "cell_type": "code",
   "execution_count": 11,
   "id": "754359c2",
   "metadata": {
    "collapsed": true
   },
   "outputs": [
    {
     "name": "stdout",
     "output_type": "stream",
     "text": [
      "100%|██████████████████████████████████████████████████████████████████████████████████| 73/73 [00:56<00:00,  1.30it/s]\n",
      "epoch = 0,current_lr  = 1e-05\n",
      "train_single_time = 56.0775\n",
      "loss = 0.0845\n",
      "acc = 9.16%\n",
      "100%|██████████████████████████████████████████████████████████████████████████████████| 18/18 [00:12<00:00,  1.45it/s]\n",
      "test All Acc: 13.19%\n",
      "test All Loss: 0.09\n",
      "save model param\n",
      "escape time = 2024-09-29 15:25:27\n",
      "\n",
      "\n",
      "\n",
      "100%|██████████████████████████████████████████████████████████████████████████████████| 73/73 [00:52<00:00,  1.39it/s]\n",
      "epoch = 1,current_lr  = 7.842465753424658e-05\n",
      "train_single_time = 52.3607\n",
      "loss = 0.0819\n",
      "acc = 16.27%\n",
      "100%|██████████████████████████████████████████████████████████████████████████████████| 18/18 [00:06<00:00,  2.94it/s]\n",
      "test All Acc: 20.49%\n",
      "test All Loss: 0.08\n",
      "save model param\n",
      "escape time = 2024-09-29 15:24:47\n",
      "\n",
      "\n",
      "\n",
      "100%|██████████████████████████████████████████████████████████████████████████████████| 73/73 [00:52<00:00,  1.39it/s]\n",
      "epoch = 2,current_lr  = 0.00014684931506849314\n",
      "train_single_time = 52.3891\n",
      "loss = 0.0772\n",
      "acc = 29.97%\n",
      "100%|██████████████████████████████████████████████████████████████████████████████████| 18/18 [00:05<00:00,  3.01it/s]\n",
      "test All Acc: 46.88%\n",
      "test All Loss: 0.07\n",
      "save model param\n",
      "escape time = 2024-09-29 15:24:46\n",
      "\n",
      "\n",
      "\n",
      "100%|██████████████████████████████████████████████████████████████████████████████████| 73/73 [00:54<00:00,  1.33it/s]\n",
      "epoch = 3,current_lr  = 0.00021527397260273973\n",
      "train_single_time = 54.9809\n",
      "loss = 0.0676\n",
      "acc = 44.26%\n",
      "100%|██████████████████████████████████████████████████████████████████████████████████| 18/18 [00:06<00:00,  2.76it/s]\n",
      "test All Acc: 51.04%\n",
      "test All Loss: 0.06\n",
      "save model param\n",
      "escape time = 2024-09-29 15:24:53\n",
      "\n",
      "\n",
      "\n",
      "100%|██████████████████████████████████████████████████████████████████████████████████| 73/73 [00:53<00:00,  1.37it/s]\n",
      "epoch = 4,current_lr  = 0.0002836986301369863\n",
      "train_single_time = 53.3920\n",
      "loss = 0.0607\n",
      "acc = 51.03%\n",
      "100%|██████████████████████████████████████████████████████████████████████████████████| 18/18 [00:06<00:00,  2.89it/s]\n",
      "test All Acc: 52.08%\n",
      "test All Loss: 0.06\n",
      "save model param\n",
      "escape time = 2024-09-29 15:24:51\n",
      "\n",
      "\n",
      "\n"
     ]
    }
   ],
   "source": [
    "train_accs,train_losss,test_accs,test_losss = train(num_epochs, net, train_loader,\n",
    "        test_loader, optimizer, device, loss_function, scaler = scaler, \n",
    "        encoder = encoding.PoissonEncoder(), T = T_data, num_classes = num_classes, \n",
    "        data_type = data_type, save_model = \"./save_models/test_ges2.pt\", if_lrsche = if_lrsche)"
   ]
  },
  {
   "cell_type": "code",
   "execution_count": 15,
   "id": "b6a57800",
   "metadata": {
    "collapsed": true
   },
   "outputs": [
    {
     "data": {
      "image/png": "[encoded data removed]",
      "text/plain": [
       "<Figure size 500x500 with 1 Axes>"
      ]
     },
     "metadata": {},
     "output_type": "display_data"
    },
    {
     "data": {
      "image/png": "[encoded data removed]",
      "text/plain": [
       "<Figure size 500x500 with 1 Axes>"
      ]
     },
     "metadata": {},
     "output_type": "display_data"
    }
   ],
   "source": [
    "plot_data(train_accs,test_accs,\"acc\")\n",
    "plot_data(train_losss,test_losss,\"loss\")"
   ]
  },
  {
   "cell_type": "code",
   "execution_count": null,
   "id": "3c214dd7",
   "metadata": {},
   "outputs": [],
   "source": []
  },
  {
   "cell_type": "markdown",
   "id": "27e5d912",
   "metadata": {},
   "source": [
    "##### MNIST"
   ]
  },
  {
   "cell_type": "code",
   "execution_count": null,
   "id": "523b5f0f",
   "metadata": {},
   "outputs": [],
   "source": [
    "# 数据集获取\n",
    "def get_mnist(data_path, batch_size):\n",
    "    # Define a transform\n",
    "    transform = transforms.Compose([\n",
    "                transforms.Resize((28, 28)),\n",
    "    #             transforms.Grayscale(),\n",
    "                transforms.ToTensor(),\n",
    "                transforms.Normalize((0,), (1,))\n",
    "                ])\n",
    "\n",
    "    mnist_train = datasets.MNIST(data_path, train=True, download=False, transform=transform)\n",
    "    mnist_test = datasets.MNIST(data_path, train=False, download=False, transform=transform)\n",
    "\n",
    "    train_loader = DataLoader(mnist_train, batch_size=batch_size, shuffle=True, drop_last=True)\n",
    "    test_loader = DataLoader(mnist_test, batch_size=batch_size, shuffle=True, drop_last=True)\n",
    "    \n",
    "    return train_loader,test_loader"
   ]
  },
  {
   "cell_type": "code",
   "execution_count": 30,
   "id": "b7052021",
   "metadata": {},
   "outputs": [],
   "source": [
    "root_dir = r'../data'\n",
    "batch_size=512\n",
    "lr=1e-2\n",
    "weight_decay = 1e-5\n",
    "warmup = True\n",
    "num_epochs = 5\n",
    "warmup_epochs = 2\n",
    "num_classes = 10\n",
    "data_type = 0  # 数据是否具有时间维度，0表示没有，1表示有\n",
    "T = 4 # 静态数据需要的时间步\n",
    "if_lrsche = 1\n",
    "T_data = 0 # 代表数据本身已经有时间维度或者网络对数据添加时间维度了，不需要自己再加了,一般会在网络中直接加入时间步，所以基本上这个值都是0\n",
    "\n",
    "transform = transforms.Compose([\n",
    "            transforms.Resize((28, 28)),\n",
    "#             transforms.Grayscale(),\n",
    "            transforms.ToTensor(),\n",
    "            transforms.Normalize((0,), (1,))\n",
    "            ])\n",
    "mnist_train = datasets.MNIST(root_dir, train=True, download=False, transform=transform)\n",
    "mnist_test = datasets.MNIST(root_dir, train=False, download=False, transform=transform)\n",
    "\n",
    "train_loader = DataLoader(mnist_train, batch_size=batch_size, shuffle=True, drop_last=True)\n",
    "test_loader = DataLoader(mnist_test, batch_size=batch_size, shuffle=True, drop_last=True)\n",
    "\n",
    "# 设备选择使用GPU   数据的维度  B, T , 2, 128, 128\n",
    "device = torch.device(\"cuda\") if torch.cuda.is_available() else torch.device(\"cpu\")\n",
    "net = sew_resnet18(input_channels = 1,num_classes = num_classes, connect_f = 'ADD',T = T).to(device)\n",
    "# (block, layers, input_channels = 3, num_classes=1000, zero_init_residual=False,groups=1, \n",
    "#  width_per_group=64, replace_stride_with_dilation=None,norm_layer=None, T=4, connect_f=None, \n",
    "#  drops = [0,0,0,0], p = [0.5,0.5,0.5,0.5], data_type = 0, net_type = 0)\n",
    "\n",
    "# # 使用Adam优化器\n",
    "# optimizer = torch.optim.Adam(net.parameters(), lr=lr)\n",
    "# # 学习率优化\n",
    "# lr_scheduler = torch.optim.lr_scheduler.CosineAnnealingLR(optimizer, num_epochs)\n",
    "\n",
    "pg = get_params_groups(net, weight_decay=weight_decay)  # 进行了简单分组的权重 确定了哪些参数需要权重衰减，哪些不需要\n",
    "optimizer = optim.AdamW(pg, lr=lr, weight_decay=weight_decay)\n",
    "lr_scheduler = create_lr_scheduler(optimizer, len(train_loader), num_epochs,\n",
    "                                   warmup=warmup, warmup_epochs=warmup_epochs)\n",
    "loss_function = F.mse_loss\n",
    "# scaler = None\n",
    "scaler = amp.GradScaler()\n",
    "train_accs = []\n",
    "train_losss = []\n",
    "test_accs = []\n",
    "test_losss = []"
   ]
  },
  {
   "cell_type": "code",
   "execution_count": 31,
   "id": "934ba8d2",
   "metadata": {
    "collapsed": true
   },
   "outputs": [
    {
     "data": {
      "application/vnd.jupyter.widget-view+json": {
       "model_id": "c490b2978c0a408bb28d4cdcc817f3d4",
       "version_major": 2,
       "version_minor": 0
      },
      "text/plain": [
       "  0%|          | 0/117 [00:00<?, ?it/s]"
      ]
     },
     "metadata": {},
     "output_type": "display_data"
    },
    {
     "name": "stdout",
     "output_type": "stream",
     "text": [
      "epoch = 0,current_lr  = 1e-05\n",
      "train_single_time = 17.9990\n",
      "loss = 0.1407\n",
      "acc = 18.70%\n"
     ]
    },
    {
     "data": {
      "application/vnd.jupyter.widget-view+json": {
       "model_id": "19e38c465e324512a2e4ee4d588fce77",
       "version_major": 2,
       "version_minor": 0
      },
      "text/plain": [
       "  0%|          | 0/19 [00:00<?, ?it/s]"
      ]
     },
     "metadata": {},
     "output_type": "display_data"
    },
    {
     "name": "stdout",
     "output_type": "stream",
     "text": [
      "test All Acc: 30.04%\n",
      "test All Loss: 0.10\n",
      "save model param\n",
      "escape time = 2024-09-29 18:30:14\n",
      "\n",
      "\n",
      "\n"
     ]
    },
    {
     "data": {
      "application/vnd.jupyter.widget-view+json": {
       "model_id": "829b4249abdc4dca81dbface96b127d6",
       "version_major": 2,
       "version_minor": 0
      },
      "text/plain": [
       "  0%|          | 0/117 [00:00<?, ?it/s]"
      ]
     },
     "metadata": {},
     "output_type": "display_data"
    },
    {
     "name": "stdout",
     "output_type": "stream",
     "text": [
      "epoch = 1,current_lr  = 5.26923076923077e-05\n",
      "train_single_time = 17.5746\n",
      "loss = 0.0743\n",
      "acc = 56.56%\n"
     ]
    },
    {
     "data": {
      "application/vnd.jupyter.widget-view+json": {
       "model_id": "d5c04c79ad31455091d22cfd4b28ac00",
       "version_major": 2,
       "version_minor": 0
      },
      "text/plain": [
       "  0%|          | 0/19 [00:00<?, ?it/s]"
      ]
     },
     "metadata": {},
     "output_type": "display_data"
    },
    {
     "name": "stdout",
     "output_type": "stream",
     "text": [
      "test All Acc: 71.18%\n",
      "test All Loss: 0.06\n",
      "save model param\n",
      "escape time = 2024-09-29 18:30:10\n",
      "\n",
      "\n",
      "\n"
     ]
    },
    {
     "data": {
      "application/vnd.jupyter.widget-view+json": {
       "model_id": "a338415a60f9430c9e7c16a8d34c16d9",
       "version_major": 2,
       "version_minor": 0
      },
      "text/plain": [
       "  0%|          | 0/117 [00:00<?, ?it/s]"
      ]
     },
     "metadata": {},
     "output_type": "display_data"
    },
    {
     "name": "stdout",
     "output_type": "stream",
     "text": [
      "epoch = 2,current_lr  = 9.53846153846154e-05\n",
      "train_single_time = 16.9943\n",
      "loss = 0.0470\n",
      "acc = 80.87%\n"
     ]
    },
    {
     "data": {
      "application/vnd.jupyter.widget-view+json": {
       "model_id": "836e23f0ff864f3fb787042e5316c191",
       "version_major": 2,
       "version_minor": 0
      },
      "text/plain": [
       "  0%|          | 0/19 [00:00<?, ?it/s]"
      ]
     },
     "metadata": {},
     "output_type": "display_data"
    },
    {
     "name": "stdout",
     "output_type": "stream",
     "text": [
      "test All Acc: 87.48%\n",
      "test All Loss: 0.04\n",
      "save model param\n",
      "escape time = 2024-09-29 18:30:08\n",
      "\n",
      "\n",
      "\n"
     ]
    },
    {
     "data": {
      "application/vnd.jupyter.widget-view+json": {
       "model_id": "ff9e205fcdde482e9dcbeeb3509e16fd",
       "version_major": 2,
       "version_minor": 0
      },
      "text/plain": [
       "  0%|          | 0/117 [00:00<?, ?it/s]"
      ]
     },
     "metadata": {},
     "output_type": "display_data"
    },
    {
     "name": "stdout",
     "output_type": "stream",
     "text": [
      "epoch = 3,current_lr  = 0.00013807692307692308\n",
      "train_single_time = 17.6207\n",
      "loss = 0.0293\n",
      "acc = 90.75%\n"
     ]
    },
    {
     "data": {
      "application/vnd.jupyter.widget-view+json": {
       "model_id": "61934caf244b41a88067e1fb1620a2df",
       "version_major": 2,
       "version_minor": 0
      },
      "text/plain": [
       "  0%|          | 0/19 [00:00<?, ?it/s]"
      ]
     },
     "metadata": {},
     "output_type": "display_data"
    },
    {
     "name": "stdout",
     "output_type": "stream",
     "text": [
      "test All Acc: 93.39%\n",
      "test All Loss: 0.02\n",
      "save model param\n",
      "escape time = 2024-09-29 18:30:10\n",
      "\n",
      "\n",
      "\n"
     ]
    },
    {
     "data": {
      "application/vnd.jupyter.widget-view+json": {
       "model_id": "a9804430199d4dbd93de294b988905ec",
       "version_major": 2,
       "version_minor": 0
      },
      "text/plain": [
       "  0%|          | 0/117 [00:00<?, ?it/s]"
      ]
     },
     "metadata": {},
     "output_type": "display_data"
    },
    {
     "name": "stdout",
     "output_type": "stream",
     "text": [
      "epoch = 4,current_lr  = 0.00018076923076923077\n",
      "train_single_time = 18.2087\n",
      "loss = 0.0196\n",
      "acc = 94.44%\n"
     ]
    },
    {
     "data": {
      "application/vnd.jupyter.widget-view+json": {
       "model_id": "7aee61cff617406dbdd6b9978bb4bfd3",
       "version_major": 2,
       "version_minor": 0
      },
      "text/plain": [
       "  0%|          | 0/19 [00:00<?, ?it/s]"
      ]
     },
     "metadata": {},
     "output_type": "display_data"
    },
    {
     "name": "stdout",
     "output_type": "stream",
     "text": [
      "test All Acc: 95.75%\n",
      "test All Loss: 0.02\n",
      "save model param\n",
      "escape time = 2024-09-29 18:30:11\n",
      "\n",
      "\n",
      "\n"
     ]
    }
   ],
   "source": [
    "train_accs,train_losss,test_accs,test_losss = train(num_epochs, net, train_loader,\n",
    "        test_loader, optimizer, device, loss_function, scaler = scaler, \n",
    "        encoder = encoding.PoissonEncoder(), T = T_data, num_classes = num_classes, \n",
    "        data_type = data_type, save_model = \"./save_models/test_mnist.pt\", if_lrsche = if_lrsche)"
   ]
  },
  {
   "cell_type": "code",
   "execution_count": null,
   "id": "0fdd6282",
   "metadata": {},
   "outputs": [],
   "source": []
  },
  {
   "cell_type": "markdown",
   "id": "d4e047a1",
   "metadata": {},
   "source": [
    "##### NMNIST "
   ]
  },
  {
   "cell_type": "markdown",
   "id": "559d9cad",
   "metadata": {},
   "source": [
    "------------------探索----------------------"
   ]
  },
  {
   "cell_type": "code",
   "execution_count": 18,
   "id": "7a58b39d",
   "metadata": {},
   "outputs": [],
   "source": [
    "import tonic\n",
    "import torch\n",
    "# from tqdm import tqdm\n",
    "from tqdm.notebook import tqdm  \n",
    "import torchvision\n",
    "import tonic.transforms as transforms\n",
    "from torch.utils.data import DataLoader\n",
    "from tonic import DiskCachedDataset"
   ]
  },
  {
   "cell_type": "markdown",
   "id": "17c3804a",
   "metadata": {},
   "source": [
    "1.2快速数据加载  \n",
    "  \n",
    "原始数据以一种读取速度较慢的格式存储。为了加速数据加载，我们可以利用磁盘缓存和批处理。这意味着一旦从原始数据集中加载文件，它们就会被写入磁盘。  因为事件记录具有不同的长度，我们将提供一个排序函数tonic.collation.PadTensors()，该函数将填充较短的记录，以确保批处理中的所有样本具有相同的尺寸。"
   ]
  },
  {
   "cell_type": "code",
   "execution_count": 24,
   "id": "e1beb4ec",
   "metadata": {},
   "outputs": [],
   "source": [
    "sensor_size = tonic.datasets.NMNIST.sensor_size\n",
    "\n",
    "frame_transform = transforms.Compose([transforms.Denoise(filter_time=10000), \n",
    "                                      transforms.ToFrame(sensor_size=sensor_size, \n",
    "                                                         time_window=10000)\n",
    "                                     ])\n",
    "trainset = tonic.datasets.NMNIST(save_to='../data', transform=frame_transform, train=True)\n",
    "testset = tonic.datasets.NMNIST(save_to='../data', transform=frame_transform, train=False)\n",
    "\n",
    "# transform = tonic.transforms.Compose([torch.from_numpy,\n",
    "#                                       torchvision.transforms.RandomRotation([-10,10])])\n",
    "\n",
    "# cached_trainset = DiskCachedDataset(trainset, transform=transform, cache_path='../data/nmnist_local/train')\n",
    "# # no augmentations for the testset\n",
    "# cached_testset = DiskCachedDataset(testset, cache_path='../data/nmnist_local/test')\n",
    "\n",
    "# batch_size = 10\n",
    "# trainloader = DataLoader(cached_trainset, batch_size=batch_size, \n",
    "#                          collate_fn=tonic.collation.PadTensors(batch_first=False), shuffle=False,drop_last=True)\n",
    "# testloader = DataLoader(cached_testset, batch_size=batch_size, \n",
    "#                         collate_fn=tonic.collation.PadTensors(batch_first=False), drop_last=True)"
   ]
  },
  {
   "cell_type": "code",
   "execution_count": 13,
   "id": "a4b2d73a",
   "metadata": {
    "collapsed": true
   },
   "outputs": [
    {
     "data": {
      "application/vnd.jupyter.widget-view+json": {
       "model_id": "42c11de205e94b4d98d8685ca5205d4b",
       "version_major": 2,
       "version_minor": 0
      },
      "text/plain": [
       "  0%|          | 0/6000 [00:00<?, ?it/s]"
      ]
     },
     "metadata": {},
     "output_type": "display_data"
    },
    {
     "name": "stdout",
     "output_type": "stream",
     "text": [
      "torch.Size([309, 10, 2, 34, 34])\n"
     ]
    }
   ],
   "source": [
    "for event_tensor, target in tqdm(trainloader):\n",
    "    print(event_tensor.shape)\n",
    "    break"
   ]
  },
  {
   "cell_type": "code",
   "execution_count": 27,
   "id": "43c2c7d5",
   "metadata": {},
   "outputs": [
    {
     "data": {
      "text/plain": [
       "(30, 2, 34, 34)"
      ]
     },
     "execution_count": 27,
     "metadata": {},
     "output_type": "execute_result"
    }
   ],
   "source": [
    "sensor_size\n",
    "trainset[4][0].shape"
   ]
  },
  {
   "cell_type": "markdown",
   "id": "61724d11",
   "metadata": {},
   "source": [
    "----------------------结束----------------------------------------------"
   ]
  },
  {
   "cell_type": "markdown",
   "id": "12975304",
   "metadata": {},
   "source": [
    "##### NMNIST数据集"
   ]
  },
  {
   "cell_type": "code",
   "execution_count": 7,
   "id": "27e34f3f",
   "metadata": {},
   "outputs": [],
   "source": [
    "from start1 import *"
   ]
  },
  {
   "cell_type": "code",
   "execution_count": null,
   "id": "0117a525",
   "metadata": {},
   "outputs": [],
   "source": [
    "## 数据划分方式\n",
    "# from spikingjelly.datasets.n_mnist import NMNIST\n",
    "\n",
    "# data_path = r'E:\\mycode\\jupyter\\0.SNN\\data\\NMNIST'\n",
    "# T = 20\n",
    "# train_set = NMNIST(root=data_path, train=True, data_type='frame', frames_number=T, split_by='number')\n",
    "# test_set = NMNIST(root=data_path, train=False, data_type='frame', frames_number=T, split_by='number')"
   ]
  },
  {
   "cell_type": "code",
   "execution_count": 8,
   "id": "0fe8dd9d",
   "metadata": {},
   "outputs": [],
   "source": [
    "# 数据集获取   NMNIST\n",
    "def get_nmnist(data_path = r'../data/NMNIST', batch_size = 512, T = 20):\n",
    "    train_set = NMNIST(root=data_path, train=True, data_type='frame', frames_number=T, split_by='number')\n",
    "    test_set = NMNIST(root=data_path, train=False, data_type='frame', frames_number=T, split_by='number')\n",
    "    train_loader = DataLoader(train_set, batch_size=batch_size, shuffle=True, drop_last=True)\n",
    "    test_loader = DataLoader(test_set, batch_size=batch_size, shuffle=False, drop_last=True)\n",
    "    return train_loader,test_loader"
   ]
  },
  {
   "cell_type": "code",
   "execution_count": 10,
   "id": "9396d75d",
   "metadata": {},
   "outputs": [
    {
     "name": "stdout",
     "output_type": "stream",
     "text": [
      "The directory [../data/NMNIST\\frames_number_20_split_by_number] already exists.\n",
      "The directory [../data/NMNIST\\frames_number_20_split_by_number] already exists.\n"
     ]
    },
    {
     "data": {
      "text/plain": [
       "117"
      ]
     },
     "execution_count": 10,
     "metadata": {},
     "output_type": "execute_result"
    },
    {
     "data": {
      "text/plain": [
       "19"
      ]
     },
     "execution_count": 10,
     "metadata": {},
     "output_type": "execute_result"
    }
   ],
   "source": [
    "train_loader,test_loader = get_nmnist()\n",
    "len(train_loader)\n",
    "len(test_loader)"
   ]
  },
  {
   "cell_type": "markdown",
   "id": "47471594",
   "metadata": {},
   "source": [
    "##### ASLDVS数据集   \n",
    "无法使用"
   ]
  },
  {
   "cell_type": "code",
   "execution_count": 18,
   "id": "4cf98ed6",
   "metadata": {},
   "outputs": [],
   "source": [
    "# from spikingjelly.datasets.asl_dvs import ASLDVS"
   ]
  },
  {
   "cell_type": "code",
   "execution_count": 19,
   "id": "e171f549",
   "metadata": {
    "collapsed": true
   },
   "outputs": [
    {
     "name": "stdout",
     "output_type": "stream",
     "text": [
      "The [../data/ASLDVS\\download] directory for saving downloaded files already exists, check files...\n",
      "The ICCV2019_DVS_dataset.zip is packed by dropbox. We find that the MD5 of this zip file can change. So, MD5 check will not be used for this ASL-DVS dataset.\n",
      "The file [../data/ASLDVS\\download\\ICCV2019_DVS_dataset.zip] does not exist or is corrupted.\n"
     ]
    },
    {
     "ename": "NotImplementedError",
     "evalue": "This dataset can not be downloaded by SpikingJelly, please download [ICCV2019_DVS_dataset.zip] from [https://www.dropbox.com/sh/ibq0jsicatn7l6r/AACNrNELV56rs1YInMWUs9CAa?dl=0] manually and put files at ../data/ASLDVS\\download.",
     "output_type": "error",
     "traceback": [
      "\u001b[1;31m---------------------------------------------------------------------------\u001b[0m",
      "\u001b[1;31mNotImplementedError\u001b[0m                       Traceback (most recent call last)",
      "Cell \u001b[1;32mIn[19], line 3\u001b[0m\n\u001b[0;32m      1\u001b[0m data_path \u001b[38;5;241m=\u001b[39m \u001b[38;5;124mr\u001b[39m\u001b[38;5;124m'\u001b[39m\u001b[38;5;124m../data/ASLDVS\u001b[39m\u001b[38;5;124m'\u001b[39m\n\u001b[0;32m      2\u001b[0m T \u001b[38;5;241m=\u001b[39m \u001b[38;5;241m20\u001b[39m\n\u001b[1;32m----> 3\u001b[0m train_set \u001b[38;5;241m=\u001b[39m \u001b[43mASLDVS\u001b[49m\u001b[43m(\u001b[49m\u001b[43mroot\u001b[49m\u001b[38;5;241;43m=\u001b[39;49m\u001b[43mdata_path\u001b[49m\u001b[43m,\u001b[49m\u001b[43m \u001b[49m\u001b[43mdata_type\u001b[49m\u001b[38;5;241;43m=\u001b[39;49m\u001b[38;5;124;43m'\u001b[39;49m\u001b[38;5;124;43mframe\u001b[39;49m\u001b[38;5;124;43m'\u001b[39;49m\u001b[43m,\u001b[49m\u001b[43m \u001b[49m\u001b[43mframes_number\u001b[49m\u001b[38;5;241;43m=\u001b[39;49m\u001b[43mT\u001b[49m\u001b[43m,\u001b[49m\u001b[43m \u001b[49m\u001b[43msplit_by\u001b[49m\u001b[38;5;241;43m=\u001b[39;49m\u001b[38;5;124;43m'\u001b[39;49m\u001b[38;5;124;43mnumber\u001b[39;49m\u001b[38;5;124;43m'\u001b[39;49m\u001b[43m)\u001b[49m\n",
      "File \u001b[1;32mD:\\software\\anaconda\\envs\\my_torch\\Lib\\site-packages\\spikingjelly\\datasets\\asl_dvs.py:31\u001b[0m, in \u001b[0;36mASLDVS.__init__\u001b[1;34m(self, root, data_type, frames_number, split_by, duration, custom_integrate_function, custom_integrated_frames_dir_name, transform, target_transform)\u001b[0m\n\u001b[0;32m     14\u001b[0m \u001b[38;5;28;01mdef\u001b[39;00m \u001b[38;5;21m__init__\u001b[39m(\n\u001b[0;32m     15\u001b[0m         \u001b[38;5;28mself\u001b[39m,\n\u001b[0;32m     16\u001b[0m         root: \u001b[38;5;28mstr\u001b[39m,\n\u001b[1;32m   (...)\u001b[0m\n\u001b[0;32m     24\u001b[0m         target_transform: Optional[Callable] \u001b[38;5;241m=\u001b[39m \u001b[38;5;28;01mNone\u001b[39;00m,\n\u001b[0;32m     25\u001b[0m ) \u001b[38;5;241m-\u001b[39m\u001b[38;5;241m>\u001b[39m \u001b[38;5;28;01mNone\u001b[39;00m:\n\u001b[0;32m     26\u001b[0m \u001b[38;5;250m    \u001b[39m\u001b[38;5;124;03m\"\"\"\u001b[39;00m\n\u001b[0;32m     27\u001b[0m \u001b[38;5;124;03m    The ASL-DVS dataset, which is proposed by `Graph-based Object Classification for Neuromorphic Vision Sensing <https://openaccess.thecvf.com/content_ICCV_2019/html/Bi_Graph-Based_Object_Classification_for_Neuromorphic_Vision_Sensing_ICCV_2019_paper.html>`_.\u001b[39;00m\n\u001b[0;32m     28\u001b[0m \n\u001b[0;32m     29\u001b[0m \u001b[38;5;124;03m    Refer to :class:`spikingjelly.datasets.NeuromorphicDatasetFolder` for more details about params information.\u001b[39;00m\n\u001b[0;32m     30\u001b[0m \u001b[38;5;124;03m    \"\"\"\u001b[39;00m\n\u001b[1;32m---> 31\u001b[0m     \u001b[38;5;28;43msuper\u001b[39;49m\u001b[43m(\u001b[49m\u001b[43m)\u001b[49m\u001b[38;5;241;43m.\u001b[39;49m\u001b[38;5;21;43m__init__\u001b[39;49m\u001b[43m(\u001b[49m\u001b[43mroot\u001b[49m\u001b[43m,\u001b[49m\u001b[43m \u001b[49m\u001b[38;5;28;43;01mNone\u001b[39;49;00m\u001b[43m,\u001b[49m\u001b[43m \u001b[49m\u001b[43mdata_type\u001b[49m\u001b[43m,\u001b[49m\u001b[43m \u001b[49m\u001b[43mframes_number\u001b[49m\u001b[43m,\u001b[49m\u001b[43m \u001b[49m\u001b[43msplit_by\u001b[49m\u001b[43m,\u001b[49m\u001b[43m \u001b[49m\u001b[43mduration\u001b[49m\u001b[43m,\u001b[49m\u001b[43m \u001b[49m\u001b[43mcustom_integrate_function\u001b[49m\u001b[43m,\u001b[49m\u001b[43m \u001b[49m\u001b[43mcustom_integrated_frames_dir_name\u001b[49m\u001b[43m,\u001b[49m\u001b[43m \u001b[49m\u001b[43mtransform\u001b[49m\u001b[43m,\u001b[49m\n\u001b[0;32m     32\u001b[0m \u001b[43m                     \u001b[49m\u001b[43mtarget_transform\u001b[49m\u001b[43m)\u001b[49m\n",
      "File \u001b[1;32mD:\\software\\anaconda\\envs\\my_torch\\Lib\\site-packages\\spikingjelly\\datasets\\__init__.py:676\u001b[0m, in \u001b[0;36mNeuromorphicDatasetFolder.__init__\u001b[1;34m(self, root, train, data_type, frames_number, split_by, duration, custom_integrate_function, custom_integrated_frames_dir_name, transform, target_transform)\u001b[0m\n\u001b[0;32m    674\u001b[0m                 utils\u001b[38;5;241m.\u001b[39mdownload_url(url\u001b[38;5;241m=\u001b[39murl, root\u001b[38;5;241m=\u001b[39mdownload_root, filename\u001b[38;5;241m=\u001b[39mfile_name, md5\u001b[38;5;241m=\u001b[39mmd5)\n\u001b[0;32m    675\u001b[0m             \u001b[38;5;28;01melse\u001b[39;00m:\n\u001b[1;32m--> 676\u001b[0m                 \u001b[38;5;28;01mraise\u001b[39;00m \u001b[38;5;167;01mNotImplementedError\u001b[39;00m(\n\u001b[0;32m    677\u001b[0m                     \u001b[38;5;124mf\u001b[39m\u001b[38;5;124m'\u001b[39m\u001b[38;5;124mThis dataset can not be downloaded by SpikingJelly, please download [\u001b[39m\u001b[38;5;132;01m{\u001b[39;00mfile_name\u001b[38;5;132;01m}\u001b[39;00m\u001b[38;5;124m] from [\u001b[39m\u001b[38;5;132;01m{\u001b[39;00murl\u001b[38;5;132;01m}\u001b[39;00m\u001b[38;5;124m] manually and put files at \u001b[39m\u001b[38;5;132;01m{\u001b[39;00mdownload_root\u001b[38;5;132;01m}\u001b[39;00m\u001b[38;5;124m.\u001b[39m\u001b[38;5;124m'\u001b[39m)\n\u001b[0;32m    679\u001b[0m \u001b[38;5;28;01melse\u001b[39;00m:\n\u001b[0;32m    680\u001b[0m     os\u001b[38;5;241m.\u001b[39mmkdir(download_root)\n",
      "\u001b[1;31mNotImplementedError\u001b[0m: This dataset can not be downloaded by SpikingJelly, please download [ICCV2019_DVS_dataset.zip] from [https://www.dropbox.com/sh/ibq0jsicatn7l6r/AACNrNELV56rs1YInMWUs9CAa?dl=0] manually and put files at ../data/ASLDVS\\download."
     ]
    }
   ],
   "source": [
    "# data_path = r'../data/ASLDVS'\n",
    "# T = 20\n",
    "# train_set = ASLDVS(root=data_path, data_type='frame', frames_number=T, split_by='number')"
   ]
  },
  {
   "cell_type": "code",
   "execution_count": null,
   "id": "06a521e7",
   "metadata": {},
   "outputs": [],
   "source": []
  },
  {
   "cell_type": "markdown",
   "id": "fa9714ad",
   "metadata": {},
   "source": [
    "##### NCaltech101数据集  \n",
    "这个数据集没有自动划分好训练集，测试集，所以需要自己手动划分"
   ]
  },
  {
   "cell_type": "code",
   "execution_count": 22,
   "id": "8ebce4db",
   "metadata": {},
   "outputs": [],
   "source": [
    "from spikingjelly.datasets.n_caltech101 import NCaltech101\n",
    "import torch\n",
    "from spikingjelly.datasets import split_to_train_test_set as sptt"
   ]
  },
  {
   "cell_type": "code",
   "execution_count": null,
   "id": "838a665e",
   "metadata": {},
   "outputs": [],
   "source": [
    "# from spikingjelly.datasets.n_caltech101 import NCaltech101\n",
    "# import torch\n",
    "# from spikingjelly.datasets import split_to_train_test_set as sptt\n",
    "\n",
    "# data_path = r'E:\\mycode\\jupyter\\0.SNN\\data\\NCaltech101'\n",
    "# T = 20\n",
    "# num_classes = 101\n",
    "# data = NCaltech101(root=data_path, data_type='frame', frames_number=T, split_by='number')\n",
    "\n",
    "# train_set, test_set = sptt(train_ratio = 0.8,origin_dataset = data,num_classes = num_classes,random_split =True)\n",
    "# torch.save(train_set, r'E:\\mycode\\jupyter\\0.SNN\\data\\NCaltech101\\NCaltech101_split\\NCaltech101_train0.8.pth')\n",
    "# torch.save(test_set, r'E:\\mycode\\jupyter\\0.SNN\\data\\NCaltech101\\NCaltech101_split\\NCaltech101_test0.2.pth')\n",
    "# train_data = torch.load(r'E:\\mycode\\jupyter\\0.SNN\\data\\NCaltech101\\NCaltech101_split\\NCaltech101_train0.8.pth')\n",
    "# test_set = torch.load(r'E:\\mycode\\jupyter\\0.SNN\\data\\NCaltech101\\NCaltech101_split\\NCaltech101_test0.2.pth')\n",
    "# print(train_data)"
   ]
  },
  {
   "cell_type": "code",
   "execution_count": 18,
   "id": "4b9b3d4a",
   "metadata": {
    "collapsed": true
   },
   "outputs": [
    {
     "name": "stdout",
     "output_type": "stream",
     "text": [
      "The [../data/NCaltech101\\download] directory for saving downloaded files already exists, check files...\n",
      "Mkdir [../data/NCaltech101\\extract].\n",
      "Extract [../data/NCaltech101\\download\\Caltech101.zip] to [../data/NCaltech101\\extract].\n"
     ]
    },
    {
     "ename": "KeyboardInterrupt",
     "evalue": "",
     "output_type": "error",
     "traceback": [
      "\u001b[1;31m---------------------------------------------------------------------------\u001b[0m",
      "\u001b[1;31mKeyboardInterrupt\u001b[0m                         Traceback (most recent call last)",
      "Cell \u001b[1;32mIn[18], line 3\u001b[0m\n\u001b[0;32m      1\u001b[0m data_path \u001b[38;5;241m=\u001b[39m \u001b[38;5;124mr\u001b[39m\u001b[38;5;124m'\u001b[39m\u001b[38;5;124m../data/NCaltech101\u001b[39m\u001b[38;5;124m'\u001b[39m\n\u001b[0;32m      2\u001b[0m T \u001b[38;5;241m=\u001b[39m \u001b[38;5;241m20\u001b[39m\n\u001b[1;32m----> 3\u001b[0m train_set \u001b[38;5;241m=\u001b[39m NCaltech101(root\u001b[38;5;241m=\u001b[39mdata_path, data_type\u001b[38;5;241m=\u001b[39m\u001b[38;5;124m'\u001b[39m\u001b[38;5;124mframe\u001b[39m\u001b[38;5;124m'\u001b[39m, frames_number\u001b[38;5;241m=\u001b[39mT, split_by\u001b[38;5;241m=\u001b[39m\u001b[38;5;124m'\u001b[39m\u001b[38;5;124mnumber\u001b[39m\u001b[38;5;124m'\u001b[39m)\n",
      "File \u001b[1;32mD:\\software\\anaconda\\envs\\my_torch\\Lib\\site-packages\\spikingjelly\\datasets\\n_caltech101.py:29\u001b[0m, in \u001b[0;36mNCaltech101.__init__\u001b[1;34m(self, root, data_type, frames_number, split_by, duration, custom_integrate_function, custom_integrated_frames_dir_name, transform, target_transform)\u001b[0m\n\u001b[0;32m     12\u001b[0m \u001b[38;5;28;01mdef\u001b[39;00m \u001b[38;5;21m__init__\u001b[39m(\n\u001b[0;32m     13\u001b[0m         \u001b[38;5;28mself\u001b[39m,\n\u001b[0;32m     14\u001b[0m         root: \u001b[38;5;28mstr\u001b[39m,\n\u001b[1;32m   (...)\u001b[0m\n\u001b[0;32m     22\u001b[0m         target_transform: Optional[Callable] \u001b[38;5;241m=\u001b[39m \u001b[38;5;28;01mNone\u001b[39;00m,\n\u001b[0;32m     23\u001b[0m ) \u001b[38;5;241m-\u001b[39m\u001b[38;5;241m>\u001b[39m \u001b[38;5;28;01mNone\u001b[39;00m:\n\u001b[0;32m     24\u001b[0m \u001b[38;5;250m    \u001b[39m\u001b[38;5;124;03m\"\"\"\u001b[39;00m\n\u001b[0;32m     25\u001b[0m \u001b[38;5;124;03m    The N-Caltech101 dataset, which is proposed by `Converting Static Image Datasets to Spiking Neuromorphic Datasets Using Saccades <https://www.frontiersin.org/articles/10.3389/fnins.2015.00437/full>`_.\u001b[39;00m\n\u001b[0;32m     26\u001b[0m \n\u001b[0;32m     27\u001b[0m \u001b[38;5;124;03m    Refer to :class:`spikingjelly.datasets.NeuromorphicDatasetFolder` for more details about params information.\u001b[39;00m\n\u001b[0;32m     28\u001b[0m \u001b[38;5;124;03m    \"\"\"\u001b[39;00m\n\u001b[1;32m---> 29\u001b[0m     \u001b[38;5;28msuper\u001b[39m()\u001b[38;5;241m.\u001b[39m\u001b[38;5;21m__init__\u001b[39m(root, \u001b[38;5;28;01mNone\u001b[39;00m, data_type, frames_number, split_by, duration, custom_integrate_function, custom_integrated_frames_dir_name, transform, target_transform)\n",
      "File \u001b[1;32mD:\\software\\anaconda\\envs\\my_torch\\Lib\\site-packages\\spikingjelly\\datasets\\__init__.py:706\u001b[0m, in \u001b[0;36mNeuromorphicDatasetFolder.__init__\u001b[1;34m(self, root, train, data_type, frames_number, split_by, duration, custom_integrate_function, custom_integrated_frames_dir_name, transform, target_transform)\u001b[0m\n\u001b[0;32m    704\u001b[0m     os\u001b[38;5;241m.\u001b[39mmkdir(extract_root)\n\u001b[0;32m    705\u001b[0m     \u001b[38;5;28mprint\u001b[39m(\u001b[38;5;124mf\u001b[39m\u001b[38;5;124m'\u001b[39m\u001b[38;5;124mMkdir [\u001b[39m\u001b[38;5;132;01m{\u001b[39;00mextract_root\u001b[38;5;132;01m}\u001b[39;00m\u001b[38;5;124m].\u001b[39m\u001b[38;5;124m'\u001b[39m)\n\u001b[1;32m--> 706\u001b[0m     \u001b[38;5;28mself\u001b[39m\u001b[38;5;241m.\u001b[39mextract_downloaded_files(download_root, extract_root)\n\u001b[0;32m    708\u001b[0m \u001b[38;5;66;03m# Now let us convert the origin binary files to npz files\u001b[39;00m\n\u001b[0;32m    709\u001b[0m os\u001b[38;5;241m.\u001b[39mmkdir(events_np_root)\n",
      "File \u001b[1;32mD:\\software\\anaconda\\envs\\my_torch\\Lib\\site-packages\\spikingjelly\\datasets\\n_caltech101.py:65\u001b[0m, in \u001b[0;36mNCaltech101.extract_downloaded_files\u001b[1;34m(download_root, extract_root)\u001b[0m\n\u001b[0;32m     63\u001b[0m zip_file \u001b[38;5;241m=\u001b[39m os\u001b[38;5;241m.\u001b[39mpath\u001b[38;5;241m.\u001b[39mjoin(download_root, \u001b[38;5;124m'\u001b[39m\u001b[38;5;124mCaltech101.zip\u001b[39m\u001b[38;5;124m'\u001b[39m)\n\u001b[0;32m     64\u001b[0m \u001b[38;5;28mprint\u001b[39m(\u001b[38;5;124mf\u001b[39m\u001b[38;5;124m'\u001b[39m\u001b[38;5;124mExtract [\u001b[39m\u001b[38;5;132;01m{\u001b[39;00mzip_file\u001b[38;5;132;01m}\u001b[39;00m\u001b[38;5;124m] to [\u001b[39m\u001b[38;5;132;01m{\u001b[39;00mextract_root\u001b[38;5;132;01m}\u001b[39;00m\u001b[38;5;124m].\u001b[39m\u001b[38;5;124m'\u001b[39m)\n\u001b[1;32m---> 65\u001b[0m extract_archive(zip_file, extract_root)\n",
      "File \u001b[1;32mD:\\software\\anaconda\\envs\\my_torch\\Lib\\site-packages\\torchvision\\datasets\\utils.py:374\u001b[0m, in \u001b[0;36mextract_archive\u001b[1;34m(from_path, to_path, remove_finished)\u001b[0m\n\u001b[0;32m    371\u001b[0m \u001b[38;5;66;03m# We don't need to check for a missing key here, since this was already done in _detect_file_type()\u001b[39;00m\n\u001b[0;32m    372\u001b[0m extractor \u001b[38;5;241m=\u001b[39m _ARCHIVE_EXTRACTORS[archive_type]\n\u001b[1;32m--> 374\u001b[0m extractor(from_path, to_path, compression)\n\u001b[0;32m    375\u001b[0m \u001b[38;5;28;01mif\u001b[39;00m remove_finished:\n\u001b[0;32m    376\u001b[0m     os\u001b[38;5;241m.\u001b[39mremove(from_path)\n",
      "File \u001b[1;32mD:\\software\\anaconda\\envs\\my_torch\\Lib\\site-packages\\torchvision\\datasets\\utils.py:235\u001b[0m, in \u001b[0;36m_extract_zip\u001b[1;34m(from_path, to_path, compression)\u001b[0m\n\u001b[0;32m    229\u001b[0m \u001b[38;5;28;01mdef\u001b[39;00m \u001b[38;5;21m_extract_zip\u001b[39m(\n\u001b[0;32m    230\u001b[0m     from_path: Union[\u001b[38;5;28mstr\u001b[39m, pathlib\u001b[38;5;241m.\u001b[39mPath], to_path: Union[\u001b[38;5;28mstr\u001b[39m, pathlib\u001b[38;5;241m.\u001b[39mPath], compression: Optional[\u001b[38;5;28mstr\u001b[39m]\n\u001b[0;32m    231\u001b[0m ) \u001b[38;5;241m-\u001b[39m\u001b[38;5;241m>\u001b[39m \u001b[38;5;28;01mNone\u001b[39;00m:\n\u001b[0;32m    232\u001b[0m     \u001b[38;5;28;01mwith\u001b[39;00m zipfile\u001b[38;5;241m.\u001b[39mZipFile(\n\u001b[0;32m    233\u001b[0m         from_path, \u001b[38;5;124m\"\u001b[39m\u001b[38;5;124mr\u001b[39m\u001b[38;5;124m\"\u001b[39m, compression\u001b[38;5;241m=\u001b[39m_ZIP_COMPRESSION_MAP[compression] \u001b[38;5;28;01mif\u001b[39;00m compression \u001b[38;5;28;01melse\u001b[39;00m zipfile\u001b[38;5;241m.\u001b[39mZIP_STORED\n\u001b[0;32m    234\u001b[0m     ) \u001b[38;5;28;01mas\u001b[39;00m \u001b[38;5;28mzip\u001b[39m:\n\u001b[1;32m--> 235\u001b[0m         \u001b[38;5;28mzip\u001b[39m\u001b[38;5;241m.\u001b[39mextractall(to_path)\n",
      "File \u001b[1;32mD:\\software\\anaconda\\envs\\my_torch\\Lib\\zipfile.py:1702\u001b[0m, in \u001b[0;36mZipFile.extractall\u001b[1;34m(self, path, members, pwd)\u001b[0m\n\u001b[0;32m   1699\u001b[0m     path \u001b[38;5;241m=\u001b[39m os\u001b[38;5;241m.\u001b[39mfspath(path)\n\u001b[0;32m   1701\u001b[0m \u001b[38;5;28;01mfor\u001b[39;00m zipinfo \u001b[38;5;129;01min\u001b[39;00m members:\n\u001b[1;32m-> 1702\u001b[0m     \u001b[38;5;28mself\u001b[39m\u001b[38;5;241m.\u001b[39m_extract_member(zipinfo, path, pwd)\n",
      "File \u001b[1;32mD:\\software\\anaconda\\envs\\my_torch\\Lib\\zipfile.py:1757\u001b[0m, in \u001b[0;36mZipFile._extract_member\u001b[1;34m(self, member, targetpath, pwd)\u001b[0m\n\u001b[0;32m   1753\u001b[0m     \u001b[38;5;28;01mreturn\u001b[39;00m targetpath\n\u001b[0;32m   1755\u001b[0m \u001b[38;5;28;01mwith\u001b[39;00m \u001b[38;5;28mself\u001b[39m\u001b[38;5;241m.\u001b[39mopen(member, pwd\u001b[38;5;241m=\u001b[39mpwd) \u001b[38;5;28;01mas\u001b[39;00m source, \\\n\u001b[0;32m   1756\u001b[0m      \u001b[38;5;28mopen\u001b[39m(targetpath, \u001b[38;5;124m\"\u001b[39m\u001b[38;5;124mwb\u001b[39m\u001b[38;5;124m\"\u001b[39m) \u001b[38;5;28;01mas\u001b[39;00m target:\n\u001b[1;32m-> 1757\u001b[0m     shutil\u001b[38;5;241m.\u001b[39mcopyfileobj(source, target)\n\u001b[0;32m   1759\u001b[0m \u001b[38;5;28;01mreturn\u001b[39;00m targetpath\n",
      "File \u001b[1;32mD:\\software\\anaconda\\envs\\my_torch\\Lib\\shutil.py:197\u001b[0m, in \u001b[0;36mcopyfileobj\u001b[1;34m(fsrc, fdst, length)\u001b[0m\n\u001b[0;32m    195\u001b[0m fdst_write \u001b[38;5;241m=\u001b[39m fdst\u001b[38;5;241m.\u001b[39mwrite\n\u001b[0;32m    196\u001b[0m \u001b[38;5;28;01mwhile\u001b[39;00m \u001b[38;5;28;01mTrue\u001b[39;00m:\n\u001b[1;32m--> 197\u001b[0m     buf \u001b[38;5;241m=\u001b[39m fsrc_read(length)\n\u001b[0;32m    198\u001b[0m     \u001b[38;5;28;01mif\u001b[39;00m \u001b[38;5;129;01mnot\u001b[39;00m buf:\n\u001b[0;32m    199\u001b[0m         \u001b[38;5;28;01mbreak\u001b[39;00m\n",
      "File \u001b[1;32mD:\\software\\anaconda\\envs\\my_torch\\Lib\\zipfile.py:966\u001b[0m, in \u001b[0;36mZipExtFile.read\u001b[1;34m(self, n)\u001b[0m\n\u001b[0;32m    964\u001b[0m \u001b[38;5;28mself\u001b[39m\u001b[38;5;241m.\u001b[39m_offset \u001b[38;5;241m=\u001b[39m \u001b[38;5;241m0\u001b[39m\n\u001b[0;32m    965\u001b[0m \u001b[38;5;28;01mwhile\u001b[39;00m n \u001b[38;5;241m>\u001b[39m \u001b[38;5;241m0\u001b[39m \u001b[38;5;129;01mand\u001b[39;00m \u001b[38;5;129;01mnot\u001b[39;00m \u001b[38;5;28mself\u001b[39m\u001b[38;5;241m.\u001b[39m_eof:\n\u001b[1;32m--> 966\u001b[0m     data \u001b[38;5;241m=\u001b[39m \u001b[38;5;28mself\u001b[39m\u001b[38;5;241m.\u001b[39m_read1(n)\n\u001b[0;32m    967\u001b[0m     \u001b[38;5;28;01mif\u001b[39;00m n \u001b[38;5;241m<\u001b[39m \u001b[38;5;28mlen\u001b[39m(data):\n\u001b[0;32m    968\u001b[0m         \u001b[38;5;28mself\u001b[39m\u001b[38;5;241m.\u001b[39m_readbuffer \u001b[38;5;241m=\u001b[39m data\n",
      "File \u001b[1;32mD:\\software\\anaconda\\envs\\my_torch\\Lib\\zipfile.py:1042\u001b[0m, in \u001b[0;36mZipExtFile._read1\u001b[1;34m(self, n)\u001b[0m\n\u001b[0;32m   1040\u001b[0m \u001b[38;5;28;01melif\u001b[39;00m \u001b[38;5;28mself\u001b[39m\u001b[38;5;241m.\u001b[39m_compress_type \u001b[38;5;241m==\u001b[39m ZIP_DEFLATED:\n\u001b[0;32m   1041\u001b[0m     n \u001b[38;5;241m=\u001b[39m \u001b[38;5;28mmax\u001b[39m(n, \u001b[38;5;28mself\u001b[39m\u001b[38;5;241m.\u001b[39mMIN_READ_SIZE)\n\u001b[1;32m-> 1042\u001b[0m     data \u001b[38;5;241m=\u001b[39m \u001b[38;5;28mself\u001b[39m\u001b[38;5;241m.\u001b[39m_decompressor\u001b[38;5;241m.\u001b[39mdecompress(data, n)\n\u001b[0;32m   1043\u001b[0m     \u001b[38;5;28mself\u001b[39m\u001b[38;5;241m.\u001b[39m_eof \u001b[38;5;241m=\u001b[39m (\u001b[38;5;28mself\u001b[39m\u001b[38;5;241m.\u001b[39m_decompressor\u001b[38;5;241m.\u001b[39meof \u001b[38;5;129;01mor\u001b[39;00m\n\u001b[0;32m   1044\u001b[0m                  \u001b[38;5;28mself\u001b[39m\u001b[38;5;241m.\u001b[39m_compress_left \u001b[38;5;241m<\u001b[39m\u001b[38;5;241m=\u001b[39m \u001b[38;5;241m0\u001b[39m \u001b[38;5;129;01mand\u001b[39;00m\n\u001b[0;32m   1045\u001b[0m                  \u001b[38;5;129;01mnot\u001b[39;00m \u001b[38;5;28mself\u001b[39m\u001b[38;5;241m.\u001b[39m_decompressor\u001b[38;5;241m.\u001b[39munconsumed_tail)\n\u001b[0;32m   1046\u001b[0m     \u001b[38;5;28;01mif\u001b[39;00m \u001b[38;5;28mself\u001b[39m\u001b[38;5;241m.\u001b[39m_eof:\n",
      "\u001b[1;31mKeyboardInterrupt\u001b[0m: "
     ]
    }
   ],
   "source": [
    "# data_path = r'../data/NCaltech101'\n",
    "# T = 20\n",
    "# num_classes = 101\n",
    "# data = NCaltech101(root=data_path, data_type='frame', frames_number=T, split_by='number')\n",
    "\n",
    "# train_set,test_set = sptt(train_ratio = 0.8,origin_dataset = data,num_classes = num_classes,random_split =True)\n",
    "# torch.save(train_set,r'../data/cifar10dvs_split/NCaltech101_train0.8.pth')\n",
    "# torch.save(test_set,r'../data/cifar10dvs_split/NCaltech101_test0.2.pth')\n",
    "# train_data = torch.load(r'../data/cifar10dvs_split/cifar_train0.7.pth')\n",
    "# test_set = torch.load(r'../data/cifar10dvs_split/cifar_test0.3.pth')"
   ]
  },
  {
   "cell_type": "code",
   "execution_count": 27,
   "id": "53cba04d",
   "metadata": {
    "collapsed": true
   },
   "outputs": [
    {
     "name": "stdout",
     "output_type": "stream",
     "text": [
      "The directory [E:\\mycode\\jupyter\\0.SNN\\data\\NCaltech101\\frames_number_20_split_by_number] already exists.\n"
     ]
    },
    {
     "name": "stderr",
     "output_type": "stream",
     "text": [
      "100%|██████████████████████████████████████████████████████████████████████████████| 8709/8709 [07:42<00:00, 18.85it/s]\n",
      "C:\\Users\\ALiang\\AppData\\Local\\Temp\\ipykernel_16080\\3129222799.py:13: FutureWarning: You are using `torch.load` with `weights_only=False` (the current default value), which uses the default pickle module implicitly. It is possible to construct malicious pickle data which will execute arbitrary code during unpickling (See https://github.com/pytorch/pytorch/blob/main/SECURITY.md#untrusted-models for more details). In a future release, the default value for `weights_only` will be flipped to `True`. This limits the functions that could be executed during unpickling. Arbitrary objects will no longer be allowed to be loaded via this mode unless they are explicitly allowlisted by the user via `torch.serialization.add_safe_globals`. We recommend you start setting `weights_only=True` for any use case where you don't have full control of the loaded file. Please open an issue on GitHub for any issues related to this experimental feature.\n",
      "  train_data = torch.load(r'E:\\mycode\\jupyter\\0.SNN\\data\\NCaltech101\\NCaltech101_split\\NCaltech101_train0.8.pth')\n",
      "C:\\Users\\ALiang\\AppData\\Local\\Temp\\ipykernel_16080\\3129222799.py:14: FutureWarning: You are using `torch.load` with `weights_only=False` (the current default value), which uses the default pickle module implicitly. It is possible to construct malicious pickle data which will execute arbitrary code during unpickling (See https://github.com/pytorch/pytorch/blob/main/SECURITY.md#untrusted-models for more details). In a future release, the default value for `weights_only` will be flipped to `True`. This limits the functions that could be executed during unpickling. Arbitrary objects will no longer be allowed to be loaded via this mode unless they are explicitly allowlisted by the user via `torch.serialization.add_safe_globals`. We recommend you start setting `weights_only=True` for any use case where you don't have full control of the loaded file. Please open an issue on GitHub for any issues related to this experimental feature.\n",
      "  test_data = torch.load(r'E:\\mycode\\jupyter\\0.SNN\\data\\NCaltech101\\NCaltech101_split\\NCaltech101_test0.2.pth')\n"
     ]
    },
    {
     "data": {
      "text/plain": [
       "7008"
      ]
     },
     "execution_count": 27,
     "metadata": {},
     "output_type": "execute_result"
    },
    {
     "data": {
      "text/plain": [
       "1701"
      ]
     },
     "execution_count": 27,
     "metadata": {},
     "output_type": "execute_result"
    }
   ],
   "source": [
    "# from spikingjelly.datasets.n_caltech101 import NCaltech101\n",
    "# import torch\n",
    "# from spikingjelly.datasets import split_to_train_test_set as sptt\n",
    "\n",
    "# data_path = r'E:\\mycode\\jupyter\\0.SNN\\data\\NCaltech101'\n",
    "# T = 20\n",
    "# num_classes = 101\n",
    "# data = NCaltech101(root=data_path, data_type='frame', frames_number=T, split_by='number')\n",
    "\n",
    "# train_set, test_set = sptt(train_ratio = 0.8,origin_dataset = data,num_classes = num_classes,random_split =True)\n",
    "# torch.save(train_set, r'E:\\mycode\\jupyter\\0.SNN\\data\\NCaltech101\\NCaltech101_split\\NCaltech101_train0.8.pth')\n",
    "# torch.save(test_set, r'E:\\mycode\\jupyter\\0.SNN\\data\\NCaltech101\\NCaltech101_split\\NCaltech101_test0.2.pth')\n",
    "# train_data = torch.load(r'E:\\mycode\\jupyter\\0.SNN\\data\\NCaltech101\\NCaltech101_split\\NCaltech101_train0.8.pth')\n",
    "# test_data = torch.load(r'E:\\mycode\\jupyter\\0.SNN\\data\\NCaltech101\\NCaltech101_split\\NCaltech101_test0.2.pth')\n",
    "# len(train_data)\n",
    "# len(test_data)"
   ]
  },
  {
   "cell_type": "code",
   "execution_count": 16,
   "id": "bc63538c",
   "metadata": {},
   "outputs": [],
   "source": [
    "# 数据集获取  NCaltech101\n",
    "def get_NCaltech101(train_path = r'../data/NCaltech101/split/t20/train0.8.pth', \n",
    "                   test_path = r'../data/NCaltech101/split/t20/test0.2.pth',\n",
    "                   batch_size = 64, T = 20):\n",
    "    train_set = torch.load(train_path)\n",
    "    test_set = torch.load(test_path)\n",
    "    train_loader = DataLoader(train_set, batch_size=batch_size, shuffle=True, drop_last=True)\n",
    "    test_loader = DataLoader(test_set, batch_size=batch_size, shuffle=False, drop_last=True)\n",
    "    return train_loader,test_loader"
   ]
  },
  {
   "cell_type": "code",
   "execution_count": 17,
   "id": "74b36e3e",
   "metadata": {
    "collapsed": true
   },
   "outputs": [
    {
     "name": "stderr",
     "output_type": "stream",
     "text": [
      "C:\\Users\\ALiang\\AppData\\Local\\Temp\\ipykernel_17412\\2771308110.py:5: FutureWarning: You are using `torch.load` with `weights_only=False` (the current default value), which uses the default pickle module implicitly. It is possible to construct malicious pickle data which will execute arbitrary code during unpickling (See https://github.com/pytorch/pytorch/blob/main/SECURITY.md#untrusted-models for more details). In a future release, the default value for `weights_only` will be flipped to `True`. This limits the functions that could be executed during unpickling. Arbitrary objects will no longer be allowed to be loaded via this mode unless they are explicitly allowlisted by the user via `torch.serialization.add_safe_globals`. We recommend you start setting `weights_only=True` for any use case where you don't have full control of the loaded file. Please open an issue on GitHub for any issues related to this experimental feature.\n",
      "  train_set = torch.load(train_path)\n",
      "C:\\Users\\ALiang\\AppData\\Local\\Temp\\ipykernel_17412\\2771308110.py:6: FutureWarning: You are using `torch.load` with `weights_only=False` (the current default value), which uses the default pickle module implicitly. It is possible to construct malicious pickle data which will execute arbitrary code during unpickling (See https://github.com/pytorch/pytorch/blob/main/SECURITY.md#untrusted-models for more details). In a future release, the default value for `weights_only` will be flipped to `True`. This limits the functions that could be executed during unpickling. Arbitrary objects will no longer be allowed to be loaded via this mode unless they are explicitly allowlisted by the user via `torch.serialization.add_safe_globals`. We recommend you start setting `weights_only=True` for any use case where you don't have full control of the loaded file. Please open an issue on GitHub for any issues related to this experimental feature.\n",
      "  test_set = torch.load(test_path)\n"
     ]
    },
    {
     "data": {
      "text/plain": [
       "109"
      ]
     },
     "execution_count": 17,
     "metadata": {},
     "output_type": "execute_result"
    },
    {
     "data": {
      "text/plain": [
       "26"
      ]
     },
     "execution_count": 17,
     "metadata": {},
     "output_type": "execute_result"
    }
   ],
   "source": [
    "train_loader,test_loader = get_NCaltech101()\n",
    "len(train_loader)\n",
    "len(test_loader)"
   ]
  },
  {
   "cell_type": "code",
   "execution_count": null,
   "id": "1622cd2d",
   "metadata": {},
   "outputs": [],
   "source": []
  },
  {
   "cell_type": "code",
   "execution_count": null,
   "id": "17ebc37a",
   "metadata": {},
   "outputs": [],
   "source": []
  },
  {
   "cell_type": "markdown",
   "id": "e01987b3",
   "metadata": {},
   "source": [
    "##### Cifar10 数据集"
   ]
  },
  {
   "cell_type": "code",
   "execution_count": 1,
   "id": "f76d1453",
   "metadata": {},
   "outputs": [],
   "source": [
    "from start1 import *"
   ]
  },
  {
   "cell_type": "code",
   "execution_count": 3,
   "id": "26ce263a",
   "metadata": {},
   "outputs": [],
   "source": [
    "# 数据集获取\n",
    "def get_cifar10(data_path, batch_size):\n",
    "    # 定义数据变换\n",
    "    transform = transforms.Compose(\n",
    "        [transforms.ToTensor(),  # 将图片转换为Tensor\n",
    "         transforms.Normalize((0.5, 0.5, 0.5), (0.5, 0.5, 0.5))])  # 归一化\n",
    "    # 下载CIFAR10数据集\n",
    "    # #训练集\n",
    "    trainset=datasets.CIFAR10(root=data_path,train=True,download=False,transform=transform)\n",
    "    # 测试集\n",
    "    testset=datasets.CIFAR10(root=data_path,train=False,download=False,transform=transform)\n",
    "\n",
    "    #练习集 封装成DataLoader的形式 batch_size 按照批次传 shuffle 将数据打散 num_workers 线程\n",
    "    # 创建DataLoader对象\n",
    "    train_loader=torch.utils.data.DataLoader(trainset,batch_size=batch_size,shuffle=True)\n",
    "    test_loader=torch.utils.data.DataLoader(testset,batch_size=batch_size,shuffle=False)\n",
    "\n",
    "    return train_loader,test_loader"
   ]
  },
  {
   "cell_type": "markdown",
   "id": "94e10bf6",
   "metadata": {},
   "source": [
    "##### 测试学习率的调度"
   ]
  },
  {
   "cell_type": "code",
   "execution_count": 25,
   "id": "55ca1a06",
   "metadata": {
    "collapsed": true
   },
   "outputs": [
    {
     "data": {
      "text/plain": [
       "<Figure size 600x300 with 0 Axes>"
      ]
     },
     "execution_count": 25,
     "metadata": {},
     "output_type": "execute_result"
    },
    {
     "data": {
      "text/plain": [
       "[<matplotlib.lines.Line2D at 0x15d7fed2a50>]"
      ]
     },
     "execution_count": 25,
     "metadata": {},
     "output_type": "execute_result"
    },
    {
     "data": {
      "image/png": "[encoded data removed]",
      "text/plain": [
       "<Figure size 600x300 with 1 Axes>"
      ]
     },
     "metadata": {},
     "output_type": "display_data"
    }
   ],
   "source": [
    "root_dir = r'../data'\n",
    "batch_size=512\n",
    "lr=1e-2\n",
    "weight_decay = 0.\n",
    "warmup = True\n",
    "num_epochs = 100\n",
    "warmup_epochs = 2\n",
    "num_classes = 10\n",
    "T = 0\n",
    "train_loader,test_loader = get_cifar10(root_dir, batch_size = 512)\n",
    "device = torch.device(\"cuda\") if torch.cuda.is_available() else torch.device(\"cpu\")\n",
    "net = sew_resnet18(input_channels = 3,num_classes = num_classes, connect_f = 'ADD',T = T).to(device)\n",
    "pg = get_params_groups(net, weight_decay=weight_decay)  # 进行了简单分组的权重 确定了哪些参数需要权重衰减，哪些不需要\n",
    "optimizer = optim.AdamW(pg, lr=lr, weight_decay=weight_decay)\n",
    "lr_scheduler = create_lr_scheduler(optimizer, len(train_loader), num_epochs,\n",
    "                                   warmup=warmup, warmup_epochs=warmup_epochs)\n",
    "lr_list =[]\n",
    "# 绘制学习率\n",
    "for _ in range(num_epochs):\n",
    "    for _ in range(len(train_loader)):\n",
    "        lr_scheduler.step()\n",
    "        lr = optimizer.param_groups[0][\"lr\"]\n",
    "        lr_list.append(lr)\n",
    "\n",
    "plt.figure(figsize = (6,3))\n",
    "plt.plot(range(len(lr_list)),lr_list)\n",
    "plt.show()"
   ]
  },
  {
   "cell_type": "code",
   "execution_count": 35,
   "id": "b9933e31",
   "metadata": {
    "collapsed": true
   },
   "outputs": [
    {
     "data": {
      "text/plain": [
       "<Figure size 600x300 with 0 Axes>"
      ]
     },
     "execution_count": 35,
     "metadata": {},
     "output_type": "execute_result"
    },
    {
     "data": {
      "text/plain": [
       "[<matplotlib.lines.Line2D at 0x15d10b38e90>]"
      ]
     },
     "execution_count": 35,
     "metadata": {},
     "output_type": "execute_result"
    },
    {
     "data": {
      "image/png": "[encoded data removed]",
      "text/plain": [
       "<Figure size 600x300 with 1 Axes>"
      ]
     },
     "metadata": {},
     "output_type": "display_data"
    }
   ],
   "source": [
    "root_dir = r'../data'\n",
    "batch_size=512\n",
    "lr=1e-2\n",
    "weight_decay = 0.\n",
    "warmup = True\n",
    "num_epochs = 10\n",
    "warmup_epochs = 2\n",
    "num_classes = 10\n",
    "T = 0\n",
    "train_loader,test_loader = get_cifar10(root_dir, batch_size = 512)\n",
    "device = torch.device(\"cuda\") if torch.cuda.is_available() else torch.device(\"cpu\")\n",
    "net = sew_resnet18(input_channels = 3,num_classes = num_classes, connect_f = 'ADD',T = T).to(device)\n",
    "pg = get_params_groups(net, weight_decay=weight_decay)  # 进行了简单分组的权重 确定了哪些参数需要权重衰减，哪些不需要\n",
    "optimizer = optim.AdamW(pg, lr=lr, weight_decay=weight_decay)\n",
    "lr_scheduler = CosineAnnealingWarmRestarts(optimizer, T_0=100, T_mult=2)\n",
    "lr_list =[]\n",
    "# 绘制学习率\n",
    "for _ in range(num_epochs):\n",
    "    for _ in range(len(train_loader)):\n",
    "        lr_scheduler.step()\n",
    "        # 下面这两种获取学习率的方式一样\n",
    "#         lr = optimizer.param_groups[0][\"lr\"]\n",
    "        lr = lr_scheduler.get_last_lr()[0]\n",
    "        lr_list.append(lr)\n",
    "\n",
    "plt.figure(figsize = (6,3))\n",
    "plt.plot(range(len(lr_list)),lr_list)\n",
    "plt.show()"
   ]
  },
  {
   "cell_type": "markdown",
   "id": "4d05093d",
   "metadata": {},
   "source": [
    "当使用 CosineAnnealingLR 或者 StepLR 阶跃函数时，我们不需要在train_loader内部使用lr_scheduler.step()，只在epoch迭代时使用"
   ]
  },
  {
   "cell_type": "code",
   "execution_count": 39,
   "id": "731e3a61",
   "metadata": {
    "collapsed": true
   },
   "outputs": [
    {
     "data": {
      "text/plain": [
       "<Figure size 600x300 with 0 Axes>"
      ]
     },
     "execution_count": 39,
     "metadata": {},
     "output_type": "execute_result"
    },
    {
     "data": {
      "text/plain": [
       "[<matplotlib.lines.Line2D at 0x15d19d073b0>]"
      ]
     },
     "execution_count": 39,
     "metadata": {},
     "output_type": "execute_result"
    },
    {
     "data": {
      "image/png": "[encoded data removed]",
      "text/plain": [
       "<Figure size 600x300 with 1 Axes>"
      ]
     },
     "metadata": {},
     "output_type": "display_data"
    }
   ],
   "source": [
    "root_dir = r'../data'\n",
    "batch_size=512\n",
    "lr=1e-2\n",
    "weight_decay = 0.\n",
    "warmup = True\n",
    "num_epochs = 20\n",
    "warmup_epochs = 2\n",
    "num_classes = 10\n",
    "T = 0\n",
    "train_loader,test_loader = get_cifar10(root_dir, batch_size = 512)\n",
    "device = torch.device(\"cuda\") if torch.cuda.is_available() else torch.device(\"cpu\")\n",
    "net = sew_resnet18(input_channels = 3,num_classes = num_classes, connect_f = 'ADD',T = T).to(device)\n",
    "pg = get_params_groups(net, weight_decay=weight_decay)  # 进行了简单分组的权重 确定了哪些参数需要权重衰减，哪些不需要\n",
    "optimizer = optim.AdamW(pg, lr=lr, weight_decay=weight_decay)\n",
    "# T_max默认设置成和num_epochs一样，小于epochs会导致学习率回升。\n",
    "lr_scheduler = CosineAnnealingLR(optimizer, T_max=8)\n",
    "lr_list =[]\n",
    "# 绘制学习率，注意哦\n",
    "for _ in range(num_epochs):\n",
    "#     for _ in range(len(train_loader)):\n",
    "    lr_scheduler.step()\n",
    "    lr = optimizer.param_groups[0][\"lr\"]\n",
    "    lr_list.append(lr)\n",
    "\n",
    "plt.figure(figsize = (6,3))\n",
    "plt.plot(range(len(lr_list)),lr_list)\n",
    "plt.show()"
   ]
  },
  {
   "cell_type": "markdown",
   "id": "69aa98e9",
   "metadata": {},
   "source": [
    "##### 进行训练"
   ]
  },
  {
   "cell_type": "code",
   "execution_count": 1,
   "id": "c5ddb34c",
   "metadata": {},
   "outputs": [],
   "source": [
    "from start1 import *\n",
    "\n",
    "# 数据集获取\n",
    "def get_cifar10(data_path, batch_size):\n",
    "    # 定义数据变换\n",
    "    transform = transforms.Compose(\n",
    "        [transforms.ToTensor(),  # 将图片转换为Tensor\n",
    "         transforms.Normalize((0.5, 0.5, 0.5), (0.5, 0.5, 0.5))])  # 归一化\n",
    "    # 下载CIFAR10数据集\n",
    "    # #训练集\n",
    "    trainset=datasets.CIFAR10(root=data_path,train=True,download=False,transform=transform)\n",
    "    # 测试集\n",
    "    testset=datasets.CIFAR10(root=data_path,train=False,download=False,transform=transform)\n",
    "\n",
    "    #练习集 封装成DataLoader的形式 batch_size 按照批次传 shuffle 将数据打散 num_workers 线程\n",
    "    # 创建DataLoader对象\n",
    "    train_loader=torch.utils.data.DataLoader(trainset,batch_size=batch_size,shuffle=True)\n",
    "    test_loader=torch.utils.data.DataLoader(testset,batch_size=batch_size,shuffle=False)\n",
    "\n",
    "    return train_loader,test_loader"
   ]
  },
  {
   "cell_type": "code",
   "execution_count": 4,
   "id": "0ec708c1",
   "metadata": {},
   "outputs": [],
   "source": [
    "root_dir = r'../data'\n",
    "batch_size=512\n",
    "lr=1e-2\n",
    "weight_decay = 0.\n",
    "warmup = True\n",
    "num_epochs = 20\n",
    "warmup_epochs = 5\n",
    "num_classes = 10\n",
    "data_type = 0  # 数据是否具有时间维度，0表示没有，1表示有\n",
    "T = 4 # 静态数据需要的时间步\n",
    "T_data = 0 # 代表数据本身已经有时间维度或者网络对数据添加时间维度了，不需要自己再加了,一般会在网络中直接加入时间步，所以基本上这个值都是0\n",
    "\n",
    "train_loader,test_loader = get_cifar10(root_dir, batch_size = 512)\n",
    "\n",
    "# 设备选择使用GPU   数据的维度  B, T , 2, 128, 128\n",
    "device = torch.device(\"cuda\") if torch.cuda.is_available() else torch.device(\"cpu\")\n",
    "net = sew_resnet18(input_channels = 3,num_classes = num_classes, connect_f = 'ADD',T = T).to(device)\n",
    "# (block, layers, input_channels = 3, num_classes=1000, zero_init_residual=False,groups=1, \n",
    "#  width_per_group=64, replace_stride_with_dilation=None,norm_layer=None, T=4, connect_f=None, \n",
    "#  drops = [0,0,0,0], p = [0.5,0.5,0.5,0.5], data_type = 0, net_type = 0)\n",
    "\n",
    "# # 使用Adam优化器\n",
    "# optimizer = torch.optim.Adam(net.parameters(), lr=lr)\n",
    "# # 学习率优化\n",
    "# lr_scheduler = torch.optim.lr_scheduler.CosineAnnealingLR(optimizer, num_epochs)\n",
    "\n",
    "pg = get_params_groups(net, weight_decay=weight_decay)  # 进行了简单分组的权重 确定了哪些参数需要权重衰减，哪些不需要\n",
    "optimizer = optim.AdamW(pg, lr=lr, weight_decay=weight_decay)\n",
    "lr_scheduler = create_lr_scheduler(optimizer, len(train_loader), num_epochs,\n",
    "                                   warmup=warmup, warmup_epochs=warmup_epochs)\n",
    "loss_function = F.mse_loss\n",
    "# scaler = None\n",
    "scaler = amp.GradScaler()"
   ]
  },
  {
   "cell_type": "code",
   "execution_count": 5,
   "id": "254c29ab",
   "metadata": {
    "collapsed": true
   },
   "outputs": [
    {
     "data": {
      "application/vnd.jupyter.widget-view+json": {
       "model_id": "fe3a8aa726184298ba9e78b9c337a3d4",
       "version_major": 2,
       "version_minor": 0
      },
      "text/plain": [
       "  0%|          | 0/20 [00:00<?, ?it/s]"
      ]
     },
     "metadata": {},
     "output_type": "display_data"
    },
    {
     "name": "stdout",
     "output_type": "stream",
     "text": [
      "epoch = 0, current_lr = 0.2008\n",
      "train_single_time = 8.0244\n",
      "loss = 0.4407\n",
      "acc = 9.59%\n"
     ]
    },
    {
     "data": {
      "application/vnd.jupyter.widget-view+json": {
       "model_id": "3b2e8978054340aca67d5b55d96dd7a1",
       "version_major": 2,
       "version_minor": 0
      },
      "text/plain": [
       "  0%|          | 0/20 [00:00<?, ?it/s]"
      ]
     },
     "metadata": {},
     "output_type": "display_data"
    },
    {
     "name": "stdout",
     "output_type": "stream",
     "text": [
      "test All Acc: 10.00%\n",
      "test All Loss: 19.44\n",
      "save model param\n",
      "escape time = 2024-10-05 17:51:32\n",
      "\n",
      "\n",
      "\n"
     ]
    },
    {
     "data": {
      "application/vnd.jupyter.widget-view+json": {
       "model_id": "97c2e48a851d4efea21ceea37221b8e5",
       "version_major": 2,
       "version_minor": 0
      },
      "text/plain": [
       "  0%|          | 0/20 [00:00<?, ?it/s]"
      ]
     },
     "metadata": {},
     "output_type": "display_data"
    },
    {
     "name": "stdout",
     "output_type": "stream",
     "text": [
      "epoch = 1, current_lr = 0.4006\n",
      "train_single_time = 7.0893\n",
      "loss = 0.1171\n",
      "acc = 10.28%\n"
     ]
    },
    {
     "data": {
      "application/vnd.jupyter.widget-view+json": {
       "model_id": "77c8337bbb8645c9ab8cb7a529ec07ad",
       "version_major": 2,
       "version_minor": 0
      },
      "text/plain": [
       "  0%|          | 0/20 [00:00<?, ?it/s]"
      ]
     },
     "metadata": {},
     "output_type": "display_data"
    },
    {
     "name": "stdout",
     "output_type": "stream",
     "text": [
      "test All Acc: 10.05%\n",
      "test All Loss: 2.18\n",
      "save model param\n",
      "escape time = 2024-10-05 17:51:07\n",
      "\n",
      "\n",
      "\n"
     ]
    },
    {
     "data": {
      "application/vnd.jupyter.widget-view+json": {
       "model_id": "3417752b5a014ad9bf39733cec49af6a",
       "version_major": 2,
       "version_minor": 0
      },
      "text/plain": [
       "  0%|          | 0/20 [00:00<?, ?it/s]"
      ]
     },
     "metadata": {},
     "output_type": "display_data"
    },
    {
     "name": "stdout",
     "output_type": "stream",
     "text": [
      "epoch = 2, current_lr = 0.6003999999999999\n",
      "train_single_time = 7.1748\n",
      "loss = 0.0957\n",
      "acc = 10.85%\n"
     ]
    },
    {
     "data": {
      "application/vnd.jupyter.widget-view+json": {
       "model_id": "c29ce249f9cc4301b92d65f30e3b2400",
       "version_major": 2,
       "version_minor": 0
      },
      "text/plain": [
       "  0%|          | 0/20 [00:00<?, ?it/s]"
      ]
     },
     "metadata": {},
     "output_type": "display_data"
    },
    {
     "name": "stdout",
     "output_type": "stream",
     "text": [
      "test All Acc: 9.31%\n",
      "test All Loss: 0.35\n",
      "escape time = 2024-10-05 17:51:14\n",
      "\n",
      "\n",
      "\n"
     ]
    },
    {
     "data": {
      "application/vnd.jupyter.widget-view+json": {
       "model_id": "3c62e3af43a14b31a366970f3062bfb4",
       "version_major": 2,
       "version_minor": 0
      },
      "text/plain": [
       "  0%|          | 0/20 [00:00<?, ?it/s]"
      ]
     },
     "metadata": {},
     "output_type": "display_data"
    },
    {
     "name": "stdout",
     "output_type": "stream",
     "text": [
      "epoch = 3, current_lr = 0.8002\n",
      "train_single_time = 7.0429\n",
      "loss = 0.1166\n",
      "acc = 11.52%\n"
     ]
    },
    {
     "data": {
      "application/vnd.jupyter.widget-view+json": {
       "model_id": "1a89f18e47a64bd08f8868b30fc12177",
       "version_major": 2,
       "version_minor": 0
      },
      "text/plain": [
       "  0%|          | 0/20 [00:00<?, ?it/s]"
      ]
     },
     "metadata": {},
     "output_type": "display_data"
    },
    {
     "name": "stdout",
     "output_type": "stream",
     "text": [
      "test All Acc: 12.41%\n",
      "test All Loss: 0.21\n",
      "save model param\n",
      "escape time = 2024-10-05 17:51:15\n",
      "\n",
      "\n",
      "\n"
     ]
    },
    {
     "data": {
      "application/vnd.jupyter.widget-view+json": {
       "model_id": "6cfda7b842f94fff8b840e7f84d7b946",
       "version_major": 2,
       "version_minor": 0
      },
      "text/plain": [
       "  0%|          | 0/20 [00:00<?, ?it/s]"
      ]
     },
     "metadata": {},
     "output_type": "display_data"
    },
    {
     "name": "stdout",
     "output_type": "stream",
     "text": [
      "epoch = 4, current_lr = 1.0\n",
      "train_single_time = 7.4471\n",
      "loss = 0.1459\n",
      "acc = 12.56%\n"
     ]
    },
    {
     "data": {
      "application/vnd.jupyter.widget-view+json": {
       "model_id": "20b5d10494254067b7f86b3f1525a287",
       "version_major": 2,
       "version_minor": 0
      },
      "text/plain": [
       "  0%|          | 0/20 [00:00<?, ?it/s]"
      ]
     },
     "metadata": {},
     "output_type": "display_data"
    },
    {
     "name": "stdout",
     "output_type": "stream",
     "text": [
      "test All Acc: 9.99%\n",
      "test All Loss: 0.77\n",
      "escape time = 2024-10-05 17:51:16\n",
      "\n",
      "\n",
      "\n"
     ]
    },
    {
     "data": {
      "application/vnd.jupyter.widget-view+json": {
       "model_id": "aee4e28c852c434dac92b0160ba6b484",
       "version_major": 2,
       "version_minor": 0
      },
      "text/plain": [
       "  0%|          | 0/20 [00:00<?, ?it/s]"
      ]
     },
     "metadata": {},
     "output_type": "display_data"
    },
    {
     "name": "stdout",
     "output_type": "stream",
     "text": [
      "epoch = 5, current_lr = 0.9890738112931025\n",
      "train_single_time = 7.5347\n",
      "loss = 0.9937\n",
      "acc = 10.94%\n"
     ]
    },
    {
     "data": {
      "application/vnd.jupyter.widget-view+json": {
       "model_id": "0d2e1bc2c6e1429e95bba6c70ae2d152",
       "version_major": 2,
       "version_minor": 0
      },
      "text/plain": [
       "  0%|          | 0/20 [00:00<?, ?it/s]"
      ]
     },
     "metadata": {},
     "output_type": "display_data"
    },
    {
     "name": "stdout",
     "output_type": "stream",
     "text": [
      "test All Acc: 10.00%\n",
      "test All Loss: 1209.59\n",
      "escape time = 2024-10-05 17:51:23\n",
      "\n",
      "\n",
      "\n"
     ]
    },
    {
     "data": {
      "application/vnd.jupyter.widget-view+json": {
       "model_id": "c25b99fdcdd14736b31ed84a0aa94955",
       "version_major": 2,
       "version_minor": 0
      },
      "text/plain": [
       "  0%|          | 0/20 [00:00<?, ?it/s]"
      ]
     },
     "metadata": {},
     "output_type": "display_data"
    },
    {
     "ename": "KeyboardInterrupt",
     "evalue": "",
     "output_type": "error",
     "traceback": [
      "\u001b[1;31m---------------------------------------------------------------------------\u001b[0m",
      "\u001b[1;31mKeyboardInterrupt\u001b[0m                         Traceback (most recent call last)",
      "Cell \u001b[1;32mIn[5], line 1\u001b[0m\n\u001b[1;32m----> 1\u001b[0m train_accs,train_losss,test_accs,test_losss \u001b[38;5;241m=\u001b[39m trains(num_epochs, net, test_loader,\n\u001b[0;32m      2\u001b[0m         test_loader, optimizer, device, loss_function, scaler \u001b[38;5;241m=\u001b[39m scaler, \n\u001b[0;32m      3\u001b[0m         encoder \u001b[38;5;241m=\u001b[39m encoding\u001b[38;5;241m.\u001b[39mPoissonEncoder(), T \u001b[38;5;241m=\u001b[39m T_data, num_classes \u001b[38;5;241m=\u001b[39m num_classes, \n\u001b[0;32m      4\u001b[0m         data_type \u001b[38;5;241m=\u001b[39m data_type, save_model \u001b[38;5;241m=\u001b[39m \u001b[38;5;124m\"\u001b[39m\u001b[38;5;124m./save_models/test_cifar10.pt\u001b[39m\u001b[38;5;124m\"\u001b[39m, lr_scheduler \u001b[38;5;241m=\u001b[39m lr_scheduler)\n",
      "File \u001b[1;32mE:\\mycode\\jupyter\\0.SNN\\1.my_snn\\start1.py:113\u001b[0m, in \u001b[0;36mtrains\u001b[1;34m(num_epochs, net, train_loader, test_loader, optimizer, device, loss_function, best_acc, scaler, encoder, T, num_classes, data_type, save_model, lr_scheduler)\u001b[0m\n\u001b[0;32m    110\u001b[0m train_samples \u001b[38;5;241m=\u001b[39m \u001b[38;5;241m0\u001b[39m\n\u001b[0;32m    112\u001b[0m datas \u001b[38;5;241m=\u001b[39m tqdm(\u001b[38;5;28miter\u001b[39m(train_loader),file\u001b[38;5;241m=\u001b[39msys\u001b[38;5;241m.\u001b[39mstdout)\n\u001b[1;32m--> 113\u001b[0m \u001b[38;5;28;01mfor\u001b[39;00m img, label \u001b[38;5;129;01min\u001b[39;00m datas:\n\u001b[0;32m    114\u001b[0m     \u001b[38;5;66;03m# 梯度清零\u001b[39;00m\n\u001b[0;32m    115\u001b[0m     optimizer\u001b[38;5;241m.\u001b[39mzero_grad()\n\u001b[0;32m    116\u001b[0m     img \u001b[38;5;241m=\u001b[39m img\u001b[38;5;241m.\u001b[39mto(device)\n",
      "File \u001b[1;32mD:\\software\\anaconda\\envs\\my_torch\\Lib\\site-packages\\tqdm\\notebook.py:250\u001b[0m, in \u001b[0;36mtqdm_notebook.__iter__\u001b[1;34m(self)\u001b[0m\n\u001b[0;32m    248\u001b[0m \u001b[38;5;28;01mtry\u001b[39;00m:\n\u001b[0;32m    249\u001b[0m     it \u001b[38;5;241m=\u001b[39m \u001b[38;5;28msuper\u001b[39m()\u001b[38;5;241m.\u001b[39m\u001b[38;5;21m__iter__\u001b[39m()\n\u001b[1;32m--> 250\u001b[0m     \u001b[38;5;28;01mfor\u001b[39;00m obj \u001b[38;5;129;01min\u001b[39;00m it:\n\u001b[0;32m    251\u001b[0m         \u001b[38;5;66;03m# return super(tqdm...) will not catch exception\u001b[39;00m\n\u001b[0;32m    252\u001b[0m         \u001b[38;5;28;01myield\u001b[39;00m obj\n\u001b[0;32m    253\u001b[0m \u001b[38;5;66;03m# NB: except ... [ as ...] breaks IPython async KeyboardInterrupt\u001b[39;00m\n",
      "File \u001b[1;32mD:\\software\\anaconda\\envs\\my_torch\\Lib\\site-packages\\tqdm\\std.py:1181\u001b[0m, in \u001b[0;36mtqdm.__iter__\u001b[1;34m(self)\u001b[0m\n\u001b[0;32m   1178\u001b[0m time \u001b[38;5;241m=\u001b[39m \u001b[38;5;28mself\u001b[39m\u001b[38;5;241m.\u001b[39m_time\n\u001b[0;32m   1180\u001b[0m \u001b[38;5;28;01mtry\u001b[39;00m:\n\u001b[1;32m-> 1181\u001b[0m     \u001b[38;5;28;01mfor\u001b[39;00m obj \u001b[38;5;129;01min\u001b[39;00m iterable:\n\u001b[0;32m   1182\u001b[0m         \u001b[38;5;28;01myield\u001b[39;00m obj\n\u001b[0;32m   1183\u001b[0m         \u001b[38;5;66;03m# Update and possibly print the progressbar.\u001b[39;00m\n\u001b[0;32m   1184\u001b[0m         \u001b[38;5;66;03m# Note: does not call self.update(1) for speed optimisation.\u001b[39;00m\n",
      "File \u001b[1;32mD:\\software\\anaconda\\envs\\my_torch\\Lib\\site-packages\\torch\\utils\\data\\dataloader.py:630\u001b[0m, in \u001b[0;36m_BaseDataLoaderIter.__next__\u001b[1;34m(self)\u001b[0m\n\u001b[0;32m    627\u001b[0m \u001b[38;5;28;01mif\u001b[39;00m \u001b[38;5;28mself\u001b[39m\u001b[38;5;241m.\u001b[39m_sampler_iter \u001b[38;5;129;01mis\u001b[39;00m \u001b[38;5;28;01mNone\u001b[39;00m:\n\u001b[0;32m    628\u001b[0m     \u001b[38;5;66;03m# TODO(https://github.com/pytorch/pytorch/issues/76750)\u001b[39;00m\n\u001b[0;32m    629\u001b[0m     \u001b[38;5;28mself\u001b[39m\u001b[38;5;241m.\u001b[39m_reset()  \u001b[38;5;66;03m# type: ignore[call-arg]\u001b[39;00m\n\u001b[1;32m--> 630\u001b[0m data \u001b[38;5;241m=\u001b[39m \u001b[38;5;28mself\u001b[39m\u001b[38;5;241m.\u001b[39m_next_data()\n\u001b[0;32m    631\u001b[0m \u001b[38;5;28mself\u001b[39m\u001b[38;5;241m.\u001b[39m_num_yielded \u001b[38;5;241m+\u001b[39m\u001b[38;5;241m=\u001b[39m \u001b[38;5;241m1\u001b[39m\n\u001b[0;32m    632\u001b[0m \u001b[38;5;28;01mif\u001b[39;00m \u001b[38;5;28mself\u001b[39m\u001b[38;5;241m.\u001b[39m_dataset_kind \u001b[38;5;241m==\u001b[39m _DatasetKind\u001b[38;5;241m.\u001b[39mIterable \u001b[38;5;129;01mand\u001b[39;00m \\\n\u001b[0;32m    633\u001b[0m         \u001b[38;5;28mself\u001b[39m\u001b[38;5;241m.\u001b[39m_IterableDataset_len_called \u001b[38;5;129;01mis\u001b[39;00m \u001b[38;5;129;01mnot\u001b[39;00m \u001b[38;5;28;01mNone\u001b[39;00m \u001b[38;5;129;01mand\u001b[39;00m \\\n\u001b[0;32m    634\u001b[0m         \u001b[38;5;28mself\u001b[39m\u001b[38;5;241m.\u001b[39m_num_yielded \u001b[38;5;241m>\u001b[39m \u001b[38;5;28mself\u001b[39m\u001b[38;5;241m.\u001b[39m_IterableDataset_len_called:\n",
      "File \u001b[1;32mD:\\software\\anaconda\\envs\\my_torch\\Lib\\site-packages\\torch\\utils\\data\\dataloader.py:673\u001b[0m, in \u001b[0;36m_SingleProcessDataLoaderIter._next_data\u001b[1;34m(self)\u001b[0m\n\u001b[0;32m    671\u001b[0m \u001b[38;5;28;01mdef\u001b[39;00m \u001b[38;5;21m_next_data\u001b[39m(\u001b[38;5;28mself\u001b[39m):\n\u001b[0;32m    672\u001b[0m     index \u001b[38;5;241m=\u001b[39m \u001b[38;5;28mself\u001b[39m\u001b[38;5;241m.\u001b[39m_next_index()  \u001b[38;5;66;03m# may raise StopIteration\u001b[39;00m\n\u001b[1;32m--> 673\u001b[0m     data \u001b[38;5;241m=\u001b[39m \u001b[38;5;28mself\u001b[39m\u001b[38;5;241m.\u001b[39m_dataset_fetcher\u001b[38;5;241m.\u001b[39mfetch(index)  \u001b[38;5;66;03m# may raise StopIteration\u001b[39;00m\n\u001b[0;32m    674\u001b[0m     \u001b[38;5;28;01mif\u001b[39;00m \u001b[38;5;28mself\u001b[39m\u001b[38;5;241m.\u001b[39m_pin_memory:\n\u001b[0;32m    675\u001b[0m         data \u001b[38;5;241m=\u001b[39m _utils\u001b[38;5;241m.\u001b[39mpin_memory\u001b[38;5;241m.\u001b[39mpin_memory(data, \u001b[38;5;28mself\u001b[39m\u001b[38;5;241m.\u001b[39m_pin_memory_device)\n",
      "File \u001b[1;32mD:\\software\\anaconda\\envs\\my_torch\\Lib\\site-packages\\torch\\utils\\data\\_utils\\fetch.py:52\u001b[0m, in \u001b[0;36m_MapDatasetFetcher.fetch\u001b[1;34m(self, possibly_batched_index)\u001b[0m\n\u001b[0;32m     50\u001b[0m         data \u001b[38;5;241m=\u001b[39m \u001b[38;5;28mself\u001b[39m\u001b[38;5;241m.\u001b[39mdataset\u001b[38;5;241m.\u001b[39m__getitems__(possibly_batched_index)\n\u001b[0;32m     51\u001b[0m     \u001b[38;5;28;01melse\u001b[39;00m:\n\u001b[1;32m---> 52\u001b[0m         data \u001b[38;5;241m=\u001b[39m [\u001b[38;5;28mself\u001b[39m\u001b[38;5;241m.\u001b[39mdataset[idx] \u001b[38;5;28;01mfor\u001b[39;00m idx \u001b[38;5;129;01min\u001b[39;00m possibly_batched_index]\n\u001b[0;32m     53\u001b[0m \u001b[38;5;28;01melse\u001b[39;00m:\n\u001b[0;32m     54\u001b[0m     data \u001b[38;5;241m=\u001b[39m \u001b[38;5;28mself\u001b[39m\u001b[38;5;241m.\u001b[39mdataset[possibly_batched_index]\n",
      "File \u001b[1;32mD:\\software\\anaconda\\envs\\my_torch\\Lib\\site-packages\\torchvision\\datasets\\cifar.py:119\u001b[0m, in \u001b[0;36mCIFAR10.__getitem__\u001b[1;34m(self, index)\u001b[0m\n\u001b[0;32m    116\u001b[0m img \u001b[38;5;241m=\u001b[39m Image\u001b[38;5;241m.\u001b[39mfromarray(img)\n\u001b[0;32m    118\u001b[0m \u001b[38;5;28;01mif\u001b[39;00m \u001b[38;5;28mself\u001b[39m\u001b[38;5;241m.\u001b[39mtransform \u001b[38;5;129;01mis\u001b[39;00m \u001b[38;5;129;01mnot\u001b[39;00m \u001b[38;5;28;01mNone\u001b[39;00m:\n\u001b[1;32m--> 119\u001b[0m     img \u001b[38;5;241m=\u001b[39m \u001b[38;5;28mself\u001b[39m\u001b[38;5;241m.\u001b[39mtransform(img)\n\u001b[0;32m    121\u001b[0m \u001b[38;5;28;01mif\u001b[39;00m \u001b[38;5;28mself\u001b[39m\u001b[38;5;241m.\u001b[39mtarget_transform \u001b[38;5;129;01mis\u001b[39;00m \u001b[38;5;129;01mnot\u001b[39;00m \u001b[38;5;28;01mNone\u001b[39;00m:\n\u001b[0;32m    122\u001b[0m     target \u001b[38;5;241m=\u001b[39m \u001b[38;5;28mself\u001b[39m\u001b[38;5;241m.\u001b[39mtarget_transform(target)\n",
      "File \u001b[1;32mD:\\software\\anaconda\\envs\\my_torch\\Lib\\site-packages\\torchvision\\transforms\\transforms.py:95\u001b[0m, in \u001b[0;36mCompose.__call__\u001b[1;34m(self, img)\u001b[0m\n\u001b[0;32m     93\u001b[0m \u001b[38;5;28;01mdef\u001b[39;00m \u001b[38;5;21m__call__\u001b[39m(\u001b[38;5;28mself\u001b[39m, img):\n\u001b[0;32m     94\u001b[0m     \u001b[38;5;28;01mfor\u001b[39;00m t \u001b[38;5;129;01min\u001b[39;00m \u001b[38;5;28mself\u001b[39m\u001b[38;5;241m.\u001b[39mtransforms:\n\u001b[1;32m---> 95\u001b[0m         img \u001b[38;5;241m=\u001b[39m t(img)\n\u001b[0;32m     96\u001b[0m     \u001b[38;5;28;01mreturn\u001b[39;00m img\n",
      "File \u001b[1;32mD:\\software\\anaconda\\envs\\my_torch\\Lib\\site-packages\\torchvision\\transforms\\transforms.py:137\u001b[0m, in \u001b[0;36mToTensor.__call__\u001b[1;34m(self, pic)\u001b[0m\n\u001b[0;32m    129\u001b[0m \u001b[38;5;28;01mdef\u001b[39;00m \u001b[38;5;21m__call__\u001b[39m(\u001b[38;5;28mself\u001b[39m, pic):\n\u001b[0;32m    130\u001b[0m \u001b[38;5;250m    \u001b[39m\u001b[38;5;124;03m\"\"\"\u001b[39;00m\n\u001b[0;32m    131\u001b[0m \u001b[38;5;124;03m    Args:\u001b[39;00m\n\u001b[0;32m    132\u001b[0m \u001b[38;5;124;03m        pic (PIL Image or numpy.ndarray): Image to be converted to tensor.\u001b[39;00m\n\u001b[1;32m   (...)\u001b[0m\n\u001b[0;32m    135\u001b[0m \u001b[38;5;124;03m        Tensor: Converted image.\u001b[39;00m\n\u001b[0;32m    136\u001b[0m \u001b[38;5;124;03m    \"\"\"\u001b[39;00m\n\u001b[1;32m--> 137\u001b[0m     \u001b[38;5;28;01mreturn\u001b[39;00m F\u001b[38;5;241m.\u001b[39mto_tensor(pic)\n",
      "File \u001b[1;32mD:\\software\\anaconda\\envs\\my_torch\\Lib\\site-packages\\torchvision\\transforms\\functional.py:172\u001b[0m, in \u001b[0;36mto_tensor\u001b[1;34m(pic)\u001b[0m\n\u001b[0;32m    170\u001b[0m \u001b[38;5;28;01mif\u001b[39;00m pic\u001b[38;5;241m.\u001b[39mmode \u001b[38;5;241m==\u001b[39m \u001b[38;5;124m\"\u001b[39m\u001b[38;5;124m1\u001b[39m\u001b[38;5;124m\"\u001b[39m:\n\u001b[0;32m    171\u001b[0m     img \u001b[38;5;241m=\u001b[39m \u001b[38;5;241m255\u001b[39m \u001b[38;5;241m*\u001b[39m img\n\u001b[1;32m--> 172\u001b[0m img \u001b[38;5;241m=\u001b[39m img\u001b[38;5;241m.\u001b[39mview(pic\u001b[38;5;241m.\u001b[39msize[\u001b[38;5;241m1\u001b[39m], pic\u001b[38;5;241m.\u001b[39msize[\u001b[38;5;241m0\u001b[39m], F_pil\u001b[38;5;241m.\u001b[39mget_image_num_channels(pic))\n\u001b[0;32m    173\u001b[0m \u001b[38;5;66;03m# put it from HWC to CHW format\u001b[39;00m\n\u001b[0;32m    174\u001b[0m img \u001b[38;5;241m=\u001b[39m img\u001b[38;5;241m.\u001b[39mpermute((\u001b[38;5;241m2\u001b[39m, \u001b[38;5;241m0\u001b[39m, \u001b[38;5;241m1\u001b[39m))\u001b[38;5;241m.\u001b[39mcontiguous()\n",
      "\u001b[1;31mKeyboardInterrupt\u001b[0m: "
     ]
    }
   ],
   "source": [
    "train_accs,train_losss,test_accs,test_losss = trains(num_epochs, net, train_loader,\n",
    "        test_loader, optimizer, device, loss_function, scaler = scaler, \n",
    "        encoder = encoding.PoissonEncoder(), T = T_data, num_classes = num_classes, \n",
    "        data_type = data_type, save_model = \"./save_models/test_cifar10.pt\", lr_scheduler = lr_scheduler)"
   ]
  },
  {
   "cell_type": "code",
   "execution_count": null,
   "id": "cf0eae23",
   "metadata": {},
   "outputs": [],
   "source": []
  },
  {
   "cell_type": "code",
   "execution_count": null,
   "id": "3b21d959",
   "metadata": {},
   "outputs": [],
   "source": []
  },
  {
   "cell_type": "markdown",
   "id": "4b7aaa28",
   "metadata": {},
   "source": [
    "#####  cifar10DVS数据集"
   ]
  },
  {
   "cell_type": "code",
   "execution_count": 12,
   "id": "4902fd8b",
   "metadata": {},
   "outputs": [],
   "source": [
    "from start1 import *"
   ]
  },
  {
   "cell_type": "code",
   "execution_count": 37,
   "id": "35b18346",
   "metadata": {
    "collapsed": true
   },
   "outputs": [
    {
     "name": "stdout",
     "output_type": "stream",
     "text": [
      "The directory [../data/CIFAR10DVS\\frames_number_20_split_by_number] already exists.\n"
     ]
    },
    {
     "data": {
      "text/plain": [
       "Dataset CIFAR10DVS\n",
       "    Number of datapoints: 10000\n",
       "    Root location: ../data/CIFAR10DVS/frames_number_20_split_by_number"
      ]
     },
     "execution_count": 37,
     "metadata": {},
     "output_type": "execute_result"
    },
    {
     "name": "stderr",
     "output_type": "stream",
     "text": [
      "100%|████████████████████████████████████████████████████████████████████████████| 10000/10000 [06:01<00:00, 27.66it/s]\n",
      "C:\\Users\\ALiang\\AppData\\Local\\Temp\\ipykernel_15068\\1049863804.py:15: FutureWarning: You are using `torch.load` with `weights_only=False` (the current default value), which uses the default pickle module implicitly. It is possible to construct malicious pickle data which will execute arbitrary code during unpickling (See https://github.com/pytorch/pytorch/blob/main/SECURITY.md#untrusted-models for more details). In a future release, the default value for `weights_only` will be flipped to `True`. This limits the functions that could be executed during unpickling. Arbitrary objects will no longer be allowed to be loaded via this mode unless they are explicitly allowlisted by the user via `torch.serialization.add_safe_globals`. We recommend you start setting `weights_only=True` for any use case where you don't have full control of the loaded file. Please open an issue on GitHub for any issues related to this experimental feature.\n",
      "  train_data = torch.load(r'../data/CIFAR10DVS/split/t20/train0.8.pth')\n",
      "C:\\Users\\ALiang\\AppData\\Local\\Temp\\ipykernel_15068\\1049863804.py:16: FutureWarning: You are using `torch.load` with `weights_only=False` (the current default value), which uses the default pickle module implicitly. It is possible to construct malicious pickle data which will execute arbitrary code during unpickling (See https://github.com/pytorch/pytorch/blob/main/SECURITY.md#untrusted-models for more details). In a future release, the default value for `weights_only` will be flipped to `True`. This limits the functions that could be executed during unpickling. Arbitrary objects will no longer be allowed to be loaded via this mode unless they are explicitly allowlisted by the user via `torch.serialization.add_safe_globals`. We recommend you start setting `weights_only=True` for any use case where you don't have full control of the loaded file. Please open an issue on GitHub for any issues related to this experimental feature.\n",
      "  test_data = torch.load(r'../data/CIFAR10DVS/split/t20/test0.2.pth')\n"
     ]
    },
    {
     "data": {
      "text/plain": [
       "8000"
      ]
     },
     "execution_count": 37,
     "metadata": {},
     "output_type": "execute_result"
    },
    {
     "data": {
      "text/plain": [
       "2000"
      ]
     },
     "execution_count": 37,
     "metadata": {},
     "output_type": "execute_result"
    }
   ],
   "source": [
    "from spikingjelly.datasets.cifar10_dvs import CIFAR10DVS\n",
    "import torch\n",
    "from spikingjelly.datasets import split_to_train_test_set as sptt\n",
    "\n",
    "data_path = r'../data/CIFAR10DVS'\n",
    "T = 20\n",
    "num_classes = 10\n",
    "data = CIFAR10DVS(root = data_path, data_type='frame', frames_number=T, split_by='number')\n",
    "data.root = '../data/CIFAR10DVS/frames_number_20_split_by_number'\n",
    "print(data)\n",
    "\n",
    "train_set, test_set = sptt(train_ratio = 0.8,origin_dataset = data,num_classes = num_classes,random_split = False)\n",
    "torch.save(train_set, r'../data/CIFAR10DVS/split/t20/train0.8.pth')\n",
    "torch.save(test_set, r'../data/CIFAR10DVS/split/t20/test0.2.pth')\n",
    "train_data = torch.load(r'../data/CIFAR10DVS/split/t20/train0.8.pth')\n",
    "test_data = torch.load(r'../data/CIFAR10DVS/split/t20/test0.2.pth')\n",
    "len(train_data)\n",
    "len(test_data)"
   ]
  },
  {
   "cell_type": "code",
   "execution_count": 16,
   "id": "dbfa1845",
   "metadata": {},
   "outputs": [
    {
     "name": "stdout",
     "output_type": "stream",
     "text": [
      "torch.Size([16, 20, 2, 128, 128]) torch.Size([16])\n"
     ]
    }
   ],
   "source": [
    "train_loader = DataLoader(train_set, batch_size=16, shuffle=True, drop_last=True)\n",
    "for x,y in train_loader:\n",
    "    print(x.shape, y.shape)\n",
    "    \n",
    "    break"
   ]
  },
  {
   "cell_type": "code",
   "execution_count": 38,
   "id": "3cb6682f",
   "metadata": {},
   "outputs": [
    {
     "data": {
      "text/plain": [
       "Dataset CIFAR10DVS\n",
       "    Number of datapoints: 10000\n",
       "    Root location: ../data/CIFAR10DVS/frames_number_20_split_by_number"
      ]
     },
     "execution_count": 38,
     "metadata": {},
     "output_type": "execute_result"
    }
   ],
   "source": [
    "data"
   ]
  },
  {
   "cell_type": "code",
   "execution_count": 17,
   "id": "af7329ce",
   "metadata": {},
   "outputs": [
    {
     "data": {
      "application/vnd.jupyter.widget-view+json": {
       "model_id": "4fa17b7326d145cfbbf5cc0fa525bf18",
       "version_major": 2,
       "version_minor": 0
      },
      "text/plain": [
       "0it [00:00, ?it/s]"
      ]
     },
     "metadata": {},
     "output_type": "display_data"
    }
   ],
   "source": [
    "# from start1 import *\n",
    "# num_classes = 10\n",
    "# label_idx = []\n",
    "# for i in range(num_classes):\n",
    "#     label_idx.append([])\n",
    "# for index,(i,j) in tqdm(enumerate(train_set)):\n",
    "#     label_idx[j].append(index) "
   ]
  },
  {
   "cell_type": "code",
   "execution_count": 20,
   "id": "8facaa66",
   "metadata": {
    "collapsed": true
   },
   "outputs": [
    {
     "name": "stdout",
     "output_type": "stream",
     "text": [
      "800 0\n",
      "800 800\n",
      "800 1600\n",
      "800 2400\n",
      "800 3200\n",
      "800 4000\n",
      "800 4800\n",
      "800 5600\n",
      "800 6400\n",
      "800 7200\n"
     ]
    }
   ],
   "source": [
    "# for i in label_idx:\n",
    "#     print(len(i), i[0])"
   ]
  },
  {
   "cell_type": "code",
   "execution_count": null,
   "id": "db471e52",
   "metadata": {},
   "outputs": [],
   "source": []
  },
  {
   "cell_type": "code",
   "execution_count": 75,
   "id": "ca2a14f6",
   "metadata": {
    "collapsed": true
   },
   "outputs": [
    {
     "name": "stderr",
     "output_type": "stream",
     "text": [
      "C:\\Users\\ALiang\\AppData\\Local\\Temp\\ipykernel_18756\\1567968446.py:17: FutureWarning: You are using `torch.load` with `weights_only=False` (the current default value), which uses the default pickle module implicitly. It is possible to construct malicious pickle data which will execute arbitrary code during unpickling (See https://github.com/pytorch/pytorch/blob/main/SECURITY.md#untrusted-models for more details). In a future release, the default value for `weights_only` will be flipped to `True`. This limits the functions that could be executed during unpickling. Arbitrary objects will no longer be allowed to be loaded via this mode unless they are explicitly allowlisted by the user via `torch.serialization.add_safe_globals`. We recommend you start setting `weights_only=True` for any use case where you don't have full control of the loaded file. Please open an issue on GitHub for any issues related to this experimental feature.\n",
      "  train_set = torch.load(r'../data/cifar10dvs_split/cifar_train0.7.pth')\n",
      "C:\\Users\\ALiang\\AppData\\Local\\Temp\\ipykernel_18756\\1567968446.py:18: FutureWarning: You are using `torch.load` with `weights_only=False` (the current default value), which uses the default pickle module implicitly. It is possible to construct malicious pickle data which will execute arbitrary code during unpickling (See https://github.com/pytorch/pytorch/blob/main/SECURITY.md#untrusted-models for more details). In a future release, the default value for `weights_only` will be flipped to `True`. This limits the functions that could be executed during unpickling. Arbitrary objects will no longer be allowed to be loaded via this mode unless they are explicitly allowlisted by the user via `torch.serialization.add_safe_globals`. We recommend you start setting `weights_only=True` for any use case where you don't have full control of the loaded file. Please open an issue on GitHub for any issues related to this experimental feature.\n",
      "  test_set = torch.load(r'../data/cifar10dvs_split/cifar_test0.3.pth')\n"
     ]
    }
   ],
   "source": [
    "root_dir = r'../data/CIFAR10DVS'\n",
    "T = 5 # 对于非DVS执行的时间步，该数据集在划分的时候默认为5\n",
    "batch_size=64\n",
    "lr=1e-2\n",
    "weight_decay = 1e-5\n",
    "warmup = True\n",
    "num_epochs = 5\n",
    "warmup_epochs = 2\n",
    "num_classes = 10\n",
    "inp_channels = 2  # DVS系列的数据集貌似都是2\n",
    "data_type = 1 # 0表示数据没有时间维度，1表示数据有时间维度\n",
    "if_lrsche = 1\n",
    "T_data = 0 # 该参数轻易不用\n",
    "\n",
    "# data = CIFAR10DVS(root = root_dir, data_type='frame', frames_number=T, split_by='number')\n",
    "# train_set,test_set = sptt(train_ratio = 0.7,origin_dataset = data,num_classes = num_classes,random_split = False)\n",
    "train_set = torch.load(r'../data/cifar10dvs_split/cifar_train0.7.pth')\n",
    "test_set = torch.load(r'../data/cifar10dvs_split/cifar_test0.3.pth')\n",
    "\n",
    "train_loader = DataLoader(train_set, batch_size=batch_size, shuffle=True, drop_last=True)\n",
    "test_loader = DataLoader(test_set, batch_size=batch_size, shuffle=False, drop_last=True)\n",
    "\n",
    "# 设备选择使用GPU   数据的维度  B, T , 2, 128, 128\n",
    "device = torch.device(\"cuda\") if torch.cuda.is_available() else torch.device(\"cpu\")\n",
    "net = sew_resnet18(input_channels = inp_channels,num_classes = num_classes, connect_f = 'ADD',T = T, data_type = data_type).to(device)\n",
    "# (block, layers, input_channels = 3, num_classes=1000, zero_init_residual=False,groups=1, \n",
    "#  width_per_group=64, replace_stride_with_dilation=None,norm_layer=None, T=4, connect_f=None, \n",
    "#  drops = [0,0,0,0], p = [0.5,0.5,0.5,0.5], data_type = 0, net_type = 0)\n",
    "\n",
    "# # 使用Adam优化器\n",
    "# optimizer = torch.optim.Adam(net.parameters(), lr=lr)\n",
    "# # 学习率优化\n",
    "# lr_scheduler = torch.optim.lr_scheduler.CosineAnnealingLR(optimizer, num_epochs)\n",
    "\n",
    "pg = get_params_groups(net, weight_decay=weight_decay)  # 进行了简单分组的权重 确定了哪些参数需要权重衰减，哪些不需要\n",
    "optimizer = optim.AdamW(pg, lr=lr, weight_decay=weight_decay)\n",
    "lr_scheduler = create_lr_scheduler(optimizer, len(train_loader), num_epochs,\n",
    "                                   warmup=warmup, warmup_epochs=warmup_epochs)\n",
    "loss_function = F.mse_loss\n",
    "# scaler = None\n",
    "scaler = amp.GradScaler()\n",
    "train_accs = []\n",
    "train_losss = []\n",
    "test_accs = []\n",
    "test_losss = []"
   ]
  },
  {
   "cell_type": "code",
   "execution_count": 74,
   "id": "d4bda171",
   "metadata": {
    "collapsed": true
   },
   "outputs": [
    {
     "name": "stdout",
     "output_type": "stream",
     "text": [
      "训练集大小: 7000\n",
      "验证集大小: 3000\n"
     ]
    },
    {
     "name": "stderr",
     "output_type": "stream",
     "text": [
      "C:\\Users\\ALiang\\AppData\\Local\\Temp\\ipykernel_18756\\2847351000.py:6: FutureWarning: You are using `torch.load` with `weights_only=False` (the current default value), which uses the default pickle module implicitly. It is possible to construct malicious pickle data which will execute arbitrary code during unpickling (See https://github.com/pytorch/pytorch/blob/main/SECURITY.md#untrusted-models for more details). In a future release, the default value for `weights_only` will be flipped to `True`. This limits the functions that could be executed during unpickling. Arbitrary objects will no longer be allowed to be loaded via this mode unless they are explicitly allowlisted by the user via `torch.serialization.add_safe_globals`. We recommend you start setting `weights_only=True` for any use case where you don't have full control of the loaded file. Please open an issue on GitHub for any issues related to this experimental feature.\n",
      "  train_set1 = torch.load(r'../data/cifar10dvs_split/cifar_train0.7.pth')\n",
      "C:\\Users\\ALiang\\AppData\\Local\\Temp\\ipykernel_18756\\2847351000.py:7: FutureWarning: You are using `torch.load` with `weights_only=False` (the current default value), which uses the default pickle module implicitly. It is possible to construct malicious pickle data which will execute arbitrary code during unpickling (See https://github.com/pytorch/pytorch/blob/main/SECURITY.md#untrusted-models for more details). In a future release, the default value for `weights_only` will be flipped to `True`. This limits the functions that could be executed during unpickling. Arbitrary objects will no longer be allowed to be loaded via this mode unless they are explicitly allowlisted by the user via `torch.serialization.add_safe_globals`. We recommend you start setting `weights_only=True` for any use case where you don't have full control of the loaded file. Please open an issue on GitHub for any issues related to this experimental feature.\n",
      "  test_set1 = torch.load(r'../data/cifar10dvs_split/cifar_test0.3.pth')\n"
     ]
    }
   ],
   "source": [
    "# # 保存训练集和验证集 \n",
    "# torch.save(train_set, r'../data/cifar10dvs_split/cifar_train0.7.pth')\n",
    "# torch.save(test_set, r'../data/cifar10dvs_split/cifar_test0.3.pth')\n",
    "\n",
    "# # 加载数据集\n",
    "# train_set1 = torch.load(r'../data/cifar10dvs_split/cifar_train0.7.pth')\n",
    "# test_set1 = torch.load(r'../data/cifar10dvs_split/cifar_test0.3.pth')\n",
    "# print(f\"训练集大小: {len(train_set1)}\")\n",
    "# print(f\"验证集大小: {len(test_set1)}\")"
   ]
  },
  {
   "cell_type": "code",
   "execution_count": 68,
   "id": "f1a3bdf4",
   "metadata": {
    "collapsed": true
   },
   "outputs": [
    {
     "data": {
      "application/vnd.jupyter.widget-view+json": {
       "model_id": "6d282774eb6042f59543bae0ae39bf7b",
       "version_major": 2,
       "version_minor": 0
      },
      "text/plain": [
       "  0%|          | 0/109 [00:00<?, ?it/s]"
      ]
     },
     "metadata": {},
     "output_type": "display_data"
    },
    {
     "name": "stdout",
     "output_type": "stream",
     "text": [
      "epoch = 0,current_lr  = 1e-05\n",
      "train_single_time = 56.2050\n",
      "loss = 0.0957\n",
      "acc = 12.87%\n"
     ]
    },
    {
     "data": {
      "application/vnd.jupyter.widget-view+json": {
       "model_id": "daad62d185674e6caf2cf1a9a3a30b72",
       "version_major": 2,
       "version_minor": 0
      },
      "text/plain": [
       "  0%|          | 0/46 [00:00<?, ?it/s]"
      ]
     },
     "metadata": {},
     "output_type": "display_data"
    },
    {
     "name": "stdout",
     "output_type": "stream",
     "text": [
      "test All Acc: 16.92%\n",
      "test All Loss: 0.09\n",
      "save model param\n",
      "escape time = 2024-09-29 20:22:45\n",
      "\n",
      "\n",
      "\n"
     ]
    },
    {
     "data": {
      "application/vnd.jupyter.widget-view+json": {
       "model_id": "e27c06e76f264967b0ccab2ef7161476",
       "version_major": 2,
       "version_minor": 0
      },
      "text/plain": [
       "  0%|          | 0/109 [00:00<?, ?it/s]"
      ]
     },
     "metadata": {},
     "output_type": "display_data"
    },
    {
     "name": "stdout",
     "output_type": "stream",
     "text": [
      "epoch = 1,current_lr  = 5.58256880733945e-05\n",
      "train_single_time = 55.2066\n",
      "loss = 0.0857\n",
      "acc = 23.42%\n"
     ]
    },
    {
     "data": {
      "application/vnd.jupyter.widget-view+json": {
       "model_id": "d7dbf55e6f96438ea836836a60d93854",
       "version_major": 2,
       "version_minor": 0
      },
      "text/plain": [
       "  0%|          | 0/46 [00:00<?, ?it/s]"
      ]
     },
     "metadata": {},
     "output_type": "display_data"
    },
    {
     "name": "stdout",
     "output_type": "stream",
     "text": [
      "test All Acc: 26.26%\n",
      "test All Loss: 0.08\n",
      "save model param\n",
      "escape time = 2024-09-29 20:22:42\n",
      "\n",
      "\n",
      "\n"
     ]
    },
    {
     "data": {
      "application/vnd.jupyter.widget-view+json": {
       "model_id": "eeb0f5f8295e4123911b4c22904946d6",
       "version_major": 2,
       "version_minor": 0
      },
      "text/plain": [
       "  0%|          | 0/109 [00:00<?, ?it/s]"
      ]
     },
     "metadata": {},
     "output_type": "display_data"
    },
    {
     "name": "stdout",
     "output_type": "stream",
     "text": [
      "epoch = 2,current_lr  = 0.00010165137614678899\n",
      "train_single_time = 55.3194\n",
      "loss = 0.0827\n",
      "acc = 30.75%\n"
     ]
    },
    {
     "data": {
      "application/vnd.jupyter.widget-view+json": {
       "model_id": "44bf3151069c405faad13f7fe9ba7f8d",
       "version_major": 2,
       "version_minor": 0
      },
      "text/plain": [
       "  0%|          | 0/46 [00:00<?, ?it/s]"
      ]
     },
     "metadata": {},
     "output_type": "display_data"
    },
    {
     "name": "stdout",
     "output_type": "stream",
     "text": [
      "test All Acc: 30.30%\n",
      "test All Loss: 0.08\n",
      "save model param\n",
      "escape time = 2024-09-29 20:22:42\n",
      "\n",
      "\n",
      "\n"
     ]
    },
    {
     "data": {
      "application/vnd.jupyter.widget-view+json": {
       "model_id": "069a0c0adf314923b5c7c4dc76a7c2de",
       "version_major": 2,
       "version_minor": 0
      },
      "text/plain": [
       "  0%|          | 0/109 [00:00<?, ?it/s]"
      ]
     },
     "metadata": {},
     "output_type": "display_data"
    },
    {
     "name": "stdout",
     "output_type": "stream",
     "text": [
      "epoch = 3,current_lr  = 0.0001474770642201835\n",
      "train_single_time = 59.9505\n",
      "loss = 0.0798\n",
      "acc = 35.75%\n"
     ]
    },
    {
     "data": {
      "application/vnd.jupyter.widget-view+json": {
       "model_id": "ced1c2a122904e03a11064ac2d2eba50",
       "version_major": 2,
       "version_minor": 0
      },
      "text/plain": [
       "  0%|          | 0/46 [00:00<?, ?it/s]"
      ]
     },
     "metadata": {},
     "output_type": "display_data"
    },
    {
     "name": "stdout",
     "output_type": "stream",
     "text": [
      "test All Acc: 27.58%\n",
      "test All Loss: 0.09\n",
      "escape time = 2024-09-29 20:22:56\n",
      "\n",
      "\n",
      "\n"
     ]
    },
    {
     "data": {
      "application/vnd.jupyter.widget-view+json": {
       "model_id": "ed897fb47324449586e693de741a15d8",
       "version_major": 2,
       "version_minor": 0
      },
      "text/plain": [
       "  0%|          | 0/109 [00:00<?, ?it/s]"
      ]
     },
     "metadata": {},
     "output_type": "display_data"
    },
    {
     "name": "stdout",
     "output_type": "stream",
     "text": [
      "epoch = 4,current_lr  = 0.00019330275229357798\n",
      "train_single_time = 56.4581\n",
      "loss = 0.0777\n",
      "acc = 39.84%\n"
     ]
    },
    {
     "data": {
      "application/vnd.jupyter.widget-view+json": {
       "model_id": "9a235fc4045e411a9e8e7259396cb01f",
       "version_major": 2,
       "version_minor": 0
      },
      "text/plain": [
       "  0%|          | 0/46 [00:00<?, ?it/s]"
      ]
     },
     "metadata": {},
     "output_type": "display_data"
    },
    {
     "name": "stdout",
     "output_type": "stream",
     "text": [
      "test All Acc: 34.54%\n",
      "test All Loss: 0.08\n",
      "save model param\n",
      "escape time = 2024-09-29 20:22:53\n",
      "\n",
      "\n",
      "\n"
     ]
    }
   ],
   "source": [
    "train_accs,train_losss,test_accs,test_losss = train(num_epochs, net, train_loader,\n",
    "        test_loader, optimizer, device, loss_function, scaler = scaler, \n",
    "        encoder = encoding.PoissonEncoder(), T = T_data, num_classes = num_classes, \n",
    "        data_type = data_type, save_model = \"./save_models/test_cifar10DVS.pt\", if_lrsche = if_lrsche)"
   ]
  },
  {
   "cell_type": "code",
   "execution_count": null,
   "id": "3c9f5d42",
   "metadata": {},
   "outputs": [],
   "source": []
  },
  {
   "cell_type": "markdown",
   "id": "491c1df1",
   "metadata": {},
   "source": [
    "#####  cifar100数据集"
   ]
  },
  {
   "cell_type": "code",
   "execution_count": 12,
   "id": "76219342",
   "metadata": {},
   "outputs": [],
   "source": [
    "# 数据集获取\n",
    "def get_cifar100(data_path, batch_size):\n",
    "    # 定义数据变换\n",
    "    transform = transforms.Compose(\n",
    "        [transforms.ToTensor(),  # 将图片转换为Tensor\n",
    "         transforms.Normalize((0.5, 0.5, 0.5), (0.5, 0.5, 0.5))])  # 归一化\n",
    "    # 下载CIFAR10数据集\n",
    "    # #训练集\n",
    "    trainset=datasets.CIFAR100(root=data_path,train=True,download=False,transform=transform)\n",
    "    # 测试集\n",
    "    testset=datasets.CIFAR100(root=data_path,train=False,download=False,transform=transform)\n",
    "\n",
    "    #练习集 封装成DataLoader的形式 batch_size 按照批次传 shuffle 将数据打散 num_workers 线程\n",
    "    # 创建DataLoader对象\n",
    "    train_loader=torch.utils.data.DataLoader(trainset,batch_size=batch_size,shuffle=True)\n",
    "    test_loader=torch.utils.data.DataLoader(testset,batch_size=batch_size,shuffle=False)\n",
    "\n",
    "    return train_loader,test_loader"
   ]
  },
  {
   "cell_type": "code",
   "execution_count": 54,
   "id": "78cbfa73",
   "metadata": {},
   "outputs": [],
   "source": [
    "root_dir = r'../data'\n",
    "batch_size=512\n",
    "lr = 1e-2\n",
    "weight_decay = 0\n",
    "warmup = True\n",
    "num_epochs = 5\n",
    "warmup_epochs = 1\n",
    "num_classes = 100\n",
    "data_type = 0  # 数据是否具有时间维度，0表示没有，1表示有\n",
    "T = 4 # 静态数据需要的时间步\n",
    "T_data = 0 # 代表数据本身已经有时间维度或者网络对数据添加时间维度了，不需要自己再加了,一般会在网络中直接加入时间步，所以基本上这个值都是0\n",
    "\n",
    "train_loader,test_loader = get_cifar100(data_path = root_dir, batch_size = batch_size)\n",
    "\n",
    "# 设备选择使用GPU   数据的维度  B, T , 2, 128, 128\n",
    "device = torch.device(\"cuda\") if torch.cuda.is_available() else torch.device(\"cpu\")\n",
    "net = sew_resnet18(input_channels = 3,num_classes = num_classes, connect_f = 'ADD',T = T, data_type = data_type).to(device)\n",
    "# (block, layers, input_channels = 3, num_classes=1000, zero_init_residual=False,groups=1, \n",
    "#  width_per_group=64, replace_stride_with_dilation=None,norm_layer=None, T=4, connect_f=None, \n",
    "#  drops = [0,0,0,0], p = [0.5,0.5,0.5,0.5], data_type = 0, net_type = 0)\n",
    "\n",
    "# # 使用Adam优化器\n",
    "# optimizer = torch.optim.Adam(net.parameters(), lr=lr)\n",
    "# # 学习率优化\n",
    "# lr_scheduler = torch.optim.lr_scheduler.CosineAnnealingLR(optimizer, num_epochs)\n",
    "\n",
    "pg = get_params_groups(net, weight_decay=weight_decay)  # 进行了简单分组的权重 确定了哪些参数需要权重衰减，哪些不需要\n",
    "optimizer = optim.AdamW(pg, lr=lr, weight_decay=weight_decay)\n",
    "# lr_scheduler = create_lr_scheduler(optimizer, len(train_loader), num_epochs,\n",
    "#                                    warmup=warmup, warmup_epochs=warmup_epochs)\n",
    "# loss_function = F.mse_loss\n",
    "loss_function = nn.CrossEntropyLoss()\n",
    "# scaler = None\n",
    "scaler = amp.GradScaler()\n",
    "train_accs = []\n",
    "train_losss = []\n",
    "test_accs = []\n",
    "test_losss = []"
   ]
  },
  {
   "cell_type": "code",
   "execution_count": 55,
   "id": "efaef5cf",
   "metadata": {
    "collapsed": true
   },
   "outputs": [
    {
     "data": {
      "application/vnd.jupyter.widget-view+json": {
       "model_id": "740d078fad2c4224b44286ce54295d3a",
       "version_major": 2,
       "version_minor": 0
      },
      "text/plain": [
       "  0%|          | 0/98 [00:00<?, ?it/s]"
      ]
     },
     "metadata": {},
     "output_type": "display_data"
    },
    {
     "name": "stdout",
     "output_type": "stream",
     "text": [
      "epoch = 0,current_lr  = 0.01\n",
      "train_single_time = 18.3328\n",
      "loss = 4.0055\n",
      "acc = 8.19%\n"
     ]
    },
    {
     "data": {
      "application/vnd.jupyter.widget-view+json": {
       "model_id": "f628a265906d4a678fcf32a8cfcdcaf2",
       "version_major": 2,
       "version_minor": 0
      },
      "text/plain": [
       "  0%|          | 0/20 [00:00<?, ?it/s]"
      ]
     },
     "metadata": {},
     "output_type": "display_data"
    },
    {
     "name": "stdout",
     "output_type": "stream",
     "text": [
      "test All Acc: 12.47%\n",
      "test All Loss: 3.67\n",
      "save model param\n",
      "escape time = 2024-09-29 21:12:56\n",
      "\n",
      "\n",
      "\n"
     ]
    },
    {
     "data": {
      "application/vnd.jupyter.widget-view+json": {
       "model_id": "5c1fd7ec9e0340dfbc50d624f134023e",
       "version_major": 2,
       "version_minor": 0
      },
      "text/plain": [
       "  0%|          | 0/98 [00:00<?, ?it/s]"
      ]
     },
     "metadata": {},
     "output_type": "display_data"
    },
    {
     "name": "stdout",
     "output_type": "stream",
     "text": [
      "epoch = 1,current_lr  = 0.01\n",
      "train_single_time = 17.5758\n",
      "loss = 3.3549\n",
      "acc = 17.94%\n"
     ]
    },
    {
     "data": {
      "application/vnd.jupyter.widget-view+json": {
       "model_id": "c4baad4d6bef42c5a2482bfb3154e712",
       "version_major": 2,
       "version_minor": 0
      },
      "text/plain": [
       "  0%|          | 0/20 [00:00<?, ?it/s]"
      ]
     },
     "metadata": {},
     "output_type": "display_data"
    },
    {
     "name": "stdout",
     "output_type": "stream",
     "text": [
      "test All Acc: 19.49%\n",
      "test All Loss: 3.30\n",
      "save model param\n",
      "escape time = 2024-09-29 21:12:53\n",
      "\n",
      "\n",
      "\n"
     ]
    },
    {
     "data": {
      "application/vnd.jupyter.widget-view+json": {
       "model_id": "7772e88cef9a405689c89bc174fd30d4",
       "version_major": 2,
       "version_minor": 0
      },
      "text/plain": [
       "  0%|          | 0/98 [00:00<?, ?it/s]"
      ]
     },
     "metadata": {},
     "output_type": "display_data"
    },
    {
     "name": "stdout",
     "output_type": "stream",
     "text": [
      "epoch = 2,current_lr  = 0.01\n",
      "train_single_time = 17.0364\n",
      "loss = 2.9894\n",
      "acc = 24.72%\n"
     ]
    },
    {
     "data": {
      "application/vnd.jupyter.widget-view+json": {
       "model_id": "17f001041a0b43758d17782ba98c2671",
       "version_major": 2,
       "version_minor": 0
      },
      "text/plain": [
       "  0%|          | 0/20 [00:00<?, ?it/s]"
      ]
     },
     "metadata": {},
     "output_type": "display_data"
    },
    {
     "name": "stdout",
     "output_type": "stream",
     "text": [
      "test All Acc: 24.04%\n",
      "test All Loss: 3.08\n",
      "save model param\n",
      "escape time = 2024-09-29 21:12:52\n",
      "\n",
      "\n",
      "\n"
     ]
    },
    {
     "data": {
      "application/vnd.jupyter.widget-view+json": {
       "model_id": "a2e407505d3342daa143f9f2578a80e6",
       "version_major": 2,
       "version_minor": 0
      },
      "text/plain": [
       "  0%|          | 0/98 [00:00<?, ?it/s]"
      ]
     },
     "metadata": {},
     "output_type": "display_data"
    },
    {
     "name": "stdout",
     "output_type": "stream",
     "text": [
      "epoch = 3,current_lr  = 0.01\n",
      "train_single_time = 17.1835\n",
      "loss = 2.7262\n",
      "acc = 30.13%\n"
     ]
    },
    {
     "data": {
      "application/vnd.jupyter.widget-view+json": {
       "model_id": "7530f601cc5f46329adebd105cd2604c",
       "version_major": 2,
       "version_minor": 0
      },
      "text/plain": [
       "  0%|          | 0/20 [00:00<?, ?it/s]"
      ]
     },
     "metadata": {},
     "output_type": "display_data"
    },
    {
     "name": "stdout",
     "output_type": "stream",
     "text": [
      "test All Acc: 29.33%\n",
      "test All Loss: 2.85\n",
      "save model param\n",
      "escape time = 2024-09-29 21:12:52\n",
      "\n",
      "\n",
      "\n"
     ]
    },
    {
     "data": {
      "application/vnd.jupyter.widget-view+json": {
       "model_id": "c6de2484c2b64aa0a732a7ec99d3049c",
       "version_major": 2,
       "version_minor": 0
      },
      "text/plain": [
       "  0%|          | 0/98 [00:00<?, ?it/s]"
      ]
     },
     "metadata": {},
     "output_type": "display_data"
    },
    {
     "name": "stdout",
     "output_type": "stream",
     "text": [
      "epoch = 4,current_lr  = 0.01\n",
      "train_single_time = 17.3954\n",
      "loss = 2.4996\n",
      "acc = 35.01%\n"
     ]
    },
    {
     "data": {
      "application/vnd.jupyter.widget-view+json": {
       "model_id": "30392cc55f594d06a1d0fbacd769f2c6",
       "version_major": 2,
       "version_minor": 0
      },
      "text/plain": [
       "  0%|          | 0/20 [00:00<?, ?it/s]"
      ]
     },
     "metadata": {},
     "output_type": "display_data"
    },
    {
     "name": "stdout",
     "output_type": "stream",
     "text": [
      "test All Acc: 33.36%\n",
      "test All Loss: 2.63\n",
      "save model param\n",
      "escape time = 2024-09-29 21:12:52\n",
      "\n",
      "\n",
      "\n"
     ]
    }
   ],
   "source": [
    "train_accs,train_losss,test_accs,test_losss = train(num_epochs, net, train_loader,\n",
    "        test_loader, optimizer, device, loss_function, scaler = scaler, \n",
    "        encoder = encoding.PoissonEncoder(), T = T_data, num_classes = num_classes, \n",
    "        data_type = data_type, save_model = \"./save_models/test_cifar100.pt\", lr_scheduler = None)"
   ]
  },
  {
   "cell_type": "code",
   "execution_count": null,
   "id": "1d07f946",
   "metadata": {},
   "outputs": [],
   "source": []
  },
  {
   "cell_type": "code",
   "execution_count": null,
   "id": "f42edbc3",
   "metadata": {},
   "outputs": [],
   "source": []
  },
  {
   "cell_type": "markdown",
   "id": "8a666c05",
   "metadata": {},
   "source": [
    "##### ImageNet数据集"
   ]
  },
  {
   "cell_type": "code",
   "execution_count": 10,
   "id": "c44a8fd2",
   "metadata": {},
   "outputs": [],
   "source": [
    "def get_imagenet(data_path, batch_size):\n",
    "    \n",
    "    traindir = os.path.join(data_path, 'train')\n",
    "    valdir = os.path.join(data_path, 'val')\n",
    "    normalize = transforms.Normalize(mean=[0.485, 0.456, 0.406],std=[0.229, 0.224, 0.225])\n",
    "\n",
    "    train_dataset = datasets.ImageFolder(\n",
    "        traindir,\n",
    "        transforms.Compose([\n",
    "            transforms.RandomResizedCrop(224),\n",
    "            transforms.RandomHorizontalFlip(),\n",
    "            transforms.ToTensor(),\n",
    "            normalize,\n",
    "        ]))\n",
    "\n",
    "    val_dataset = datasets.ImageFolder(\n",
    "        valdir,\n",
    "        transforms.Compose([\n",
    "            transforms.Resize(256),\n",
    "            transforms.CenterCrop(224),\n",
    "            transforms.ToTensor(),\n",
    "            normalize,\n",
    "        ]))\n",
    "\n",
    "    train_loader = torch.utils.data.DataLoader(train_dataset, batch_size=batch_size,\n",
    "                    shuffle=True,pin_memory=True, drop_last = True, persistent_workers = True, num_workers = 8)\n",
    "    val_loader = torch.utils.data.DataLoader(val_dataset, batch_size=batch_size, \n",
    "                    shuffle=False,pin_memory=True, drop_last = True, persistent_workers = True, num_workers = 8)\n",
    "    return train_loader,val_loader"
   ]
  },
  {
   "cell_type": "code",
   "execution_count": 11,
   "id": "b4f96841",
   "metadata": {},
   "outputs": [],
   "source": [
    "root_dir = r'../data/Imagenet2012/imagenet'\n",
    "batch_size=32\n",
    "lr = 1e-2\n",
    "weight_decay = 0\n",
    "warmup = True\n",
    "num_epochs = 5\n",
    "warmup_epochs = 1\n",
    "num_classes = 1000\n",
    "input_channels = 3\n",
    "data_type = 0  # 数据是否具有时间维度，0表示没有，1表示有\n",
    "T = 4 # 静态数据需要的时间步\n",
    "T_data = 0 # 代表数据本身已经有时间维度或者网络对数据添加时间维度了，不需要自己再加了,一般会在网络中直接加入时间步，所以基本上这个值都是0\n",
    "\n",
    "train_loader,test_loader = get_imagenet(data_path = root_dir, batch_size = batch_size)\n",
    "\n",
    "# 设备选择使用GPU   数据的维度  B, T , 2, 128, 128\n",
    "device = torch.device(\"cuda\") if torch.cuda.is_available() else torch.device(\"cpu\")\n",
    "net = sew_resnet18(input_channels = input_channels,num_classes = num_classes, connect_f = 'ADD',T = T, data_type = data_type).to(device)\n",
    "# (block, layers, input_channels = 3, num_classes=1000, zero_init_residual=False,groups=1, \n",
    "#  width_per_group=64, replace_stride_with_dilation=None,norm_layer=None, T=4, connect_f=None, \n",
    "#  drops = [0,0,0,0], p = [0.5,0.5,0.5,0.5], data_type = 0, net_type = 0)\n",
    "\n",
    "# # 使用Adam优化器\n",
    "# optimizer = torch.optim.Adam(net.parameters(), lr=lr)\n",
    "# # 学习率优化\n",
    "# lr_scheduler = torch.optim.lr_scheduler.CosineAnnealingLR(optimizer, num_epochs)\n",
    "\n",
    "pg = get_params_groups(net, weight_decay=weight_decay)  # 进行了简单分组的权重 确定了哪些参数需要权重衰减，哪些不需要\n",
    "optimizer = optim.AdamW(pg, lr=lr, weight_decay=weight_decay)\n",
    "# lr_scheduler = create_lr_scheduler(optimizer, len(train_loader), num_epochs,\n",
    "#                                    warmup=warmup, warmup_epochs=warmup_epochs)\n",
    "# loss_function = F.mse_loss\n",
    "loss_function = nn.CrossEntropyLoss()\n",
    "# scaler = None\n",
    "scaler = amp.GradScaler()\n",
    "train_accs = []\n",
    "train_losss = []\n",
    "test_accs = []\n",
    "test_losss = []"
   ]
  },
  {
   "cell_type": "code",
   "execution_count": 12,
   "id": "4a32137e",
   "metadata": {
    "collapsed": true
   },
   "outputs": [
    {
     "data": {
      "application/vnd.jupyter.widget-view+json": {
       "model_id": "7bbf44542a6e4679babe339abefaf1cf",
       "version_major": 2,
       "version_minor": 0
      },
      "text/plain": [
       "  0%|          | 0/40036 [00:00<?, ?it/s]"
      ]
     },
     "metadata": {},
     "output_type": "display_data"
    },
    {
     "ename": "KeyboardInterrupt",
     "evalue": "",
     "output_type": "error",
     "traceback": [
      "\u001b[1;31m---------------------------------------------------------------------------\u001b[0m",
      "\u001b[1;31mKeyboardInterrupt\u001b[0m                         Traceback (most recent call last)",
      "Cell \u001b[1;32mIn[12], line 1\u001b[0m\n\u001b[1;32m----> 1\u001b[0m train_accs,train_losss,test_accs,test_losss \u001b[38;5;241m=\u001b[39m train(num_epochs, net, train_loader,\n\u001b[0;32m      2\u001b[0m         test_loader, optimizer, device, loss_function, scaler \u001b[38;5;241m=\u001b[39m scaler, \n\u001b[0;32m      3\u001b[0m         encoder \u001b[38;5;241m=\u001b[39m encoding\u001b[38;5;241m.\u001b[39mPoissonEncoder(), T \u001b[38;5;241m=\u001b[39m T_data, num_classes \u001b[38;5;241m=\u001b[39m num_classes, \n\u001b[0;32m      4\u001b[0m         data_type \u001b[38;5;241m=\u001b[39m data_type, save_model \u001b[38;5;241m=\u001b[39m \u001b[38;5;124m\"\u001b[39m\u001b[38;5;124m./save_models/test_imagenet.pt\u001b[39m\u001b[38;5;124m\"\u001b[39m, lr_scheduler \u001b[38;5;241m=\u001b[39m \u001b[38;5;28;01mNone\u001b[39;00m)\n",
      "Cell \u001b[1;32mIn[5], line 44\u001b[0m, in \u001b[0;36mtrain\u001b[1;34m(num_epochs, net, train_loader, test_loader, optimizer, device, loss_function, best_acc, scaler, encoder, T, num_classes, data_type, save_model, lr_scheduler)\u001b[0m\n\u001b[0;32m     42\u001b[0m             loss \u001b[38;5;241m=\u001b[39m loss_function(out_fr, label)\n\u001b[0;32m     43\u001b[0m     scaler\u001b[38;5;241m.\u001b[39mscale(loss)\u001b[38;5;241m.\u001b[39mbackward()\n\u001b[1;32m---> 44\u001b[0m     scaler\u001b[38;5;241m.\u001b[39mstep(optimizer)\n\u001b[0;32m     45\u001b[0m     scaler\u001b[38;5;241m.\u001b[39mupdate()\n\u001b[0;32m     46\u001b[0m \u001b[38;5;28;01melse\u001b[39;00m:\n",
      "File \u001b[1;32mD:\\software\\anaconda\\envs\\my_torch\\Lib\\site-packages\\torch\\amp\\grad_scaler.py:454\u001b[0m, in \u001b[0;36mGradScaler.step\u001b[1;34m(self, optimizer, *args, **kwargs)\u001b[0m\n\u001b[0;32m    448\u001b[0m     \u001b[38;5;28mself\u001b[39m\u001b[38;5;241m.\u001b[39munscale_(optimizer)\n\u001b[0;32m    450\u001b[0m \u001b[38;5;28;01massert\u001b[39;00m (\n\u001b[0;32m    451\u001b[0m     \u001b[38;5;28mlen\u001b[39m(optimizer_state[\u001b[38;5;124m\"\u001b[39m\u001b[38;5;124mfound_inf_per_device\u001b[39m\u001b[38;5;124m\"\u001b[39m]) \u001b[38;5;241m>\u001b[39m \u001b[38;5;241m0\u001b[39m\n\u001b[0;32m    452\u001b[0m ), \u001b[38;5;124m\"\u001b[39m\u001b[38;5;124mNo inf checks were recorded for this optimizer.\u001b[39m\u001b[38;5;124m\"\u001b[39m\n\u001b[1;32m--> 454\u001b[0m retval \u001b[38;5;241m=\u001b[39m \u001b[38;5;28mself\u001b[39m\u001b[38;5;241m.\u001b[39m_maybe_opt_step(optimizer, optimizer_state, \u001b[38;5;241m*\u001b[39margs, \u001b[38;5;241m*\u001b[39m\u001b[38;5;241m*\u001b[39mkwargs)\n\u001b[0;32m    456\u001b[0m optimizer_state[\u001b[38;5;124m\"\u001b[39m\u001b[38;5;124mstage\u001b[39m\u001b[38;5;124m\"\u001b[39m] \u001b[38;5;241m=\u001b[39m OptState\u001b[38;5;241m.\u001b[39mSTEPPED\n\u001b[0;32m    458\u001b[0m \u001b[38;5;28;01mreturn\u001b[39;00m retval\n",
      "File \u001b[1;32mD:\\software\\anaconda\\envs\\my_torch\\Lib\\site-packages\\torch\\amp\\grad_scaler.py:351\u001b[0m, in \u001b[0;36mGradScaler._maybe_opt_step\u001b[1;34m(self, optimizer, optimizer_state, *args, **kwargs)\u001b[0m\n\u001b[0;32m    343\u001b[0m \u001b[38;5;28;01mdef\u001b[39;00m \u001b[38;5;21m_maybe_opt_step\u001b[39m(\n\u001b[0;32m    344\u001b[0m     \u001b[38;5;28mself\u001b[39m,\n\u001b[0;32m    345\u001b[0m     optimizer: torch\u001b[38;5;241m.\u001b[39moptim\u001b[38;5;241m.\u001b[39mOptimizer,\n\u001b[1;32m   (...)\u001b[0m\n\u001b[0;32m    348\u001b[0m     \u001b[38;5;241m*\u001b[39m\u001b[38;5;241m*\u001b[39mkwargs: Any,\n\u001b[0;32m    349\u001b[0m ) \u001b[38;5;241m-\u001b[39m\u001b[38;5;241m>\u001b[39m Optional[\u001b[38;5;28mfloat\u001b[39m]:\n\u001b[0;32m    350\u001b[0m     retval: Optional[\u001b[38;5;28mfloat\u001b[39m] \u001b[38;5;241m=\u001b[39m \u001b[38;5;28;01mNone\u001b[39;00m\n\u001b[1;32m--> 351\u001b[0m     \u001b[38;5;28;01mif\u001b[39;00m \u001b[38;5;129;01mnot\u001b[39;00m \u001b[38;5;28msum\u001b[39m(v\u001b[38;5;241m.\u001b[39mitem() \u001b[38;5;28;01mfor\u001b[39;00m v \u001b[38;5;129;01min\u001b[39;00m optimizer_state[\u001b[38;5;124m\"\u001b[39m\u001b[38;5;124mfound_inf_per_device\u001b[39m\u001b[38;5;124m\"\u001b[39m]\u001b[38;5;241m.\u001b[39mvalues()):\n\u001b[0;32m    352\u001b[0m         retval \u001b[38;5;241m=\u001b[39m optimizer\u001b[38;5;241m.\u001b[39mstep(\u001b[38;5;241m*\u001b[39margs, \u001b[38;5;241m*\u001b[39m\u001b[38;5;241m*\u001b[39mkwargs)\n\u001b[0;32m    353\u001b[0m     \u001b[38;5;28;01mreturn\u001b[39;00m retval\n",
      "File \u001b[1;32mD:\\software\\anaconda\\envs\\my_torch\\Lib\\site-packages\\torch\\amp\\grad_scaler.py:351\u001b[0m, in \u001b[0;36m<genexpr>\u001b[1;34m(.0)\u001b[0m\n\u001b[0;32m    343\u001b[0m \u001b[38;5;28;01mdef\u001b[39;00m \u001b[38;5;21m_maybe_opt_step\u001b[39m(\n\u001b[0;32m    344\u001b[0m     \u001b[38;5;28mself\u001b[39m,\n\u001b[0;32m    345\u001b[0m     optimizer: torch\u001b[38;5;241m.\u001b[39moptim\u001b[38;5;241m.\u001b[39mOptimizer,\n\u001b[1;32m   (...)\u001b[0m\n\u001b[0;32m    348\u001b[0m     \u001b[38;5;241m*\u001b[39m\u001b[38;5;241m*\u001b[39mkwargs: Any,\n\u001b[0;32m    349\u001b[0m ) \u001b[38;5;241m-\u001b[39m\u001b[38;5;241m>\u001b[39m Optional[\u001b[38;5;28mfloat\u001b[39m]:\n\u001b[0;32m    350\u001b[0m     retval: Optional[\u001b[38;5;28mfloat\u001b[39m] \u001b[38;5;241m=\u001b[39m \u001b[38;5;28;01mNone\u001b[39;00m\n\u001b[1;32m--> 351\u001b[0m     \u001b[38;5;28;01mif\u001b[39;00m \u001b[38;5;129;01mnot\u001b[39;00m \u001b[38;5;28msum\u001b[39m(v\u001b[38;5;241m.\u001b[39mitem() \u001b[38;5;28;01mfor\u001b[39;00m v \u001b[38;5;129;01min\u001b[39;00m optimizer_state[\u001b[38;5;124m\"\u001b[39m\u001b[38;5;124mfound_inf_per_device\u001b[39m\u001b[38;5;124m\"\u001b[39m]\u001b[38;5;241m.\u001b[39mvalues()):\n\u001b[0;32m    352\u001b[0m         retval \u001b[38;5;241m=\u001b[39m optimizer\u001b[38;5;241m.\u001b[39mstep(\u001b[38;5;241m*\u001b[39margs, \u001b[38;5;241m*\u001b[39m\u001b[38;5;241m*\u001b[39mkwargs)\n\u001b[0;32m    353\u001b[0m     \u001b[38;5;28;01mreturn\u001b[39;00m retval\n",
      "\u001b[1;31mKeyboardInterrupt\u001b[0m: "
     ]
    }
   ],
   "source": [
    "train_accs,train_losss,test_accs,test_losss = train(num_epochs, net, train_loader,\n",
    "        test_loader, optimizer, device, loss_function, scaler = scaler, \n",
    "        encoder = encoding.PoissonEncoder(), T = T_data, num_classes = num_classes, \n",
    "        data_type = data_type, save_model = \"./save_models/test_imagenet.pt\", lr_scheduler = None)"
   ]
  },
  {
   "cell_type": "code",
   "execution_count": null,
   "id": "c97f3fb6",
   "metadata": {},
   "outputs": [],
   "source": []
  },
  {
   "cell_type": "code",
   "execution_count": null,
   "id": "0ca23763",
   "metadata": {},
   "outputs": [],
   "source": []
  },
  {
   "cell_type": "code",
   "execution_count": 13,
   "id": "53ca5406",
   "metadata": {},
   "outputs": [
    {
     "data": {
      "text/plain": [
       "1711"
      ]
     },
     "execution_count": 13,
     "metadata": {},
     "output_type": "execute_result"
    }
   ],
   "source": [
    "if torch.cuda.is_available():\n",
    "    torch.cuda.empty_cache()\n",
    "    gc.collect()  # 强制进行一次垃圾回收"
   ]
  },
  {
   "cell_type": "markdown",
   "id": "96e9bb44",
   "metadata": {},
   "source": [
    "### 将网络，训练函数，测试函数进行打包处理,使用时运行下面的函数即可训练"
   ]
  },
  {
   "cell_type": "code",
   "execution_count": 1,
   "id": "d52e7dfb",
   "metadata": {},
   "outputs": [],
   "source": [
    "from IPython.core.interactiveshell import InteractiveShell\n",
    "InteractiveShell.ast_node_interactivity = \"all\"\n",
    "# # InteractiveShell.ast_node_interactivity = \"last_expr\""
   ]
  },
  {
   "cell_type": "code",
   "execution_count": 2,
   "id": "bc964183",
   "metadata": {},
   "outputs": [],
   "source": [
    "import gc,math,torch,os,sys,time,datetime\n",
    "from spikingjelly.activation_based import surrogate\n",
    "from spikingjelly.activation_based import encoding\n",
    "from torchvision import datasets, transforms\n",
    "import torch.nn as nn\n",
    "from torch.utils.data import DataLoader\n",
    "import torch.nn.functional as F\n",
    "# from tqdm import tqdm\n",
    "from tqdm.notebook import tqdm  # tqdm 进度条显示,这个更好看\n",
    "from spikingjelly.activation_based import monitor, neuron, functional, layer\n",
    "import numpy as np\n",
    "from torch import amp,optim # 自动微分\n",
    "import matplotlib.pyplot as plt\n",
    "import torch.nn as nn\n",
    "from torchsummary import summary\n",
    "from spikingjelly.datasets.dvs128_gesture import DVS128Gesture\n",
    "from spikingjelly.datasets.cifar10_dvs import CIFAR10DVS\n",
    "from spikingjelly.datasets import split_to_train_test_set as sptt\n",
    "from spikingjelly.activation_based import neuron, encoding, functional, surrogate, layer\n"
   ]
  },
  {
   "cell_type": "code",
   "execution_count": 3,
   "id": "bed7500a",
   "metadata": {},
   "outputs": [],
   "source": [
    "def plot_data(train_data,test_data,name):\n",
    "    # Plot Loss\n",
    "    fig = plt.figure(facecolor=\"w\", figsize=(5, 5))\n",
    "    plt.plot(train_data)\n",
    "    plt.plot(test_data)\n",
    "    plt.title(name+\" Curves\")\n",
    "    plt.legend([\"Train\", \"Test\"])\n",
    "    plt.xlabel(\"Iteration\")\n",
    "    plt.ylabel(\"Loss\")\n",
    "    plt.show()"
   ]
  },
  {
   "cell_type": "code",
   "execution_count": 4,
   "id": "a4123cad",
   "metadata": {},
   "outputs": [],
   "source": [
    "# 学习率调度函数\n",
    "def create_lr_scheduler(optimizer,\n",
    "                        num_step: int,\n",
    "                        epochs: int,\n",
    "                        warmup=True,\n",
    "                        warmup_epochs=1,\n",
    "                        warmup_factor=1e-3,\n",
    "                        end_factor=1e-6):\n",
    "    assert num_step > 0 and epochs > 0\n",
    "    if warmup is False:\n",
    "        warmup_epochs = 0\n",
    "\n",
    "    def f(x):\n",
    "        \"\"\"\n",
    "        根据step数返回一个学习率倍率因子， 这个倍率因子乘以学习率等于我们最终使用的lr\n",
    "        注意在训练开始之前，pytorch会提前调用一次lr_scheduler.step()方法\n",
    "        \"\"\"\n",
    "        if warmup is True and x <= (warmup_epochs * num_step):\n",
    "            alpha = float(x) / (warmup_epochs * num_step)\n",
    "            # warmup过程中lr倍率因子从warmup_factor -> 1\n",
    "            return warmup_factor * (1 - alpha) + alpha\n",
    "        else:\n",
    "            current_step = (x - warmup_epochs * num_step)\n",
    "            cosine_steps = (epochs - warmup_epochs) * num_step\n",
    "            # warmup后lr倍率因子从1 -> end_factor\n",
    "            return ((1 + math.cos(current_step * math.pi / cosine_steps)) / 2) * (1 - end_factor) + end_factor\n",
    "\n",
    "    return torch.optim.lr_scheduler.LambdaLR(optimizer, lr_lambda=f)\n",
    "\n",
    "# 权重分配函数\n",
    "def get_params_groups(model: torch.nn.Module, weight_decay: float = 1e-5):\n",
    "    # 记录optimize要训练的权重参数\n",
    "    parameter_group_vars = {\"decay\": {\"params\": [], \"weight_decay\": weight_decay},\n",
    "                            \"no_decay\": {\"params\": [], \"weight_decay\": 0.}}\n",
    "\n",
    "    # 记录对应的权重名称\n",
    "    parameter_group_names = {\"decay\": {\"params\": [], \"weight_decay\": weight_decay},\n",
    "                             \"no_decay\": {\"params\": [], \"weight_decay\": 0.}}\n",
    "\n",
    "    for name, param in model.named_parameters():\n",
    "        if not param.requires_grad:\n",
    "            continue  # frozen weights\n",
    "\n",
    "        if len(param.shape) == 1 or name.endswith(\".bias\"):\n",
    "            group_name = \"no_decay\"\n",
    "        else:\n",
    "            group_name = \"decay\"\n",
    "\n",
    "        parameter_group_vars[group_name][\"params\"].append(param)\n",
    "        parameter_group_names[group_name][\"params\"].append(name)\n",
    "\n",
    "#     print(\"Param groups = %s\" % json.dumps(parameter_group_names, indent=2))\n",
    "    return list(parameter_group_vars.values())"
   ]
  },
  {
   "cell_type": "code",
   "execution_count": 5,
   "id": "aff2ea15",
   "metadata": {},
   "outputs": [],
   "source": [
    "def train(num_epochs, net, train_loader,test_loader, optimizer, device, loss_function, best_acc = 0, \n",
    "          scaler = None, encoder = encoding.PoissonEncoder(), T = 0, num_classes = 10, data_type = 0, save_model = \"\",\n",
    "          lr_scheduler = None):\n",
    "    '''\n",
    "    data_type: 数据维度是否具有时间维度，0表示没有，1表示有\n",
    "    T != 0 ,代表需要encoder了，且是在网络外进行的时间步循环\n",
    "    '''\n",
    "    loss_MSE = F.mse_loss\n",
    "    for epoch in range(num_epochs):\n",
    "        start_time = time.time()\n",
    "        _ = net.train()\n",
    "        train_loss = 0\n",
    "        train_acc = 0\n",
    "        train_samples = 0\n",
    "\n",
    "        datas = tqdm(iter(train_loader),file=sys.stdout)\n",
    "        for img, label in datas:\n",
    "            # 梯度清零\n",
    "            optimizer.zero_grad()\n",
    "            img = img.to(device)\n",
    "            if data_type != 0:\n",
    "                img = img.transpose(0, 1)  # 将数据维度由  [N, T, C, H, W] 变为  [T, N, C, H, W]\n",
    "            label = label.to(device)\n",
    "            label_onehot = F.one_hot(label, num_classes).float()  # 将标签变为独热编码\n",
    "\n",
    "            # 混合精度训练\n",
    "            if scaler is not None:\n",
    "                with amp.autocast(str(device)):\n",
    "#                 with amp.autocast():\n",
    "                    out_fr = 0.\n",
    "                    if T != 0:\n",
    "                        for _ in range(T):\n",
    "                            encoded_img = encoder(data)\n",
    "                            out_fr += net(encoded_img) # 将每次输出的脉冲进行相加\n",
    "                        out_fr = out_fr / T # 求平均值\n",
    "                    else:\n",
    "#                         print(img.type())\n",
    "                        out_fr = net(img)\n",
    "                    if loss_function == loss_MSE:\n",
    "                        loss = F.mse_loss(out_fr, label_onehot)\n",
    "                    else:\n",
    "                        loss = loss_function(out_fr, label)\n",
    "                scaler.scale(loss).backward()\n",
    "                scaler.step(optimizer)\n",
    "                scaler.update()\n",
    "            else:\n",
    "                out_fr = 0.\n",
    "                if T != 0:\n",
    "                    for _ in range(T):\n",
    "                        encoded_img = encoder(data)\n",
    "                        out_fr += net(encoded_img) # 将每次输出的脉冲进行相加\n",
    "                    out_fr = out_fr / T # 求平均值\n",
    "                else:\n",
    "                    out_fr = net(img)\n",
    "#                 print(out_fr.shape,label_onehot.shape)\n",
    "                if loss_function == loss_MSE:\n",
    "                    loss = F.mse_loss(out_fr, label_onehot)\n",
    "                else:\n",
    "                    loss = loss_function(out_fr, label)\n",
    "                loss.backward()\n",
    "                optimizer.step()\n",
    "\n",
    "            train_samples += label.numel()\n",
    "            train_loss += loss.item() * label.numel()\n",
    "            # 正确率的计算方法如下。  认为输出层中脉冲发放频率最大的神经元的下标i是分类结果\n",
    "            train_acc += (out_fr.argmax(1) == label).float().sum().item()\n",
    "            # 优化一次参数后，需要重置网络的状态，因为SNN的神经元是有“记忆”的。\n",
    "            functional.reset_net(net)\n",
    "#         current_lr = lr_scheduler.get_last_lr()[0] \n",
    "        current_lr = optimizer.param_groups[0]['lr']\n",
    "        if lr_scheduler != None:\n",
    "            lr_scheduler.step() # 学习率的优化\n",
    "        end_time = time.time()\n",
    "        print(f\"epoch = {epoch},current_lr  = {current_lr}\")\n",
    "        print(f\"train_single_time = {end_time - start_time:.4f}\")\n",
    "        print(f\"loss = {train_loss/train_samples:.4f}\")\n",
    "        print(f\"acc = {train_acc/train_samples*100:.2f}%\")\n",
    "        train_accs.append(train_acc/train_samples)\n",
    "        train_losss.append(train_loss/train_samples)\n",
    "\n",
    "        test_acc,test_loss = evaluates(\"test\", net, test_loader,device,loss_function, encoder = encoding.PoissonEncoder(),\n",
    "                                       T = T, num_classes = num_classes, data_type = data_type)\n",
    "        test_accs.append(test_acc)\n",
    "        test_losss.append(test_loss)\n",
    "\n",
    "        if test_acc > best_acc:\n",
    "            best_acc = test_acc\n",
    "            torch.save(net.state_dict(), save_model)\n",
    "            print(\"save model param\")\n",
    "        print(f'escape time = {(datetime.datetime.now() + datetime.timedelta(seconds=(time.time() - start_time) * (num_epochs - epoch - 1))).strftime(\"%Y-%m-%d %H:%M:%S\")}\\n')\n",
    "        print(\"\\n\") \n",
    "    return train_accs,train_losss,test_accs,test_losss"
   ]
  },
  {
   "cell_type": "code",
   "execution_count": 6,
   "id": "172c6b86",
   "metadata": {},
   "outputs": [],
   "source": [
    "def evaluates(name, model, data_loader, device,loss_function, encoder = encoding.PoissonEncoder(), T = 0, num_classes = 10, data_type = 0):\n",
    "    \"\"\"\n",
    "    T = 0，代表具有网络的输出已经在时间维度上进行了平均 ------ T != 0，表示网络没有时间维度这个概念，这种情况下一般需要先编码，最后平均。\n",
    "    data_type代表的是数据类型，0代表正常数据集，1代表具有时间维度的数据集。\n",
    "    这个测试函数仅适用于使用独热编码的mse损失函数。\n",
    "    \"\"\"\n",
    "    loss_MSE = F.mse_loss\n",
    "    acc = 0\n",
    "    losss = 0\n",
    "    data_num = 0\n",
    "    _ = model.eval()\n",
    "\n",
    "    datas = tqdm(iter(data_loader),file=sys.stdout)\n",
    "    with torch.no_grad():\n",
    "        for data, label in datas:\n",
    "            data = data.to(device)\n",
    "            label = label.to(device)\n",
    "            label_onehot = F.one_hot(label, num_classes).float()  # 将标签变为独热编码\n",
    "            if data_type != 0:\n",
    "                data = data.transpose(0, 1)\n",
    "            \n",
    "            out_fr = 0.\n",
    "            if T == 0:\n",
    "                out_fr = model(data)\n",
    "            else:\n",
    "                for _ in range(T):\n",
    "                    encoded_img = encoder(data)\n",
    "                    out_fr += model(encoded_img) # 将每次输出的脉冲进行相加\n",
    "                out_fr = out_fr / T # 求平均值\n",
    "            \n",
    "            if loss_function == loss_MSE:\n",
    "                loss = F.mse_loss(out_fr, label_onehot)\n",
    "            else:\n",
    "                loss = loss_function(out_fr, label)\n",
    "            data_num += label.numel()\n",
    "            losss += loss.item() * label.numel()\n",
    "            # 正确率的计算方法如下。认为输出层中脉冲发放频率最大的神经元的下标i是分类结果\n",
    "            acc += (out_fr.argmax(1) == label).float().sum().item()\n",
    "            \n",
    "            # 每次重置网络\n",
    "            functional.reset_net(model)\n",
    "    \n",
    "    print(f\"{name} All Acc: {acc/data_num * 100:.2f}%\")\n",
    "    print(f\"{name} All Loss: {losss/data_num:.2f}\")\n",
    "    return acc/data_num,losss/data_num"
   ]
  },
  {
   "cell_type": "code",
   "execution_count": 7,
   "id": "e3ffd5f3",
   "metadata": {},
   "outputs": [],
   "source": [
    "class DVSGestureNet(nn.Module):\n",
    "    def __init__(self, inp_channels = 3, num_classes = 11, channels=128):\n",
    "        super().__init__()\n",
    "        conv = []\n",
    "        for i in range(5):\n",
    "            if conv.__len__() == 0:\n",
    "                in_channels = inp_channels\n",
    "            else:\n",
    "                in_channels = channels\n",
    "\n",
    "            conv.append(layer.Conv2d(in_channels, channels, kernel_size=3, padding=1, bias=False))\n",
    "            conv.append(layer.BatchNorm2d(channels))\n",
    "            conv.append(neuron.IFNode(surrogate_function=surrogate.ATan()))\n",
    "#             neuron.LIFNode(tau=tau, surrogate_function=surrogate.ATan())   两种神经元的替换使用\n",
    "            conv.append(layer.MaxPool2d(2, 2))\n",
    "        \n",
    "\n",
    "        self.conv_fc = nn.Sequential(\n",
    "            *conv,\n",
    "            layer.Flatten(),\n",
    "            layer.Dropout(0.5),\n",
    "            layer.Linear(channels * 4 * 4, 512),\n",
    "            neuron.IFNode(surrogate_function=surrogate.ATan()),\n",
    "\n",
    "            layer.Dropout(0.5),\n",
    "            layer.Linear(512, 110),\n",
    "            neuron.IFNode(surrogate_function=surrogate.ATan()),\n",
    "            layer.VotingLayer(int(110 / num_classes))\n",
    "        )\n",
    "        # 设置网络的模式，是单步还是多步，一般都是多步\n",
    "        functional.set_step_mode(self, step_mode='m')\n",
    "\n",
    "    def forward(self, x: torch.Tensor):\n",
    "        output = self.conv_fc(x)\n",
    "        return output.mean(dim=0)"
   ]
  },
  {
   "cell_type": "code",
   "execution_count": 8,
   "id": "8e754578",
   "metadata": {},
   "outputs": [],
   "source": [
    "# SEW_ResNet原始网络及面对不同数据集所进行的网络变换以及数据操作的变换\n",
    "class BasicBlock(nn.Module):\n",
    "    \"\"\"\n",
    "    实现ResNet网络的第一个基础架构\n",
    "    \"\"\"\n",
    "    expansion = 1\n",
    "    def __init__(self, inplanes, planes, stride=1, downsample=None, groups=1,\n",
    "                 base_width=64, dilation=1, norm_layer=None, connect_f=None):\n",
    "        super(BasicBlock, self).__init__()\n",
    "        \n",
    "        self.connect_f = connect_f\n",
    "        \n",
    "        if norm_layer is None:\n",
    "            norm_layer = layer.BatchNorm2d\n",
    "        if groups != 1 or base_width != 64:\n",
    "            raise ValueError('SpikingBasicBlock only supports groups=1 and base_width=64')\n",
    "        if dilation > 1:\n",
    "            raise NotImplementedError(\"Dilation > 1 not supported in SpikingBasicBlock\")\n",
    "\n",
    "        self.layer1 = nn.Sequential(\n",
    "            layer.Conv2d(inplanes, planes, kernel_size=3, stride = stride, padding=1, bias=False),\n",
    "            norm_layer(planes),\n",
    "            neuron.IFNode(surrogate_function=surrogate.ATan()))\n",
    "        \n",
    "        self.layer2 = nn.Sequential(\n",
    "            layer.Conv2d(planes, planes, kernel_size=3, padding=1, bias=False),\n",
    "            norm_layer(planes),\n",
    "            neuron.IFNode(surrogate_function=surrogate.ATan()))\n",
    "\n",
    "        self.downsample = downsample\n",
    "        \n",
    "        # 设置所有的层为多步模式\n",
    "        functional.set_step_mode(self, step_mode='m')\n",
    "\n",
    "    def forward(self, x):\n",
    "        identity = x\n",
    "        out = self.layer1(x)\n",
    "        out = self.layer2(out)\n",
    "\n",
    "        if self.downsample is not None:\n",
    "            identity = self.downsample(x)\n",
    "        \n",
    "#         print(out.shape)\n",
    "#         print(identity.shape)\n",
    "        if self.connect_f == 'ADD':\n",
    "            out += identity\n",
    "        elif self.connect_f == 'AND':\n",
    "            out *= identity\n",
    "        elif self.connect_f == 'IAND':\n",
    "            out = identity * (1. - out)\n",
    "        else:\n",
    "            raise NotImplementedError(self.connect_f)\n",
    "\n",
    "        return out\n",
    "\n",
    "\n",
    "class Bottleneck(nn.Module):\n",
    "    \"\"\"\n",
    "    实现ResNet网络的瓶颈架构\n",
    "    \"\"\"\n",
    "    expansion = 4\n",
    "    def __init__(self, inplanes, planes, stride=1, downsample=None, groups=1,\n",
    "                 base_width=64, dilation=1, norm_layer=None, connect_f=None):\n",
    "        super(Bottleneck, self).__init__()\n",
    "        \n",
    "        self.connect_f = connect_f\n",
    "        \n",
    "        if norm_layer is None:\n",
    "            norm_layer = layer.BatchNorm2d\n",
    "        \n",
    "        width = int(planes * (base_width / 64.)) * groups\n",
    "        \n",
    "        self.layer1 = nn.Sequential(\n",
    "            layer.Conv2d(inplanes, width, kernel_size=1, bias=False),\n",
    "            norm_layer(width),\n",
    "            neuron.IFNode(surrogate_function=surrogate.ATan()))\n",
    "        \n",
    "        self.layer2 = nn.Sequential(\n",
    "            layer.Conv2d(width, width, kernel_size=3, stride = stride, padding=1, groups = groups, dilation = dilation, bias=False),\n",
    "            norm_layer(width),\n",
    "            neuron.IFNode(surrogate_function=surrogate.ATan()))\n",
    "        \n",
    "        self.layer3 = nn.Sequential(\n",
    "            layer.Conv2d(width, planes * self.expansion, kernel_size=1, bias=False),\n",
    "            norm_layer(planes * self.expansion),\n",
    "            neuron.IFNode(surrogate_function=surrogate.ATan()))\n",
    "   \n",
    "        self.downsample = downsample\n",
    "        \n",
    "        functional.set_step_mode(self, step_mode='m')\n",
    "\n",
    "    def forward(self, x):\n",
    "        identity = x\n",
    "        out = self.layer1(x)\n",
    "        out = self.layer2(x)\n",
    "        out = self.layer3(x)\n",
    "        \n",
    "        if self.downsample is not None:\n",
    "            identity = self.downsample(x)\n",
    "\n",
    "        if self.connect_f == 'ADD':\n",
    "            out += identity\n",
    "        elif self.connect_f == 'AND':\n",
    "            out *= identity\n",
    "        elif self.connect_f == 'IAND':\n",
    "            out = identity * (1. - out)\n",
    "        else:\n",
    "            raise NotImplementedError(self.connect_f)\n",
    "\n",
    "        return out\n",
    "\n",
    "# 对这两个架构的最后一层中的 BN 层进行设置，权重为0，且当连接方式为AND时，偏差置为1\n",
    "def zero_init_blocks(net: nn.Module, connect_f: str):\n",
    "    for m in net.modules():\n",
    "        if isinstance(m, Bottleneck):\n",
    "            nn.init.constant_(m.layer3.module[1].weight, 0)\n",
    "            if connect_f == 'AND':\n",
    "                nn.init.constant_(m.layer3.module[1].bias, 1)\n",
    "        elif isinstance(m, BasicBlock):\n",
    "            nn.init.constant_(m.layer2.module[1].weight, 0)\n",
    "            if connect_f == 'AND':\n",
    "                nn.init.constant_(m.layer2.module[1].bias, 1)\n",
    "        else:\n",
    "            pass\n",
    "\n",
    "# 设计SEWResNet网络，原始的网络\n",
    "class SEWResNet(nn.Module):\n",
    "\n",
    "    def __init__(self, block, layers, input_channels = 3, num_classes=1000, zero_init_residual=False,\n",
    "                 groups=1, width_per_group=64, replace_stride_with_dilation=None,\n",
    "                 norm_layer=None, T=4, connect_f=None, drops = [0,0,0,0], p = [0.5,0.5,0.5,0.5], data_type = 0, net_type = 0):\n",
    "        \"\"\"\n",
    "        data_type：输入的数据是没有时间维度的，还是具有时间维度的\n",
    "        net_type：使用sew_resnet还是sew_resnet2\n",
    "        \"\"\"\n",
    "        super(SEWResNet, self).__init__()\n",
    "        \n",
    "        # 是否使用扩张率代替步长，一般这个操作应该用不上\n",
    "        if replace_stride_with_dilation is None:\n",
    "            replace_stride_with_dilation = [False, False, False]\n",
    "        if len(replace_stride_with_dilation) != 3:\n",
    "            raise ValueError(\"replace_stride_with_dilation should be None \"\n",
    "                             \"or a 3-element tuple, got {}\".format(replace_stride_with_dilation))\n",
    "        \n",
    "        if norm_layer is None:\n",
    "            norm_layer = layer.BatchNorm2d\n",
    "        \n",
    "        self._norm_layer = norm_layer\n",
    "        self.inplanes = 64\n",
    "        self.dilation = 1\n",
    "        self.T = T\n",
    "        self.connect_f = connect_f\n",
    "        self.groups = groups\n",
    "        self.base_width = width_per_group\n",
    "        self.drops = drops\n",
    "        self.data_type = data_type\n",
    "        self.net_type = net_type\n",
    "        \n",
    "        self.layer01 = nn.Sequential(\n",
    "            layer.Conv2d(input_channels, self.inplanes, kernel_size=7, stride=2, padding=3, bias=False),\n",
    "            norm_layer(self.inplanes))\n",
    "        \n",
    "        self.layer01s = nn.Sequential(\n",
    "            layer.Conv2d(input_channels, self.inplanes, kernel_size=7, stride=2, padding=3, bias=False),\n",
    "            norm_layer(self.inplanes))\n",
    "        functional.set_step_mode(self.layer01s, step_mode='m')\n",
    "        \n",
    "        self.layer02 = nn.Sequential(\n",
    "            neuron.IFNode(surrogate_function=surrogate.ATan()),\n",
    "            layer.MaxPool2d(kernel_size=3, stride=2, padding=1))\n",
    "        functional.set_step_mode(self.layer02, step_mode='m')\n",
    "\n",
    "        self.layer1 = self._make_layer(block, 64, layers[0], connect_f=connect_f)\n",
    "        self.dp1 = layer.Dropout(p[0])\n",
    "        self.layer2 = self._make_layer(block, 128, layers[1], stride=2,\n",
    "                                       dilate=replace_stride_with_dilation[0], connect_f=connect_f)\n",
    "        self.dp2 = layer.Dropout(p[1])\n",
    "        self.layer3 = self._make_layer(block, 256, layers[2], stride=2,\n",
    "                                       dilate=replace_stride_with_dilation[1], connect_f=connect_f)\n",
    "        self.dp3 = layer.Dropout(p[2])\n",
    "        self.layer4 = self._make_layer(block, 512, layers[3], stride=2,\n",
    "                                       dilate=replace_stride_with_dilation[2], connect_f=connect_f)\n",
    "        self.dp4 = layer.Dropout(p[3])\n",
    "        self.avgpool = layer.AdaptiveAvgPool2d((1, 1))\n",
    "        # 最后一层的通道输出需要乘以扩张率\n",
    "        self.fc = layer.Linear(512 * block.expansion, num_classes)\n",
    "\n",
    "        for m in self.modules():\n",
    "            if isinstance(m, layer.Conv2d):\n",
    "                nn.init.kaiming_normal_(m.weight, mode='fan_out', nonlinearity='relu')\n",
    "            elif isinstance(m, (layer.BatchNorm2d, layer.GroupNorm)):\n",
    "                nn.init.constant_(m.weight, 1)\n",
    "                nn.init.constant_(m.bias, 0)\n",
    "\n",
    "        if zero_init_residual:\n",
    "            zero_init_blocks(self, connect_f)\n",
    "    def _make_layer(self, block, planes, blocks, stride=1, dilate=False, connect_f=None):\n",
    "        norm_layer = self._norm_layer\n",
    "        downsample = None\n",
    "        previous_dilation = self.dilation\n",
    "        \n",
    "        # 使用扩张率代替步长\n",
    "        if dilate:\n",
    "            self.dilation *= stride\n",
    "            stride = 1\n",
    "        \n",
    "        # 步长不等于1的时候，当然我们需要使用下采样层，当步长为1，但是在一个Block中，输入通道数不等于输出通道数的时候，\n",
    "        # 我们仍然需要使用下采样层，因为我们每一个block块的输出一定是 planes * block.expansion，输入一定是self.inplanes\n",
    "        if stride != 1 or self.inplanes != planes * block.expansion:\n",
    "            downsample = nn.Sequential(\n",
    "                    layer.Conv2d(self.inplanes, planes * block.expansion, kernel_size=1, stride = stride, bias=False),\n",
    "                    norm_layer(planes * block.expansion),\n",
    "                    neuron.IFNode(surrogate_function=surrogate.ATan()))\n",
    "            functional.set_step_mode(downsample, step_mode='m')\n",
    "            \n",
    "        layers = []\n",
    "        layers.append(block(self.inplanes, planes, stride, downsample, self.groups,\n",
    "                            self.base_width, previous_dilation, norm_layer, connect_f))\n",
    "        # 注意经过一个block之后，输入会发生通道的变化。\n",
    "        self.inplanes = planes * block.expansion\n",
    "        \n",
    "        for _ in range(1, blocks):\n",
    "            layers.append(block(self.inplanes, planes, groups=self.groups,\n",
    "                                base_width=self.base_width, dilation=self.dilation,\n",
    "                                norm_layer=norm_layer, connect_f=connect_f))\n",
    "\n",
    "        return nn.Sequential(*layers)\n",
    "\n",
    "    def _forward_impl(self, x):\n",
    "        if self.data_type == 0:\n",
    "            if self.net_type == 0:\n",
    "                x = self.layer01(x)\n",
    "                x.unsqueeze_(0) # 这一步经过实验可以去掉，因为x.repeat会自动添加维度\n",
    "                x = x.repeat(self.T, 1, 1, 1, 1)  # T,B,C,H,W\n",
    "            else:\n",
    "                x.unsqueeze_(0) # 这一步经过实验可以去掉，因为x.repeat会自动添加维度\n",
    "                x = x.repeat(self.T, 1, 1, 1, 1)  # T,B,C,H,W\n",
    "                x = self.layer01s(x)\n",
    "        else:\n",
    "            x = self.layer01s(x)\n",
    "        x = self.layer02(x)\n",
    "        x = self.layer1(x)\n",
    "        if self.drops[0]:\n",
    "            x = self.dp1(x)\n",
    "        x = self.layer2(x)\n",
    "        if self.drops[1]:\n",
    "            x = self.dp2(x)\n",
    "        x = self.layer3(x)\n",
    "        if self.drops[2]:\n",
    "            x = self.dp3(x)\n",
    "        x = self.layer4(x)\n",
    "        if self.drops[3]:\n",
    "            x = self.dp4(x)\n",
    "\n",
    "        x = self.avgpool(x)\n",
    "        x = torch.flatten(x, 2) # 将C,H,W合并为一体\n",
    "        return self.fc(x.mean(dim=0)) # 首先在T这个维度求平均，接着使用Linear层\n",
    "\n",
    "    def forward(self, x):\n",
    "        return self._forward_impl(x)\n",
    "    \n",
    "def _sew_resnet(block, layers, **kwargs):\n",
    "    model = SEWResNet(block, layers, **kwargs)\n",
    "    return model\n",
    "\n",
    "\n",
    "def sew_resnet18(**kwargs):\n",
    "    return _sew_resnet(BasicBlock, [2, 2, 2, 2], **kwargs)\n",
    "\n",
    "\n",
    "def sew_resnet34(**kwargs):\n",
    "    return _sew_resnet(BasicBlock, [3, 4, 6, 3], **kwargs)\n",
    "\n",
    "\n",
    "def sew_resnet50(**kwargs):\n",
    "    return _sew_resnet(Bottleneck, [3, 4, 6, 3], **kwargs)\n",
    "\n",
    "\n",
    "def sew_resnet101(**kwargs):\n",
    "    return _sew_resnet(Bottleneck, [3, 4, 23, 3], **kwargs)\n",
    "\n",
    "\n",
    "def sew_resnet152(**kwargs):\n",
    "    return _sew_resnet(Bottleneck, [3, 8, 36, 3], **kwargs)"
   ]
  },
  {
   "cell_type": "markdown",
   "id": "7749ebdf",
   "metadata": {},
   "source": [
    "spiking_resnet"
   ]
  },
  {
   "cell_type": "code",
   "execution_count": 9,
   "id": "2b3c8dc7",
   "metadata": {},
   "outputs": [],
   "source": [
    "# spiking_resnet网络的实现\n",
    "class SP_BasicBlock(nn.Module):\n",
    "    \"\"\"\n",
    "    实现ResNet网络的第一个基础架构\n",
    "    \"\"\"\n",
    "    expansion = 1\n",
    "    def __init__(self, inplanes, planes, stride=1, downsample=None, groups=1,\n",
    "                 base_width=64, dilation=1, norm_layer=None, connect_f=None):\n",
    "        super(SP_BasicBlock, self).__init__()\n",
    "        \n",
    "        self.connect_f = connect_f\n",
    "        \n",
    "        if norm_layer is None:\n",
    "            norm_layer = layer.BatchNorm2d\n",
    "        if groups != 1 or base_width != 64:\n",
    "            raise ValueError('SpikingBasicBlock only supports groups=1 and base_width=64')\n",
    "        if dilation > 1:\n",
    "            raise NotImplementedError(\"Dilation > 1 not supported in SpikingBasicBlock\")\n",
    "\n",
    "        self.layer1 = nn.Sequential(\n",
    "            layer.Conv2d(inplanes, planes, kernel_size=3, stride = stride, padding=1, bias=False),\n",
    "            norm_layer(planes),\n",
    "            neuron.IFNode(surrogate_function=surrogate.ATan()))\n",
    "        \n",
    "        self.layer2 = nn.Sequential(\n",
    "            layer.Conv2d(planes, planes, kernel_size=3, padding=1, bias=False),\n",
    "            norm_layer(planes),\n",
    "            )\n",
    "        \n",
    "        self.sn2 = neuron.IFNode(surrogate_function=surrogate.ATan())\n",
    "\n",
    "        self.downsample = downsample\n",
    "        \n",
    "        # 设置所有的层为多步模式\n",
    "        functional.set_step_mode(self, step_mode='m')\n",
    "\n",
    "    def forward(self, x):\n",
    "        identity = x\n",
    "        out = self.layer2(self.layer1(x))\n",
    "\n",
    "        if self.downsample is not None:\n",
    "            identity = self.downsample(x)\n",
    "\n",
    "        out += identity\n",
    "        \n",
    "        return self.sn2(out)\n",
    "\n",
    "\n",
    "class SP_Bottleneck(nn.Module):\n",
    "    \"\"\"\n",
    "    实现ResNet网络的瓶颈架构\n",
    "    \"\"\"\n",
    "    expansion = 4\n",
    "    def __init__(self, inplanes, planes, stride=1, downsample=None, groups=1,\n",
    "                 base_width=64, dilation=1, norm_layer=None, connect_f=None):\n",
    "        super(SP_Bottleneck, self).__init__()\n",
    "        \n",
    "        self.connect_f = connect_f\n",
    "        \n",
    "        if norm_layer is None:\n",
    "            norm_layer = layer.BatchNorm2d\n",
    "        \n",
    "        width = int(planes * (base_width / 64.)) * groups\n",
    "        \n",
    "        self.layer1 = nn.Sequential(\n",
    "            layer.Conv2d(inplanes, width, kernel_size=1, bias=False),\n",
    "            norm_layer(width),\n",
    "            neuron.IFNode(surrogate_function=surrogate.ATan()))\n",
    "        \n",
    "        self.layer2 = nn.Sequential(\n",
    "            layer.Conv2d(width, width, kernel_size=3, stride = stride, padding=1, groups = groups, dilation = dilation, bias=False),\n",
    "            norm_layer(width),\n",
    "            neuron.IFNode(surrogate_function=surrogate.ATan()))\n",
    "        \n",
    "        self.layer3 = nn.Sequential(\n",
    "            layer.Conv2d(width, planes * self.expansion, kernel_size=1, bias=False),\n",
    "            norm_layer(planes * self.expansion))\n",
    "        \n",
    "        self.sn3 = neuron.IFNode(surrogate_function=surrogate.ATan())\n",
    "   \n",
    "        self.downsample = downsample\n",
    "        \n",
    "        functional.set_step_mode(self, step_mode='m')\n",
    "\n",
    "    def forward(self, x):\n",
    "        identity = x\n",
    "        out = self.layer3(self.layer2(self.layer1(x)))\n",
    "        \n",
    "        if self.downsample is not None:\n",
    "            identity = self.downsample(x)\n",
    "        \n",
    "        out += identity\n",
    "\n",
    "        return self.sn3(out)\n",
    "\n",
    "# 对这两个架构的最后一层中的 BN 层进行设置，权重为0，且当连接方式为AND时，偏差置为1\n",
    "def SP_zero_init_blocks(net: nn.Module, connect_f: str):\n",
    "    for m in net.modules():\n",
    "        if isinstance(m, Bottleneck):\n",
    "            nn.init.constant_(m.layer3.module[1].weight, 0)\n",
    "        elif isinstance(m, BasicBlock):\n",
    "            nn.init.constant_(m.layer2.module[1].weight, 0)\n",
    "\n",
    "class SpikingResNet(nn.Module):\n",
    "\n",
    "    def __init__(self, block, layers, input_channels = 3, num_classes=1000, zero_init_residual=False,\n",
    "                 groups=1, width_per_group=64, replace_stride_with_dilation=None,\n",
    "                 norm_layer=None, T=4, connect_f=None):\n",
    "        super(SpikingResNet, self).__init__()\n",
    "        \n",
    "        # 是否使用扩张率代替步长，一般这个操作应该用不上\n",
    "        if replace_stride_with_dilation is None:\n",
    "            replace_stride_with_dilation = [False, False, False]\n",
    "        if len(replace_stride_with_dilation) != 3:\n",
    "            raise ValueError(\"replace_stride_with_dilation should be None \"\n",
    "                             \"or a 3-element tuple, got {}\".format(replace_stride_with_dilation))\n",
    "        \n",
    "        if norm_layer is None:\n",
    "            norm_layer = layer.BatchNorm2d\n",
    "        \n",
    "        self._norm_layer = norm_layer\n",
    "        self.inplanes = 64\n",
    "        self.dilation = 1\n",
    "        self.T = T\n",
    "        self.connect_f = connect_f\n",
    "        self.groups = groups\n",
    "        self.base_width = width_per_group\n",
    "        \n",
    "        self.layer01 = nn.Sequential(\n",
    "            layer.Conv2d(input_channels, self.inplanes, kernel_size=7, stride=2, padding=3, bias=False),\n",
    "            norm_layer(self.inplanes))\n",
    "        \n",
    "        self.layer02 = nn.Sequential(\n",
    "            neuron.IFNode(surrogate_function=surrogate.ATan()),\n",
    "            layer.MaxPool2d(kernel_size=3, stride=2, padding=1))\n",
    "        functional.set_step_mode(self.layer02, step_mode='m')\n",
    "\n",
    "        self.layer1 = self._make_layer(block, 64, layers[0], connect_f=connect_f)\n",
    "        self.layer2 = self._make_layer(block, 128, layers[1], stride=2,\n",
    "                                       dilate=replace_stride_with_dilation[0], connect_f=connect_f)\n",
    "        self.layer3 = self._make_layer(block, 256, layers[2], stride=2,\n",
    "                                       dilate=replace_stride_with_dilation[1], connect_f=connect_f)\n",
    "        self.layer4 = self._make_layer(block, 512, layers[3], stride=2,\n",
    "                                       dilate=replace_stride_with_dilation[2], connect_f=connect_f)\n",
    "        self.avgpool = layer.AdaptiveAvgPool2d((1, 1))\n",
    "        # 最后一层的通道输出需要乘以扩张率\n",
    "        self.fc = layer.Linear(512 * block.expansion, num_classes)\n",
    "\n",
    "        for m in self.modules():\n",
    "            if isinstance(m, layer.Conv2d):\n",
    "                nn.init.kaiming_normal_(m.weight, mode='fan_out', nonlinearity='relu')\n",
    "            elif isinstance(m, (layer.BatchNorm2d, layer.GroupNorm)):\n",
    "                nn.init.constant_(m.weight, 1)\n",
    "                nn.init.constant_(m.bias, 0)\n",
    "\n",
    "        if zero_init_residual:\n",
    "            SP_zero_init_blocks(self, connect_f)\n",
    "        \n",
    "        \n",
    "\n",
    "    def _make_layer(self, block, planes, blocks, stride=1, dilate=False, connect_f=None):\n",
    "        norm_layer = self._norm_layer\n",
    "        downsample = None\n",
    "        previous_dilation = self.dilation\n",
    "        \n",
    "        # 使用扩张率代替步长\n",
    "        if dilate:\n",
    "            self.dilation *= stride\n",
    "            stride = 1\n",
    "        \n",
    "        # 步长不等于1的时候，当然我们需要使用下采样层，当步长为1，但是在一个Block中，输入通道数不等于输出通道数的时候，\n",
    "        # 我们仍然需要使用下采样层，因为我们每一个block块的输出一定是 planes * block.expansion，输入一定是self.inplanes\n",
    "        if stride != 1 or self.inplanes != planes * block.expansion:\n",
    "            downsample = nn.Sequential(\n",
    "                    layer.Conv2d(self.inplanes, planes * block.expansion, kernel_size=1, stride = stride, bias=False),\n",
    "                    norm_layer(planes * block.expansion))\n",
    "            functional.set_step_mode(downsample, step_mode='m')\n",
    "#             functional.set_step_mode(downsample, step_mode='m')   \n",
    "# 经过测试，如果需要整个网络为多步，只需要init函数尾部设置functional.set_step_mode(self, step_mode='m')\n",
    "            \n",
    "        layers = []\n",
    "        layers.append(block(self.inplanes, planes, stride, downsample, self.groups,\n",
    "                            self.base_width, previous_dilation, norm_layer, connect_f))\n",
    "        # 注意经过一个block之后，输入会发生通道的变化。\n",
    "        self.inplanes = planes * block.expansion\n",
    "        \n",
    "        for _ in range(1, blocks):\n",
    "            layers.append(block(self.inplanes, planes, groups=self.groups,\n",
    "                                base_width=self.base_width, dilation=self.dilation,\n",
    "                                norm_layer=norm_layer, connect_f=connect_f))\n",
    "\n",
    "        return nn.Sequential(*layers)\n",
    "    \n",
    "\n",
    "\n",
    "    def _forward_impl(self, x):\n",
    "        x = self.layer01(x)\n",
    "        # 将前面的层当成数据的变化，但是一般来说应该是先输入脉冲之后，在进行各种变化，所以从直觉上这种输入是否符合逻辑？\n",
    "        x.unsqueeze_(0) # 这一步经过实验可以去掉，因为x.repeat会自动添加维度\n",
    "        x = x.repeat(self.T, 1, 1, 1, 1)  # T,B,C,H,W\n",
    "        x = self.layer02(x)\n",
    "        x = self.layer1(x)\n",
    "        x = self.layer2(x)\n",
    "        x = self.layer3(x)\n",
    "        x = self.layer4(x)\n",
    "\n",
    "        x = self.avgpool(x)\n",
    "        x = torch.flatten(x, 2) # 将C,H,W合并为一体\n",
    "        return self.fc(x.mean(dim=0)) # 首先在T这个维度求平均，接着使用Linear层\n",
    "\n",
    "    def forward(self, x):\n",
    "        return self._forward_impl(x)\n",
    "    \n",
    "def _spiking_resnet(block, layers, **kwargs):\n",
    "    model = SpikingResNet(block, layers, **kwargs)\n",
    "    return model\n",
    "\n",
    "\n",
    "def spiking_resnet18(**kwargs):\n",
    "    return _spiking_resnet(SP_BasicBlock, [2, 2, 2, 2], **kwargs)\n",
    "\n",
    "\n",
    "def spiking_resnet34(**kwargs):\n",
    "    return _spiking_resnet(SP_BasicBlock, [3, 4, 6, 3], **kwargs)\n",
    "\n",
    "\n",
    "def spiking_resnet50(**kwargs):\n",
    "    return _spiking_resnet(SP_Bottleneck, [3, 4, 6, 3], **kwargs)\n",
    "\n",
    "\n",
    "def spiking_resnet101(**kwargs):\n",
    "    return _spiking_resnet(SP_Bottleneck, [3, 4, 23, 3], **kwargs)\n",
    "\n",
    "\n",
    "def spiking_resnet152(**kwargs):\n",
    "    return _spiking_resnet(SP_Bottleneck, [3, 8, 36, 3], **kwargs)"
   ]
  },
  {
   "cell_type": "code",
   "execution_count": null,
   "id": "706aa218",
   "metadata": {},
   "outputs": [],
   "source": []
  },
  {
   "cell_type": "code",
   "execution_count": null,
   "id": "ce4d5445",
   "metadata": {},
   "outputs": [],
   "source": []
  },
  {
   "cell_type": "code",
   "execution_count": 15,
   "id": "26235544",
   "metadata": {
    "collapsed": true
   },
   "outputs": [
    {
     "name": "stdout",
     "output_type": "stream",
     "text": [
      "Generated sample from Beta(α, α): [7.69254294e-01 6.82169557e-01 5.41111777e-02 9.81352792e-01\n",
      " 9.83544432e-01 9.44864717e-01 5.54316895e-01 6.32308468e-01\n",
      " 1.95304326e-03 8.05738657e-01 3.34061244e-01 4.70213860e-01\n",
      " 9.09321858e-01 7.53978698e-01 9.73437209e-01 2.36890130e-01\n",
      " 4.62765527e-02 5.34070726e-01 7.57592867e-01 5.73669040e-01\n",
      " 2.76323232e-02 1.40909463e-03 8.54654881e-01 9.00202148e-01\n",
      " 1.05254342e-01 9.14473352e-01 1.52089354e-01 1.35539293e-01\n",
      " 5.56283981e-03 9.37113986e-01 5.62578591e-01 3.52073277e-02\n",
      " 5.97569709e-01 7.62107939e-02 6.67571751e-01 4.81259525e-01\n",
      " 5.29438349e-01 9.52618847e-02 9.70015451e-01 9.22444655e-01\n",
      " 1.91506023e-02 7.49689384e-02 7.82686300e-01 1.36229635e-02\n",
      " 7.34315760e-01 7.26921131e-01 5.78445455e-02 9.66826472e-01\n",
      " 5.62070957e-01 6.50830955e-01 7.21960688e-04 8.46129465e-01\n",
      " 1.76317365e-01 3.13553202e-01 5.95132915e-01 9.97739070e-01\n",
      " 8.14094671e-02 5.13768617e-01 9.96616704e-01 8.19866469e-01\n",
      " 2.38281395e-01 2.80337392e-01 2.63078962e-01 1.99109907e-03\n",
      " 9.83223657e-01 8.62820012e-01 8.28906046e-01 9.73026517e-01\n",
      " 8.35982915e-01 6.35104963e-01 2.45799375e-01 6.15454573e-01\n",
      " 1.79049210e-01 9.78197544e-01 5.07370255e-01 9.15969097e-01\n",
      " 6.74056135e-04 2.04649028e-01 9.17729847e-01 2.52911202e-01\n",
      " 3.10616541e-01 2.21269802e-02 3.28360633e-01 9.83056959e-01\n",
      " 3.11447734e-02 7.40415935e-02 2.78762790e-01 8.79823278e-01\n",
      " 9.68022805e-01 9.98329727e-01 6.54687645e-02 3.02865244e-01\n",
      " 5.67787985e-01 8.27066689e-01 6.36391517e-01 9.67475777e-01\n",
      " 3.32587540e-01 5.02055481e-03 9.60410858e-01 5.27129304e-02]\n"
     ]
    }
   ],
   "source": [
    "import numpy as np\n",
    "import matplotlib.pyplot as plt\n",
    "\n",
    "# 定义参数\n",
    "alpha = 0.5  # 可以选择不同的 α 值\n",
    "\n",
    "# 从 Beta(α, α) 分布中生成一个样本\n",
    "sample = np.random.beta(alpha, alpha, 100)\n",
    "\n",
    "print(\"Generated sample from Beta(α, α):\", sample)"
   ]
  },
  {
   "cell_type": "code",
   "execution_count": 45,
   "id": "f24e7920",
   "metadata": {},
   "outputs": [
    {
     "data": {
      "image/png": "[encoded data removed]",
      "text/plain": [
       "<Figure size 640x480 with 1 Axes>"
      ]
     },
     "metadata": {},
     "output_type": "display_data"
    }
   ],
   "source": [
    "import numpy as np\n",
    "import matplotlib.pyplot as plt\n",
    "from scipy.stats import beta\n",
    "\n",
    "# 定义不同的 α 值\n",
    "alpha_values = [0.2, 1.0, 2.0, 5.0]\n",
    "samples = []\n",
    "\n",
    "# 为每个 α 值生成样本\n",
    "for alpha in alpha_values:\n",
    "    sample = beta.rvs(a=alpha, b=alpha, size=1000)\n",
    "    samples.append(sample)\n",
    "\n",
    "# # 绘制概率密度图\n",
    "# plt.figure(figsize=(10, 6))\n",
    "# for i, alpha in enumerate(alpha_values):\n",
    "#     plt.hist(samples[i], bins=30, density=True, alpha=0.5, label=f'α={alpha}')\n",
    "\n",
    "# 绘制 Beta 分布的理论概率密度\n",
    "x = np.linspace(0, 1, 100)\n",
    "for alpha in alpha_values:\n",
    "    y = beta.pdf(x, a=alpha, b=alpha)\n",
    "#     y = (y-np.min(y)) / (np.max(y) - np.min(y))\n",
    "    plt.plot(x, y, label=f'Theoretical PDF α={alpha}')\n",
    "\n",
    "plt.title(\"Variations of Beta(α, α) Distribution\")\n",
    "plt.xlabel(\"x\")\n",
    "plt.ylabel(\"Density\")\n",
    "plt.legend()\n",
    "plt.grid()\n",
    "plt.show()"
   ]
  },
  {
   "cell_type": "code",
   "execution_count": null,
   "id": "8ae70c6a",
   "metadata": {},
   "outputs": [],
   "source": []
  },
  {
   "cell_type": "code",
   "execution_count": 1,
   "id": "ba404b2c",
   "metadata": {},
   "outputs": [
    {
     "name": "stdout",
     "output_type": "stream",
     "text": [
      "CUDA is available!\n",
      "Device count: 1\n",
      "Device name: NVIDIA GeForce RTX 4070 Laptop GPU\n"
     ]
    }
   ],
   "source": [
    "import torch\n",
    "\n",
    "# 检查是否有可用的 CUDA 设备\n",
    "if torch.cuda.is_available():\n",
    "    print(\"CUDA is available!\")\n",
    "    print(f\"Device count: {torch.cuda.device_count()}\")\n",
    "    print(f\"Device name: {torch.cuda.get_device_name(0)}\")\n",
    "else:\n",
    "    print(\"CUDA is not available.\")"
   ]
  },
  {
   "cell_type": "code",
   "execution_count": null,
   "id": "1907d734",
   "metadata": {},
   "outputs": [],
   "source": []
  }
 ],
 "metadata": {
  "kernelspec": {
   "display_name": "Python (my_torch)",
   "language": "python",
   "name": "my_torch"
  },
  "language_info": {
   "codemirror_mode": {
    "name": "ipython",
    "version": 3
   },
   "file_extension": ".py",
   "mimetype": "text/x-python",
   "name": "python",
   "nbconvert_exporter": "python",
   "pygments_lexer": "ipython3",
   "version": "3.11.10"
  }
 },
 "nbformat": 4,
 "nbformat_minor": 5
}
